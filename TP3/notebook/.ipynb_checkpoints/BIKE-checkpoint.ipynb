{
 "cells": [
  {
   "cell_type": "markdown",
   "id": "cc804344-9ee6-4fcc-9fda-8d704371098a",
   "metadata": {},
   "source": [
    "# TP1\n",
    "## Grupo 17:\n",
    "**PG50315 - David Alexandre Ferreira Duarte**\n",
    "\n",
    "**PG51247 - João Rafael Cerqueira Monteiro**"
   ]
  },
  {
   "cell_type": "markdown",
   "id": "b227dabd-a6c7-4e40-accb-a011ebdd9952",
   "metadata": {},
   "source": [
    "## Exercício 1. \n",
    "\n",
    "1. Este problema  é dedicado às candidaturas finalistas ao concurso NIST Post-Quantum Cryptography na categoria de criptosistemas PKE-KEM. \n",
    "    Em Julho de 2022  foi selecionada para “standartização” a candidatura KYBER. Existe ainda uma fase não concluída do concurso onde poderá ser acrescentada alguma outra candidatura; destas destaco o algoritmo BIKE. Ao contrário do Kyber que é baseado no problema “Ring Learning With Errors” (RLWE) , o algoritmo BIKE baseia-se no problema da descodificação de códigos lineares de baixa densidade que são simples de implementar.\n",
    "    A descrição, outra documentação e implementações em C/C++ destas candidaturas pode ser obtida na página do concurso NIST  ou na diretoria Docs/PQC.\n",
    "\n",
    "\n",
    "    1. O objetivo deste trabalho é a criação de protótipos em Sagemath para os algoritmos  KYBER e BIKE.\n",
    "    2. Para cada uma destas técnicas pretende-se implementar um KEM, que seja IND-CPA seguro, e um PKE que seja IND-CCA seguro."
   ]
  },
  {
   "cell_type": "code",
   "execution_count": null,
   "id": "c1fbc35d-dbc4-47a4-9ec7-64608b3c45df",
   "metadata": {},
   "outputs": [],
   "source": []
  }
 ],
 "metadata": {
  "kernelspec": {
   "display_name": "SageMath 9.8",
   "language": "sage",
   "name": "sagemath"
  },
  "language_info": {
   "codemirror_mode": {
    "name": "ipython",
    "version": 3
   },
   "file_extension": ".py",
   "mimetype": "text/x-python",
   "name": "python",
   "nbconvert_exporter": "python",
   "pygments_lexer": "ipython3",
   "version": "3.9.16"
  }
 },
 "nbformat": 4,
 "nbformat_minor": 5
}
