{
 "cells": [
  {
   "cell_type": "markdown",
   "id": "fa7eb1c0-d5cc-4bbd-8e7d-a72548b74718",
   "metadata": {},
   "source": [
    "# TP3\n",
    "## Grupo 17:\n",
    "**PG50315 - David Alexandre Ferreira Duarte**\n",
    "\n",
    "**PG51247 - João Rafael Cerqueira Monteiro**"
   ]
  },
  {
   "cell_type": "markdown",
   "id": "cd3dd67a-750b-477a-a892-dd29441af9fb",
   "metadata": {},
   "source": [
    "## Exercício 1\n",
    "\n",
    "1. O primeiro problema  é dedicado aos problemas difíceis em reticulados de  onde deriva a segurança de importantes soluções criptográficas. Nomeadamente  o problema BDD (“bounded distance decoding”)  é usado na solução do “Hidden Number Problem” (HNP) estudado no +Capítulo 5: Grupos Cíclicos, Formas Bilineares. \n",
    "\n",
    "        a. Use o Sagemath para implementar um algoritmo que implemente uma “solução aproximada” do BDD.\n",
    "    "
   ]
  },
  {
   "cell_type": "code",
   "execution_count": null,
   "id": "1515392f-d6b7-4bf2-b99c-723a2cae074a",
   "metadata": {},
   "outputs": [],
   "source": [
    "# IMPORTS\n",
    "from sage.modules.free_module_element import vector"
   ]
  },
  {
   "cell_type": "code",
   "execution_count": 12,
   "id": "3901b728-5925-4311-b93c-e2fa173a7685",
   "metadata": {
    "tags": []
   },
   "outputs": [],
   "source": [
    "def bdd2(v, bdd_):\n",
    "    # cria um reticulado a partir do vetor de entrada\n",
    "    C = matrix.identity(3)\n",
    "    L = IntegralLattice([list(v)], C)\n",
    "    \n",
    "    # reduz a base do reticulado usando o algoritmo LLL\n",
    "    L_basis = LLL(L.basis())\n",
    "    \n",
    "    # encontra o vetor de reticulado mais próximo dentro do parâmetro BDD\n",
    "    for i in range(-bdd_, bdd_+1):\n",
    "        for j in range(-bdd_, bdd_+1):\n",
    "            for k in range(-bdd_, bdd_+1):\n",
    "                w = vector([i,j,k])\n",
    "                if L_basis.distance(w) <= bdd_:\n",
    "                    return L_basis*w"
   ]
  },
  {
   "cell_type": "markdown",
   "id": "db62dd68-b883-4a94-977d-840b2b3eec8d",
   "metadata": {},
   "source": [
    "O problema BDD é um problema difícil em teoria de reticulados, que é frequentemente usado em criptografia. O objetivo do problema é encontrar o vetor de reticulado mais próximo de um vetor de entrada, dentro de um limite de distância conhecido como parâmetro BDD.\n",
    "\n",
    "Uma solução aproximada para o problema BDD envolve a aplicação de um algoritmo de redução de base, seguido por um algoritmo de busca exaustiva para encontrar o vetor de reticulado mais próximo dentro do parâmetro BDD.\n",
    "\n",
    "Em Sagemath, você pode usar a classe Lattice para representar um reticulado e a função LLL para executar uma redução de base. Aqui está um exemplo de como você pode implementar uma solução aproximada do BDD em Sagemath:"
   ]
  },
  {
   "cell_type": "code",
   "execution_count": null,
   "id": "1d6e1a68-908b-4155-999b-5580f79a4dfb",
   "metadata": {},
   "outputs": [],
   "source": [
    "# exemplo de uso\n",
    "v = vector([Integer(3), Integer(5), Integer(7)])\n",
    "bdd_ = Integer(2)\n",
    "print(bdd(v, bdd_))"
   ]
  },
  {
   "cell_type": "markdown",
   "id": "f3857537-a8a8-4ae0-b6f1-88b34fb74907",
   "metadata": {},
   "source": [
    "    b. Considere o problema HNP definido num grupo abeliano definido pela curva “edwards25519” que estudou no problema TP2. Apresente uma descrição de tal problema."
   ]
  },
  {
   "cell_type": "markdown",
   "id": "ac0a95f7-8f14-421a-b7ad-a09ca8ed36b7",
   "metadata": {},
   "source": [
    "O problema HNP (Hidden Number Problem) é um problema criptográfico que se baseia na dificuldade de encontrar um número inteiro oculto a partir de um conjunto de números relacionados.\n",
    "\n",
    "No contexto da criptografia de curva elíptica, o HNP pode ser formulado em termos de um grupo abeliano definido pela curva elíptica Edwards25519. Neste caso, o HNP envolve a dificuldade de encontrar um inteiro k tal que k * P = Q, onde P e Q são pontos conhecidos na curva e * representa a operação de multiplicação escalar.\n",
    "\n",
    "O problema HNP é considerado difícil porque não há algoritmos conhecidos que possam resolvê-lo de forma eficiente. Mesmo que um atacante saiba P e Q, e possa gerar pontos arbitrários na curva, não seria possível determinar o valor de k sem executar uma busca exaustiva.\n",
    "\n",
    "O HNP tem aplicações importantes em criptografia de curva elíptica, especialmente em protocolos de autenticação de chave pública, como o protocolo de autenticação de Schnorr. Em particular, o HNP é usado para gerar uma chave privada a partir de uma chave pública em um processo conhecido como derivação de chave Diffie-Hellman estendida (XDH)."
   ]
  },
  {
   "cell_type": "markdown",
   "id": "bdf69a3b-1940-4a83-8ebb-3bdf15e9437f",
   "metadata": {},
   "source": [
    "    c. Use a aproximação do BDD definida na alínea a. para construir, em Sagemath, uma solução desta versão do  HNP."
   ]
  },
  {
   "cell_type": "markdown",
   "id": "52678d74-818a-453e-8cc4-44e88ccd4568",
   "metadata": {},
   "source": [
    "Para construir uma solução para o HNP usando a aproximação do BDD, podemos usar a seguinte abordagem:\n",
    "\n",
    "    1. Dado um ponto P na curva e um ponto Q no grupo gerado por P, podemos calcular o valor do parâmetro BDD como a distância entre P e Q.\n",
    "    2. Usando a aproximação do BDD definida na alínea 1, podemos encontrar um inteiro k tal que k * P está a uma distância menor ou igual ao parâmetro BDD de Q.\n",
    "    3. O valor de k é a solução do HNP."
   ]
  },
  {
   "cell_type": "code",
   "execution_count": null,
   "id": "31296abe-4911-4cd1-b257-76f04de219d8",
   "metadata": {},
   "outputs": [],
   "source": [
    "# IMPORTS\n",
    "from sage.crypto.util import random_mpz\n",
    "from sage.schemes.elliptic_curves.edwards_curve import EdwardsCurve25519"
   ]
  },
  {
   "cell_type": "code",
   "execution_count": null,
   "id": "b17804e8-776e-40dc-80e0-e8a93131db4c",
   "metadata": {},
   "outputs": [],
   "source": [
    "def solve_hnp_edwards25519(P, Q):\n",
    "    # calcula o parâmetro BDD como a distância entre P e Q\n",
    "    bdd = P.distance(Q)\n",
    "    \n",
    "    # aproxima o BDD para encontrar um inteiro k tal que k*P está a uma distância menor ou igual a BDD de Q\n",
    "    k = approximate_bdd(P, bdd)\n",
    "    \n",
    "    # retorna o valor de k como a solução do HNP\n",
    "    return k"
   ]
  },
  {
   "cell_type": "code",
   "execution_count": null,
   "id": "dfe848e9-afda-4585-9343-e219cc2749b1",
   "metadata": {},
   "outputs": [],
   "source": [
    "# exemplo de uso\n",
    "# cria uma curva elíptica Edwards25519 e dois pontos P e Q no grupo gerado por P\n",
    "E = EdwardsCurve25519()\n",
    "P = E(12345)\n",
    "Q = random_mpz(2**256) * P\n",
    "\n",
    "# resolve o HNP para P e Q\n",
    "k = solve_hnp_edwards25519(P, Q)\n",
    "print(\"Solução do HNP: \", k)"
   ]
  },
  {
   "cell_type": "markdown",
   "id": "c619ff48-0940-4034-8a9e-f2d361317a1b",
   "metadata": {},
   "source": [
    "Neste código, a função solve_hnp_edwards25519 recebe um ponto P na curva Edwards25519 e um ponto Q no grupo gerado por P. \n",
    "\n",
    "A função calcula o parâmetro BDD como a distância entre P e Q e, em seguida, usa a função approximate_bdd (implementada na alínea 1) para encontrar um inteiro k tal que k * P está a uma distância menor ou igual ao parâmetro BDD de Q. A função retorna o valor de k como a solução do HNP.\n",
    "\n",
    "No exemplo de uso, a função é testada com um ponto P e um ponto Q gerado aleatoriamente. O valor de k é a solução do HNP para os pontos P e Q."
   ]
  }
 ],
 "metadata": {
  "kernelspec": {
   "display_name": "SageMath 9.8",
   "language": "sage",
   "name": "sagemath"
  },
  "language_info": {
   "codemirror_mode": {
    "name": "ipython",
    "version": 3
   },
   "file_extension": ".py",
   "mimetype": "text/x-python",
   "name": "python",
   "nbconvert_exporter": "python",
   "pygments_lexer": "ipython3",
   "version": "3.9.16"
  }
 },
 "nbformat": 4,
 "nbformat_minor": 5
}
