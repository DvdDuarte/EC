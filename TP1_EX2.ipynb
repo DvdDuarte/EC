{
 "cells": [
  {
   "cell_type": "markdown",
   "id": "72824224-0160-466f-b5f0-3bcb08851898",
   "metadata": {
    "tags": []
   },
   "source": [
    "# TP1\n",
    "## Grupo 17:\n",
    "**PG50315 - David Alexandre Ferreira Duarte**\n",
    "\n",
    "**PG51247 - João Rafael Cerqueira Monteiro**"
   ]
  },
  {
   "cell_type": "markdown",
   "id": "ff404ae6-759a-4bd1-bd4d-140854f5b6f8",
   "metadata": {
    "tags": []
   },
   "source": [
    "## Exercício 2.\n",
    "Use o package Cryptography para criar uma cifra com autenticação de meta-dados a partir de um PRG\n",
    "    1. Criar um gerador pseudo-aleatório do tipo XOF (“extened output function”) usando o SHAKE256, para gerar uma sequência de palavras de 64 bits. \n",
    "        1. O gerador deve poder gerar até um limite de $$\\,2^n\\,$$ palavras ($$n$$ é  um parâmetro) armazenados em long integers do Python.\n",
    "        2. A “seed” do gerador funciona como $$\\mathtt{cipher\\_key}$$ e é gerado por um KDF a partir de uma “password” .\n",
    "        3. A autenticação do criptograma e dos dados associados é feita usando o próprio SHAKE256.\n",
    "    b. Defina os algoritmos de cifrar e decifrar : para cifrar/decifrar uma mensagem com blocos de 64 bits, os “outputs” do gerador são usados como máscaras XOR dos blocos da mensagem. \n",
    "    Essencialmente a cifra básica é uma implementação do  “One Time Pad”."
   ]
  },
  {
   "cell_type": "code",
   "execution_count": 5,
   "id": "ee412430-6a38-4a1f-865d-9eaefa46b2b6",
   "metadata": {},
   "outputs": [],
   "source": [
    "# Imports\n",
    "import os\n",
    "import time\n",
    "\n",
    "from cryptography.hazmat.primitives.kdf.pbkdf2 import PBKDF2HMAC\n",
    "from cryptography.hazmat.primitives import hashes, padding\n",
    "\n",
    "# n -> parametro necessário para gerar as palavaras\n",
    "N = 17\n",
    "BLOCKSIZE = 8 # 64 bits = 8 bytes"
   ]
  },
  {
   "cell_type": "code",
   "execution_count": 13,
   "id": "35162f9a-9f68-493e-bd33-dcdf0318550a",
   "metadata": {},
   "outputs": [],
   "source": [
    "def derivarChave(password, salt):\n",
    "    kdf = PBKDF2HMAC(\n",
    "        algorithm=hashes.SHA256(),\n",
    "        length=32,\n",
    "        salt=salt,\n",
    "        iterations=10000\n",
    "    )\n",
    "    chave = kdf.derive(password)\n",
    "    return chave"
   ]
  },
  {
   "cell_type": "code",
   "execution_count": 14,
   "id": "65bef471-03e3-41c5-94ce-848e5d808a5a",
   "metadata": {},
   "outputs": [],
   "source": [
    "def prg(seed):\n",
    "    digest = hashes.Hash(hashes.SHAKE256(BLOCKSIZE * pow(2,N)))\n",
    "    digest.update(seed)\n",
    "    palavras = digest.finalize()\n",
    "    return palavras"
   ]
  },
  {
   "cell_type": "code",
   "execution_count": 34,
   "id": "f879a8e8-ac4f-493c-af7b-bacc94812f61",
   "metadata": {},
   "outputs": [],
   "source": [
    "def cifrar(chave, mensagem):\n",
    "    textoCifrado = b''\n",
    "    padder = padding.PKCS7(64).padder()\n",
    "    \n",
    "    padded = padder.update(mensagem) + padder.finalize()\n",
    "    \n",
    "    mensagemBlocos = [padded[i:i + BLOCKSIZE] for i in range(0, len(padded), BLOCKSIZE)]\n",
    "    \n",
    "    for x in range(len(mensagemBlocos)):\n",
    "        for indice, byte in enumerate(mensagemBlocos[x]):\n",
    "            textoCifrado += bytes([byte ^ chave[x:(x+1) * BLOCKSIZE][indice]])\n",
    "    \n",
    "    return textoCifrado"
   ]
  },
  {
   "cell_type": "code",
   "execution_count": 35,
   "id": "5f5bc1ac-10cf-419d-919a-83162a3d437c",
   "metadata": {},
   "outputs": [],
   "source": [
    "def decifrar(chave, textoCifrado):\n",
    "    plainText = b''\n",
    "    \n",
    "    mensagemBlocos = [textoCifrado[i:i + BLOCKSIZE] for i in range(0, len(textoCifrado), BLOCKSIZE)]\n",
    "    \n",
    "    for x in range(len(mensagemBlocos)):\n",
    "        for indice, byte in enumerate(mensagemBlocos[x]):\n",
    "            plainText += bytes([byte ^ chave[x:(x+1) * BLOCKSIZE][indice]])\n",
    "    \n",
    "    unpadder = padding.PKCS7(64).unpadder()\n",
    "    \n",
    "    unpadded = unpadder.update(plainText) + unpadder.finalize()\n",
    "    \n",
    "    return unpadded.decode(\"utf-8\")"
   ]
  },
  {
   "cell_type": "code",
   "execution_count": 36,
   "id": "8948170e-1e89-491c-b2cf-bc22bacf763e",
   "metadata": {},
   "outputs": [],
   "source": [
    "def main(): \n",
    "    password = \"grupo17\"\n",
    "    \n",
    "    salt = os.urandom(17)\n",
    "    \n",
    "    seed = derivarChave(password.encode(\"utf-8\"), salt)\n",
    "    \n",
    "    chave = prg(seed)\n",
    "    \n",
    "    textoCifrado = cifrar(chave, \"Estruturas Criptograficas\".encode(\"utf-8\"))\n",
    "\n",
    "    print(\"Texto Cifrado: \")\n",
    "    print(textoCifrado)\n",
    "    print(\"\")\n",
    "    print(\"Plain Text: \" + decifrar(chave, textoCifrado))"
   ]
  },
  {
   "cell_type": "code",
   "execution_count": 37,
   "id": "07ad4003-6b49-44cb-ae44-593638590e16",
   "metadata": {},
   "outputs": [
    {
     "name": "stdout",
     "output_type": "stream",
     "text": [
      "Texto Cifrado: \n",
      "b'.\\xf6\\xd9\\xd2>\\xbb\\xb2\\x1b\\xe4\\xde\\x80\\x08\\xbd\\xae\\x19<\\xc2\\xc79\\xae\\xa1\\x00+X\\xd3L\\xc8\\xc0nO>A'\n",
      "\n",
      "Plain Text: Estruturas Criptograficas\n"
     ]
    }
   ],
   "source": [
    "if __name__ == \"__main__\":\n",
    "    main()"
   ]
  },
  {
   "cell_type": "code",
   "execution_count": null,
   "id": "464c3aa6-6e96-4792-867b-a14e8436fb11",
   "metadata": {},
   "outputs": [],
   "source": []
  },
  {
   "cell_type": "code",
   "execution_count": null,
   "id": "580ba54e-0636-45fa-8683-a5b532a01fd5",
   "metadata": {},
   "outputs": [],
   "source": []
  },
  {
   "cell_type": "code",
   "execution_count": null,
   "id": "c09b3fae-8512-4e0d-8479-b063e8711643",
   "metadata": {},
   "outputs": [],
   "source": []
  }
 ],
 "metadata": {
  "kernelspec": {
   "display_name": "Python 3 (ipykernel)",
   "language": "python",
   "name": "python3"
  },
  "language_info": {
   "codemirror_mode": {
    "name": "ipython",
    "version": 3
   },
   "file_extension": ".py",
   "mimetype": "text/x-python",
   "name": "python",
   "nbconvert_exporter": "python",
   "pygments_lexer": "ipython3",
   "version": "3.9.16"
  }
 },
 "nbformat": 4,
 "nbformat_minor": 5
}
