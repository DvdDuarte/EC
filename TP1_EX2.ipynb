{
 "cells": [
  {
   "cell_type": "markdown",
   "id": "72824224-0160-466f-b5f0-3bcb08851898",
   "metadata": {
    "tags": []
   },
   "source": [
    "# TP1\n",
    "## Grupo 17:\n",
    "**PG50315 - David Alexandre Ferreira Duarte**\n",
    "\n",
    "**PG51247 - João Rafael Cerqueira Monteiro**"
   ]
  },
  {
   "cell_type": "markdown",
   "id": "ff404ae6-759a-4bd1-bd4d-140854f5b6f8",
   "metadata": {
    "tags": []
   },
   "source": [
    "## Exercício 2.\n",
    "Use o package Cryptography para criar uma cifra com autenticação de meta-dados a partir de um PRG\n",
    "    1. Criar um gerador pseudo-aleatório do tipo XOF (“extened output function”) usando o SHAKE256, para gerar uma sequência de palavras de 64 bits. \n",
    "        1. O gerador deve poder gerar até um limite de $$\\,2^n\\,$$ palavras ($$n$$ é  um parâmetro) armazenados em long integers do Python.\n",
    "        2. A “seed” do gerador funciona como $$\\mathtt{cipher\\_key}$$ e é gerado por um KDF a partir de uma “password” .\n",
    "        3. A autenticação do criptograma e dos dados associados é feita usando o próprio SHAKE256.\n",
    "    b. Defina os algoritmos de cifrar e decifrar : para cifrar/decifrar uma mensagem com blocos de 64 bits, os “outputs” do gerador são usados como máscaras XOR dos blocos da mensagem. \n",
    "    Essencialmente a cifra básica é uma implementação do  “One Time Pad”."
   ]
  },
  {
   "cell_type": "code",
   "execution_count": 5,
   "id": "ee412430-6a38-4a1f-865d-9eaefa46b2b6",
   "metadata": {},
   "outputs": [],
   "source": [
    "# Imports\n",
    "import os\n",
    "import time\n",
    "\n",
    "from cryptography.hazmat.primitives.kdf.pbkdf2 import PBKDF2HMAC\n",
    "from cryptography.hazmat.primitives import hashes, padding\n",
    "\n",
    "# n -> parametro necessário para gerar as palavaras\n",
    "N = 17\n",
    "BLOCKSIZE = 8 # 64 bits = 8 bytes"
   ]
  },
  {
   "cell_type": "code",
   "execution_count": 13,
   "id": "35162f9a-9f68-493e-bd33-dcdf0318550a",
   "metadata": {},
   "outputs": [],
   "source": [
    "def derivarChave(password, salt):\n",
    "    kdf = PBKDF2HMAC(\n",
    "        algorithm=hashes.SHA256(),\n",
    "        length=32,\n",
    "        salt=salt,\n",
    "        iterations=10000\n",
    "    )\n",
    "    chave = kdf.derive(password)\n",
    "    return chave"
   ]
  },
  {
   "cell_type": "code",
   "execution_count": 14,
   "id": "65bef471-03e3-41c5-94ce-848e5d808a5a",
   "metadata": {},
   "outputs": [],
   "source": [
    "def prg(seed):\n",
    "    digest = hashes.Hash(hashes.SHAKE256(BLOCKSIZE * pow(2,N)))\n",
    "    digest.update(seed)\n",
    "    palavras = digest.finalize()\n",
    "    return palavras"
   ]
  },
  {
   "cell_type": "code",
   "execution_count": 19,
   "id": "f879a8e8-ac4f-493c-af7b-bacc94812f61",
   "metadata": {},
   "outputs": [],
   "source": [
    "def cifrar(chave, mensagem):\n",
    "    textoCifrado = b''\n",
    "    padder = padding.PKCS7(64).padder()\n",
    "    \n",
    "    padded = padder.update(mensagem) + padder.finalize()\n",
    "    \n",
    "    mensagemBlocos = [padded[i:i+BLOCKSIZE] for i in range(0, len(padded), BLOCKSIZE)]\n",
    "    \n",
    "    for x in range(len(mensagemBlocos)):\n",
    "        for indice, byte in enumerate(mensagemBlocos[x]):\n",
    "            textoCifrado += bytes([byte ^ chave[x:(x+1) * BLOCKSIZE][indice]])\n",
    "    \n",
    "    return textoCifrado"
   ]
  },
  {
   "cell_type": "code",
   "execution_count": 20,
   "id": "5f5bc1ac-10cf-419d-919a-83162a3d437c",
   "metadata": {},
   "outputs": [],
   "source": [
    "def decifrar(chave, textoCifrado):\n",
    "    plainText = b''\n",
    "    \n",
    "    mensagemBlocos = [padded[i:i+BLOCKSIZE] for i in range(0, len(padded), BLOCKSIZE)]\n",
    "    \n",
    "    for x in range(len(mensagemBlocos)):\n",
    "        for indice, byte in enumerate(mensagemBlocos[x]):\n",
    "            plainText += bytes([byte ^ chave[x:(x+1) * BLOCKSIZE][indice]])\n",
    "    \n",
    "    unpadder = padding.PKCS7(64).unpadder()\n",
    "    \n",
    "    unpadded = unpadder.update(plainText) + unpadder.finalize()\n",
    "    \n",
    "    return unpadded.decode(\"utf-8\")"
   ]
  },
  {
   "cell_type": "code",
   "execution_count": 32,
   "id": "8948170e-1e89-491c-b2cf-bc22bacf763e",
   "metadata": {},
   "outputs": [],
   "source": [
    "def main(): \n",
    "    password = \"grupo17\"\n",
    "    \n",
    "    salt = os.urandom(17)\n",
    "    \n",
    "    seed = derivarChave(password.encode(\"utf-8\"), salt)\n",
    "    \n",
    "    chave = prg(seed)\n",
    "    \n",
    "    textoCifrado = cifrar(chave, \"Estruturas Criptograficas\".encode(\"utf-8\"))\n",
    "\n",
    "    print(\"Texto Cifrado: \")\n",
    "    print(textoCifrado)\n",
    "    print(\"\")\n",
    "    print(\"Plain Text: \" + decifrar(chave, textoCifrado))"
   ]
  },
  {
   "cell_type": "code",
   "execution_count": 33,
   "id": "07ad4003-6b49-44cb-ae44-593638590e16",
   "metadata": {},
   "outputs": [
    {
     "name": "stdout",
     "output_type": "stream",
     "text": [
      "Texto Cifrado: \n",
      "b'\\x0e\\xe9\\xe4\\xd7G\\xe0\\xa3\\xb3\\xfb\\xe3\\x85q\\xe6\\xbf\\xb1\\x84\\xff\\xc2@\\xf5\\xb0\\xa8\\x93y\\xd65\\x93\\xd1\\xc6\\xf7\\x1fs'\n",
      "\n"
     ]
    },
    {
     "ename": "NameError",
     "evalue": "name 'padded' is not defined",
     "output_type": "error",
     "traceback": [
      "\u001b[0;31m---------------------------------------------------------------------------\u001b[0m",
      "\u001b[0;31mNameError\u001b[0m                                 Traceback (most recent call last)",
      "Cell \u001b[0;32mIn[33], line 2\u001b[0m\n\u001b[1;32m      1\u001b[0m \u001b[38;5;28;01mif\u001b[39;00m \u001b[38;5;18m__name__\u001b[39m \u001b[38;5;241m==\u001b[39m \u001b[38;5;124m\"\u001b[39m\u001b[38;5;124m__main__\u001b[39m\u001b[38;5;124m\"\u001b[39m:\n\u001b[0;32m----> 2\u001b[0m     \u001b[43mmain\u001b[49m\u001b[43m(\u001b[49m\u001b[43m)\u001b[49m\n",
      "Cell \u001b[0;32mIn[32], line 15\u001b[0m, in \u001b[0;36mmain\u001b[0;34m()\u001b[0m\n\u001b[1;32m     13\u001b[0m \u001b[38;5;28mprint\u001b[39m(textoCifrado)\n\u001b[1;32m     14\u001b[0m \u001b[38;5;28mprint\u001b[39m(\u001b[38;5;124m\"\u001b[39m\u001b[38;5;124m\"\u001b[39m)\n\u001b[0;32m---> 15\u001b[0m \u001b[38;5;28mprint\u001b[39m(\u001b[38;5;124m\"\u001b[39m\u001b[38;5;124mPlain Text: \u001b[39m\u001b[38;5;124m\"\u001b[39m \u001b[38;5;241m+\u001b[39m \u001b[43mdecifrar\u001b[49m\u001b[43m(\u001b[49m\u001b[43mchave\u001b[49m\u001b[43m,\u001b[49m\u001b[43m \u001b[49m\u001b[43mtextoCifrado\u001b[49m\u001b[43m)\u001b[49m)\n",
      "Cell \u001b[0;32mIn[20], line 4\u001b[0m, in \u001b[0;36mdecifrar\u001b[0;34m(chave, textoCifrado)\u001b[0m\n\u001b[1;32m      1\u001b[0m \u001b[38;5;28;01mdef\u001b[39;00m \u001b[38;5;21mdecifrar\u001b[39m(chave, textoCifrado):\n\u001b[1;32m      2\u001b[0m     plainText \u001b[38;5;241m=\u001b[39m \u001b[38;5;124mb\u001b[39m\u001b[38;5;124m'\u001b[39m\u001b[38;5;124m'\u001b[39m\n\u001b[0;32m----> 4\u001b[0m     mensagemBlocos \u001b[38;5;241m=\u001b[39m [padded[i:i\u001b[38;5;241m+\u001b[39mBLOCKSIZE] \u001b[38;5;28;01mfor\u001b[39;00m i \u001b[38;5;129;01min\u001b[39;00m \u001b[38;5;28mrange\u001b[39m(\u001b[38;5;241m0\u001b[39m, \u001b[38;5;28mlen\u001b[39m(\u001b[43mpadded\u001b[49m), BLOCKSIZE)]\n\u001b[1;32m      6\u001b[0m     \u001b[38;5;28;01mfor\u001b[39;00m x \u001b[38;5;129;01min\u001b[39;00m \u001b[38;5;28mrange\u001b[39m(\u001b[38;5;28mlen\u001b[39m(mensagemBlocos)):\n\u001b[1;32m      7\u001b[0m         \u001b[38;5;28;01mfor\u001b[39;00m indice, byte \u001b[38;5;129;01min\u001b[39;00m \u001b[38;5;28menumerate\u001b[39m(mensagemBlocos[x]):\n",
      "\u001b[0;31mNameError\u001b[0m: name 'padded' is not defined"
     ]
    }
   ],
   "source": [
    "if __name__ == \"__main__\":\n",
    "    main()"
   ]
  },
  {
   "cell_type": "code",
   "execution_count": null,
   "id": "464c3aa6-6e96-4792-867b-a14e8436fb11",
   "metadata": {},
   "outputs": [],
   "source": []
  },
  {
   "cell_type": "code",
   "execution_count": null,
   "id": "580ba54e-0636-45fa-8683-a5b532a01fd5",
   "metadata": {},
   "outputs": [],
   "source": []
  },
  {
   "cell_type": "code",
   "execution_count": null,
   "id": "c09b3fae-8512-4e0d-8479-b063e8711643",
   "metadata": {},
   "outputs": [],
   "source": []
  }
 ],
 "metadata": {
  "kernelspec": {
   "display_name": "Python 3 (ipykernel)",
   "language": "python",
   "name": "python3"
  },
  "language_info": {
   "codemirror_mode": {
    "name": "ipython",
    "version": 3
   },
   "file_extension": ".py",
   "mimetype": "text/x-python",
   "name": "python",
   "nbconvert_exporter": "python",
   "pygments_lexer": "ipython3",
   "version": "3.9.16"
  }
 },
 "nbformat": 4,
 "nbformat_minor": 5
}
