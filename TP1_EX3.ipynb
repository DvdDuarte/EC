{
 "cells": [
  {
   "cell_type": "markdown",
   "id": "f0645733-746a-4203-bbfc-44b26b8112a3",
   "metadata": {},
   "source": [
    "# TP1\n",
    "## Grupo 17:\n",
    "**PG50315 - David Alexandre Ferreira Duarte**\n",
    "\n",
    "**PG51247 - João Rafael Cerqueira Monteiro**"
   ]
  },
  {
   "cell_type": "markdown",
   "id": "4af2e9f8-be60-4c20-8657-c3e79e79cce2",
   "metadata": {},
   "source": [
    "## Exercício 3.\n",
    "\n",
    "Use o “package” Cryptography para\n",
    "    1. Implementar uma AEAD com “Tweakable Block Ciphers” conforme está descrito na última secção do texto +Capítulo 1: Primitivas Criptográficas Básicas.  A cifra por blocos primitiva, usada para gerar a “tweakable block cipher”, é o AES-256 ou o ChaCha20.\n",
    "    2. Use esta cifra para construir um canal privado de informação assíncrona com acordo de chaves feito com “X448 key exchange” e “Ed448 Signing&Verification” para autenticação  dos agentes. Deve incluir uma fase de confirmação da chave acordada.\n"
   ]
  },
  {
   "cell_type": "code",
   "execution_count": 1,
   "id": "a02e82e0-565b-4cc0-8e6b-376618535f61",
   "metadata": {},
   "outputs": [
    {
     "name": "stdout",
     "output_type": "stream",
     "text": [
      "Requirement already satisfied: cryptography in /home/sleiman/mambaforge/envs/sage/lib/python3.9/site-packages (39.0.2)\n",
      "Requirement already satisfied: cffi>=1.12 in /home/sleiman/mambaforge/envs/sage/lib/python3.9/site-packages (from cryptography) (1.15.1)\n",
      "Requirement already satisfied: pycparser in /home/sleiman/mambaforge/envs/sage/lib/python3.9/site-packages (from cffi>=1.12->cryptography) (2.21)\n"
     ]
    }
   ],
   "source": [
    "!pip install cryptography"
   ]
  },
  {
   "cell_type": "code",
   "execution_count": 2,
   "id": "43a33c2b-203c-4074-833d-ddfa4371f552",
   "metadata": {},
   "outputs": [],
   "source": [
    "from cryptography.hazmat.primitives.ciphers import Cipher, algorithms, modes\n",
    "from cryptography.hazmat.primitives.kdf.pbkdf2 import PBKDF2HMAC\n",
    "from cryptography.hazmat.backends import default_backend\n",
    "from cryptography.hazmat.primitives import hashes\n",
    "import os"
   ]
  },
  {
   "cell_type": "code",
   "execution_count": 3,
   "id": "c5091cda-c264-4cbd-b3a0-f41804d28389",
   "metadata": {},
   "outputs": [],
   "source": [
    "chave = os.urandom(32)\n",
    "nonce = os.urandom(16)"
   ]
  },
  {
   "cell_type": "code",
   "execution_count": 4,
   "id": "038b75b9-e747-42da-8ed5-63e9cf004d4b",
   "metadata": {},
   "outputs": [],
   "source": [
    "mensagem = b\"Grupo 17\"\n",
    "salt = os.urandom(16)"
   ]
  },
  {
   "cell_type": "code",
   "execution_count": 5,
   "id": "83d594c9-2bdf-41de-bebd-bf1df2931f7d",
   "metadata": {},
   "outputs": [],
   "source": [
    "kdf = PBKDF2HMAC(\n",
    "    algorithm = hashes.SHA256(),\n",
    "    length = 32,\n",
    "    salt = salt,\n",
    "    iterations = 10000,\n",
    "    backend = default_backend()\n",
    ")\n",
    "\n",
    "chave = kdf.derive(mensagem)"
   ]
  },
  {
   "cell_type": "code",
   "execution_count": 6,
   "id": "d3fa929f-c274-4fcf-9ed5-4a02d87153ac",
   "metadata": {},
   "outputs": [],
   "source": [
    "cifra = Cipher(algorithms.AES(chave), modes.GCM(nonce), backend = default_backend())"
   ]
  },
  {
   "cell_type": "code",
   "execution_count": 7,
   "id": "dfd9f943-28ab-4e52-aaf3-4b17b1f56048",
   "metadata": {},
   "outputs": [],
   "source": [
    "aead = cifra.encryptor()\n",
    "plaintext = b\"Grupo 17\"\n",
    "textoCifrado = aead.update(plaintext) + aead.finalize()\n",
    "tag = aead.tag"
   ]
  },
  {
   "cell_type": "code",
   "execution_count": 8,
   "id": "afa1c591-c367-4b8f-9388-7fda7f2cef28",
   "metadata": {},
   "outputs": [
    {
     "name": "stdout",
     "output_type": "stream",
     "text": [
      "True\n"
     ]
    }
   ],
   "source": [
    "cifra = Cipher(\n",
    "    algorithms.AES(chave), \n",
    "    modes.GCM(nonce, tag), \n",
    "    backend = default_backend()\n",
    ")\n",
    "aead = cifra.decryptor()\n",
    "decrypted_plaintext = aead.update(textoCifrado) + aead.finalize()\n",
    "\n",
    "print(decrypted_plaintext == plaintext)"
   ]
  },
  {
   "cell_type": "code",
   "execution_count": 11,
   "id": "95b56f3d-126e-4f9a-a782-4a1322c96fe6",
   "metadata": {},
   "outputs": [
    {
     "ename": "ModuleNotFoundError",
     "evalue": "No module named 'cryptography.hazmat.primitives.tweakable_block_ciphers'",
     "output_type": "error",
     "traceback": [
      "\u001b[0;31m---------------------------------------------------------------------------\u001b[0m",
      "\u001b[0;31mModuleNotFoundError\u001b[0m                       Traceback (most recent call last)",
      "Cell \u001b[0;32mIn[11], line 2\u001b[0m\n\u001b[1;32m      1\u001b[0m \u001b[38;5;28;01mfrom\u001b[39;00m \u001b[38;5;21;01mcryptography\u001b[39;00m\u001b[38;5;21;01m.\u001b[39;00m\u001b[38;5;21;01mhazmat\u001b[39;00m\u001b[38;5;21;01m.\u001b[39;00m\u001b[38;5;21;01mprimitives\u001b[39;00m\u001b[38;5;21;01m.\u001b[39;00m\u001b[38;5;21;01mciphers\u001b[39;00m \u001b[38;5;28;01mimport\u001b[39;00m Cipher, algorithms, modes\n\u001b[0;32m----> 2\u001b[0m \u001b[38;5;28;01mfrom\u001b[39;00m \u001b[38;5;21;01mcryptography\u001b[39;00m\u001b[38;5;21;01m.\u001b[39;00m\u001b[38;5;21;01mhazmat\u001b[39;00m\u001b[38;5;21;01m.\u001b[39;00m\u001b[38;5;21;01mprimitives\u001b[39;00m\u001b[38;5;21;01m.\u001b[39;00m\u001b[38;5;21;01mtweakable_block_ciphers\u001b[39;00m \u001b[38;5;28;01mimport\u001b[39;00m TweakableBlockCipher\n\u001b[1;32m      3\u001b[0m \u001b[38;5;28;01mfrom\u001b[39;00m \u001b[38;5;21;01mcryptography\u001b[39;00m\u001b[38;5;21;01m.\u001b[39;00m\u001b[38;5;21;01mhazmat\u001b[39;00m\u001b[38;5;21;01m.\u001b[39;00m\u001b[38;5;21;01mprimitives\u001b[39;00m\u001b[38;5;21;01m.\u001b[39;00m\u001b[38;5;21;01mtweakable_block_ciphers\u001b[39;00m\u001b[38;5;21;01m.\u001b[39;00m\u001b[38;5;21;01malgorithms\u001b[39;00m \u001b[38;5;28;01mimport\u001b[39;00m AES, ChaCha20\n\u001b[1;32m      4\u001b[0m \u001b[38;5;28;01mfrom\u001b[39;00m \u001b[38;5;21;01mcryptography\u001b[39;00m\u001b[38;5;21;01m.\u001b[39;00m\u001b[38;5;21;01mhazmat\u001b[39;00m\u001b[38;5;21;01m.\u001b[39;00m\u001b[38;5;21;01mprimitives\u001b[39;00m\u001b[38;5;21;01m.\u001b[39;00m\u001b[38;5;21;01mtweakable_block_ciphers\u001b[39;00m\u001b[38;5;21;01m.\u001b[39;00m\u001b[38;5;21;01mmodes\u001b[39;00m \u001b[38;5;28;01mimport\u001b[39;00m XTS\n",
      "\u001b[0;31mModuleNotFoundError\u001b[0m: No module named 'cryptography.hazmat.primitives.tweakable_block_ciphers'"
     ]
    }
   ],
   "source": [
    "from cryptography.hazmat.primitives.ciphers import Cipher, algorithms, modes\n",
    "from cryptography.hazmat.primitives.tweakable_block_ciphers import TweakableBlockCipher\n",
    "from cryptography.hazmat.primitives.tweakable_block_ciphers.algorithms import AES, ChaCha20\n",
    "from cryptography.hazmat.primitives.tweakable_block_ciphers.modes import XTS\n",
    "from cryptography.hazmat.backends import default_backend\n",
    "from cryptography.exceptions import InvalidTag\n",
    "\n",
    "# Define the key and IV\n",
    "key = b'0123456789abcdef0123456789abcdef'\n",
    "iv = b'0123456789abcdef'\n",
    "\n",
    "# Create an instance of the primitive block cipher\n",
    "cipher = AES(key)\n",
    "# cipher = ChaCha20(key)\n",
    "\n",
    "# Create an instance of the tweakable block cipher with XTS mode\n",
    "tbc = TweakableBlockCipher(cipher, XTS(iv))\n",
    "\n",
    "# Define the message and AAD\n",
    "message = b'This is a secret message.'\n",
    "aad = b'This is additional data.'\n",
    "\n",
    "# Define the tweak value\n",
    "tweak = 0\n",
    "\n",
    "# Create an AEAD object with the tweakable block cipher and tweak value\n",
    "aead = tbc.encryptor(tweak)\n",
    "\n",
    "# Encrypt the message and calculate the tag\n",
    "ciphertext = aead.update(message) + aead.finalize()\n",
    "tag = aead.tag\n",
    "\n",
    "# Decrypt the message and verify the tag\n",
    "aead = tbc.decryptor(tweak, tag)\n",
    "plaintext = aead.update(ciphertext) + aead.finalize()\n",
    "\n",
    "try:\n",
    "    aead.verify(tag)\n",
    "    print('Tag is valid.')\n",
    "except InvalidTag:\n",
    "    print('Tag is invalid.')\n"
   ]
  },
  {
   "cell_type": "code",
   "execution_count": null,
   "id": "ae1565dc-7321-4f4d-912d-5fe688a6bd79",
   "metadata": {},
   "outputs": [],
   "source": []
  }
 ],
 "metadata": {
  "kernelspec": {
   "display_name": "Python 3 (ipykernel)",
   "language": "python",
   "name": "python3"
  },
  "language_info": {
   "codemirror_mode": {
    "name": "ipython",
    "version": 3
   },
   "file_extension": ".py",
   "mimetype": "text/x-python",
   "name": "python",
   "nbconvert_exporter": "python",
   "pygments_lexer": "ipython3",
   "version": "3.9.16"
  }
 },
 "nbformat": 4,
 "nbformat_minor": 5
}
