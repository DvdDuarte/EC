{
 "cells": [
  {
   "cell_type": "markdown",
   "id": "f0645733-746a-4203-bbfc-44b26b8112a3",
   "metadata": {},
   "source": [
    "# TP1\n",
    "## Grupo 17:\n",
    "**PG50315 - David Alexandre Ferreira Duarte**\n",
    "\n",
    "**PG51247 - João Rafael Cerqueira Monteiro**"
   ]
  },
  {
   "cell_type": "markdown",
   "id": "4af2e9f8-be60-4c20-8657-c3e79e79cce2",
   "metadata": {},
   "source": [
    "## Exercício 3.\n",
    "\n",
    "Use o “package” Cryptography para\n",
    "    1. Implementar uma AEAD com “Tweakable Block Ciphers” conforme está descrito na última secção do texto +Capítulo 1: Primitivas Criptográficas Básicas.  A cifra por blocos primitiva, usada para gerar a “tweakable block cipher”, é o AES-256 ou o ChaCha20.\n",
    "    2. Use esta cifra para construir um canal privado de informação assíncrona com acordo de chaves feito com “X448 key exchange” e “Ed448 Signing&Verification” para autenticação  dos agentes. Deve incluir uma fase de confirmação da chave acordada.\n"
   ]
  },
  {
   "cell_type": "code",
   "execution_count": null,
   "id": "a02e82e0-565b-4cc0-8e6b-376618535f61",
   "metadata": {},
   "outputs": [],
   "source": []
  }
 ],
 "metadata": {
  "kernelspec": {
   "display_name": "Python 3 (ipykernel)",
   "language": "python",
   "name": "python3"
  },
  "language_info": {
   "codemirror_mode": {
    "name": "ipython",
    "version": 3
   },
   "file_extension": ".py",
   "mimetype": "text/x-python",
   "name": "python",
   "nbconvert_exporter": "python",
   "pygments_lexer": "ipython3",
   "version": "3.9.16"
  }
 },
 "nbformat": 4,
 "nbformat_minor": 5
}
