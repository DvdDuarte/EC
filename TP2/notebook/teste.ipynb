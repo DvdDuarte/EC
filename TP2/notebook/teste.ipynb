{
 "cells": [
  {
   "cell_type": "code",
   "execution_count": 1,
   "id": "eac2a5b5-3086-48b1-8650-85e51bfbb64a",
   "metadata": {
    "tags": []
   },
   "outputs": [],
   "source": [
    "#!pip install pycryptodome"
   ]
  },
  {
   "cell_type": "code",
   "execution_count": 2,
   "id": "c76978bc-9e7d-4250-a7a9-119f853e1401",
   "metadata": {
    "tags": []
   },
   "outputs": [],
   "source": [
    "from sage.all import *"
   ]
  },
  {
   "cell_type": "code",
   "execution_count": 3,
   "id": "c7d9ebb1-87ae-46ce-a936-d58fc063f35a",
   "metadata": {
    "tags": []
   },
   "outputs": [],
   "source": [
    "from sage.all import *\n",
    "import hashlib\n",
    "import hmac\n",
    "import os\n",
    "\n",
    "class KEMElGamal:\n",
    "    def __init__(self, security_parameter):\n",
    "        self.security_parameter = security_parameter\n",
    "        self.generate_keys()\n",
    "\n",
    "    def generate_keys(self):\n",
    "        p = random_prime(2 ** self.security_parameter)\n",
    "        g = primitive_root(p)\n",
    "        x = randint(1, p - 2)\n",
    "        h = pow(g, x, p)\n",
    "\n",
    "        self.private_key = x\n",
    "        self.public_key = (p, g, h)\n",
    "\n",
    "    def encapsulate(self, public_key):\n",
    "        p, g, h = public_key\n",
    "        r = randint(1, p - 2)\n",
    "        c1 = pow(g, r, p)\n",
    "        c2 = pow(h, r, p)\n",
    "\n",
    "        key_seed = hashlib.sha256()\n",
    "        key_seed.update(str(c2).encode())\n",
    "        key = key_seed.digest()\n",
    "\n",
    "        return (c1, c2), key\n",
    "\n",
    "    def decapsulate(self, ciphertext):\n",
    "        c1, c2 = ciphertext\n",
    "        shared_secret = pow(c1, self.private_key, self.public_key[0])\n",
    "\n",
    "        key_seed = hashlib.sha256()\n",
    "        key_seed.update(str(shared_secret).encode())\n",
    "        key = key_seed.digest()\n",
    "\n",
    "        return key\n",
    "\n",
    "class PKEFujisakiOkamoto(KEMElGamal):\n",
    "    def __init__(self, security_parameter):\n",
    "        super().__init__(security_parameter)\n",
    "\n",
    "    def encrypt(self, plaintext, public_key):\n",
    "        kem_ciphertext, key = self.encapsulate(public_key)\n",
    "        r = os.urandom(32)\n",
    "        hmac_key = hmac.new(key, r, hashlib.sha256).digest()\n",
    "\n",
    "        ciphertext = int.from_bytes(plaintext, byteorder='big') ^ int.from_bytes(hmac_key, byteorder='big')\n",
    "        return kem_ciphertext, (r, ciphertext.to_bytes((ciphertext.bit_length() + 7) // 8, byteorder='big'))\n",
    "\n",
    "    def decrypt(self, ciphertext):\n",
    "        kem_ciphertext, (r, encrypted_data) = ciphertext\n",
    "        key = self.decapsulate(kem_ciphertext)\n",
    "        hmac_key = hmac.new(key, r, hashlib.sha256).digest()\n",
    "\n",
    "        decrypted_data = int.from_bytes(encrypted_data, byteorder='big') ^ int.from_bytes(hmac_key, byteorder='big')\n",
    "        return decrypted_data.to_bytes((decrypted_data.bit_length() + 7) // 8, byteorder='big')"
   ]
  },
  {
   "cell_type": "code",
   "execution_count": 4,
   "id": "84952168-e826-46c2-97d8-b30a40ee55fa",
   "metadata": {
    "tags": []
   },
   "outputs": [
    {
     "name": "stdout",
     "output_type": "stream",
     "text": [
      "Ciphertext: ((219664560206525943559094038716465720292, 174031781362970832805351804137357984439), (b'M\\xb3\\x04z\\xc96\\x16\\xc7\\xc9>y\\xfa\\xb3\\x8c\\xcc\\xcc\\xbf\\xde\\x83\\x0c\\xb8\\x89\\x98\\x15\\x18Bv\\x0e\\xa5\\xadG\\x13', b'Estru\\xb3MR\\xe6\\xb1\\x19\\xb2\\x95\\xeb\\x07\\xdb5/\\xf8\\xb1\\x8c\\xe7\\xcb\\xf0)\\xec\\xd6\\x8d\\x91W\\xa5\\xcc\\xa7\\xd1\\xd4\\xce\\x87'))\n",
      "Decrypted text: b'Estruturas Criptograficas - Grupo 17!'\n"
     ]
    }
   ],
   "source": [
    "def main():\n",
    "    security_parameter = 128\n",
    "\n",
    "    # Cria uma instância do PKE Fujisaki-Okamoto\n",
    "    pke = PKEFujisakiOkamoto(security_parameter)\n",
    "\n",
    "    # Obtenha as chaves pública e privada\n",
    "    public_key = pke.public_key\n",
    "    private_key = pke.private_key\n",
    "\n",
    "    # Mensagem original\n",
    "    plaintext = b\"Estruturas Criptograficas - Grupo 17!\"\n",
    "\n",
    "    # Criptografa a mensagem usando a chave pública\n",
    "    ciphertext = pke.encrypt(plaintext, public_key)\n",
    "    print(\"Ciphertext:\", ciphertext)\n",
    "\n",
    "    # Descriptografa a mensagem usando a chave privada\n",
    "    decrypted_text = pke.decrypt(ciphertext)\n",
    "    print(\"Decrypted text:\", decrypted_text)\n",
    "\n",
    "    assert plaintext == decrypted_text, \"A mensagem descriptografada não corresponde à mensagem original\"\n",
    "\n",
    "if __name__ == \"__main__\":\n",
    "    main()"
   ]
  }
 ],
 "metadata": {
  "kernelspec": {
   "display_name": "Python 3 (ipykernel)",
   "language": "python",
   "name": "python3"
  },
  "language_info": {
   "codemirror_mode": {
    "name": "ipython",
    "version": 3
   },
   "file_extension": ".py",
   "mimetype": "text/x-python",
   "name": "python",
   "nbconvert_exporter": "python",
   "pygments_lexer": "ipython3",
   "version": "3.10.9"
  }
 },
 "nbformat": 4,
 "nbformat_minor": 5
}
