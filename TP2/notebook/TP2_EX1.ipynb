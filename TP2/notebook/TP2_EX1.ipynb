{
 "cells": [
  {
   "cell_type": "code",
   "execution_count": 1,
   "id": "3901b728-5925-4311-b93c-e2fa173a7685",
   "metadata": {
    "tags": []
   },
   "outputs": [],
   "source": [
    "from sage.all import *\n",
    "from hashlib import sha256\n",
    "import random\n",
    "import math\n",
    "import secrets\n",
    "\n",
    "from cryptography.hazmat.primitives.ciphers import Cipher, algorithms, modes\n",
    "from cryptography.hazmat.primitives import padding"
   ]
  },
  {
   "cell_type": "code",
   "execution_count": 2,
   "id": "cb871d39-5e97-4921-90be-988f1c2b65b0",
   "metadata": {
    "tags": []
   },
   "outputs": [],
   "source": [
    "class KEMElGamal:\n",
    "    \n",
    "    def __init__(self, sec_param):\n",
    "        \n",
    "        self.p = random_prime(2 ** sec_param)\n",
    "        #R = Integers(p)\n",
    "        self.F = GF(self.p)\n",
    "        self.g = self.F.primitive_element()\n",
    "           \n",
    "        #g = primitive_root(p)\n",
    "        \n",
    "        self.x = randint(1, self.p-2)\n",
    "        self.h = pow(self.g, self.x, self.p)\n",
    "        self.priv_key = self.x\n",
    "        self.pub_key = (self.p, self.g, self.h)\n",
    "        \n",
    "    def encapsulate(self, pub_key):\n",
    "        \n",
    "        p, g, h = pub_key\n",
    "        y = random.randint(1, p-1)\n",
    "        k = pow(h,y,p)\n",
    "        s = pow(g,y,p)\n",
    "        return k, s\n",
    "        \n",
    "    def decapsulate(self, priv_key, ciphertext):\n",
    "        s, t = ciphertext\n",
    "        k = pow(s, priv_key, self.p)\n",
    "        return k"
   ]
  },
  {
   "cell_type": "code",
   "execution_count": 3,
   "id": "43ce0ae3-67a9-4cf7-b284-0981dffd018a",
   "metadata": {
    "tags": []
   },
   "outputs": [],
   "source": [
    "class PKE_FujisakiOkamoto:\n",
    "\n",
    "    def __init__(self, sec_param, kem):\n",
    "        self.kem = kem\n",
    "        self.key_size = sec_param\n",
    "\n",
    "    def encrypt(self, pub_key, msg):\n",
    "        k, s = self.kem.encapsulate(pub_key)\n",
    "        aes_key = int(k).to_bytes(self.key_size, byteorder='big')\n",
    "        iv = secrets.token_bytes(self.key_size)\n",
    "        cipher = Cipher(algorithms.AES(aes_key), modes.CBC(iv))\n",
    "        padder = padding.PKCS7(self.key_size * 8).padder()\n",
    "        padded_msg = padder.update(msg) + padder.finalize()\n",
    "        encryptor = cipher.encryptor()\n",
    "        ct = encryptor.update(padded_msg) + encryptor.finalize()\n",
    "        c = (s, ct, iv)\n",
    "        return c\n",
    "\n",
    "    def decrypt(self, priv_key, ct):\n",
    "        s, ct, iv = ct\n",
    "        k = self.kem.decapsulate(priv_key, (s, iv))\n",
    "        aes_key = int(k).to_bytes(self.key_size, byteorder='big')\n",
    "        cipher = Cipher(algorithms.AES(aes_key), modes.CBC(iv))\n",
    "        decryptor = cipher.decryptor()\n",
    "        unpadded_msg = decryptor.update(ct) + decryptor.finalize()\n",
    "        unpadder = padding.PKCS7(self.key_size * 8).unpadder()\n",
    "        msg = unpadder.update(unpadded_msg) + unpadder.finalize()\n",
    "        return msg"
   ]
  },
  {
   "cell_type": "code",
   "execution_count": 4,
   "id": "b1aed9bc-0d9b-4a7d-bf47-b53e93148ea0",
   "metadata": {
    "tags": []
   },
   "outputs": [
    {
     "name": "stdout",
     "output_type": "stream",
     "text": [
      "Mensagem Original:  Estruturas Criptograficas - Grupo 17!\n",
      "Mensagem Decifrada:  Estruturas Criptograficas - Grupo 17!\n",
      "A mensagem original e a mensagem decifrada são iguais (True), diferentes (False)\n",
      "True\n"
     ]
    }
   ],
   "source": [
    "kem = KEMElGamal(128)\n",
    "\n",
    "pke = PKE_FujisakiOkamoto(16, kem)\n",
    "\n",
    "pub_key = pke.kem.pub_key\n",
    "priv_key = pke.kem.priv_key\n",
    "\n",
    "msg = \"Estruturas Criptograficas - Grupo 17!\"\n",
    "msg_encoded = msg.encode()\n",
    "\n",
    "ciphertext = pke.encrypt(pub_key, msg_encoded)\n",
    "\n",
    "decrypted_msg = pke.decrypt(priv_key, ciphertext)\n",
    "msg_decoded = decrypted_msg.decode()\n",
    "\n",
    "print(\"Mensagem Original: \", msg)\n",
    "# print(\"Ciphertext: \", ciphertext)\n",
    "print(\"Mensagem Decifrada: \", msg_decoded)\n",
    "print(\"A mensagem original e a mensagem decifrada são iguais (True), diferentes (False)\")\n",
    "print(msg == msg_decoded)"
   ]
  }
 ],
 "metadata": {
  "kernelspec": {
   "display_name": "SageMath 9.8",
   "language": "sage",
   "name": "sagemath"
  },
  "language_info": {
   "codemirror_mode": {
    "name": "ipython",
    "version": 3
   },
   "file_extension": ".py",
   "mimetype": "text/x-python",
   "name": "python",
   "nbconvert_exporter": "python",
   "pygments_lexer": "ipython3",
   "version": "3.10.9"
  }
 },
 "nbformat": 4,
 "nbformat_minor": 5
}
