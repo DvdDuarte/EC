{
 "cells": [
  {
   "cell_type": "markdown",
   "id": "e0b49ac6-146a-4f3c-baa6-a80ca596bf24",
   "metadata": {},
   "source": [
    "# TP2\n",
    "## Grupo 17:\n",
    "**PG50315 - David Alexandre Ferreira Duarte**\n",
    "\n",
    "**PG51247 - João Rafael Cerqueira Monteiro**"
   ]
  },
  {
   "cell_type": "markdown",
   "id": "554fdce2-34f4-4569-9c74-6d6476a25e7c",
   "metadata": {},
   "source": [
    "## Exercício 2.\n",
    "    \n",
    "Construir uma classe Python que implemente o  EdCDSA a partir do “standard” FIPS186-5\n",
    "\n",
    "    A. A implementação deve conter funções para assinar digitalmente e verificar a assinatura.\n",
    "    B. A implementação da classe deve usar  uma das “Twisted Edwards Curves” definidas no standard e escolhida  na iniciação da classe: a curva  “edwards25519” ou “edwards448”.\n",
    "    C. Por aplicação da transformação de Fiat-Shamir construa um protocolo de autenticação de desafio-resposta."
   ]
  },
  {
   "cell_type": "code",
   "execution_count": 55,
   "id": "3bebb69d-6543-4776-ab99-bae31801eebf",
   "metadata": {},
   "outputs": [],
   "source": [
    "import hashlib\n",
    "import secrets"
   ]
  },
  {
   "cell_type": "code",
   "execution_count": 56,
   "id": "da280eb2-4547-4469-b228-e411b1e9aaee",
   "metadata": {
    "tags": []
   },
   "outputs": [],
   "source": [
    "class TwistedEdwardsCurve(object):\n",
    "    def __init__(self, ed = None):\n",
    "        if ed == 'ed25519':\n",
    "            self.p = 2^255-19\n",
    "            self.K = GF(self.p)\n",
    "            self.a = self.K(-1)\n",
    "            self.d = -self.K(121665)/self.K(121666)\n",
    "            self.ed25519 = {\n",
    "                'b'  : 256,\n",
    "                'Px' : self.K(15112221349535400772501151409588531511454012693041857206046113283949847762202),\n",
    "                'Py' : self.K(46316835694926478169428394003475163141307993866256225615783033603165251855960),\n",
    "                'L'  : ZZ(2^252 + 27742317777372353535851937790883648493), ## ordem do subgrupo primo\n",
    "                'n'  : 254,\n",
    "                'h'  : 8\n",
    "            }\n",
    "        else:\n",
    "            # Edwards 448\n",
    "            self.p = 2^448 - 2^224 - 1\n",
    "            self.K = GF(self.p)\n",
    "            self.a = self.K(1)\n",
    "            self.d = self.K(-39081)\n",
    "            self.ed448= {\n",
    "                'b'  : 456,     ## tamanho das assinaturas e das chaves públicas\n",
    "                'Px' : self.K(224580040295924300187604334099896036246789641632564134246125461686950415467406032909029192869357953282578032075146446173674602635247710) ,\n",
    "                'Py' : self.K(298819210078481492676017930443930673437544040154080242095928241372331506189835876003536878655418784733982303233503462500531545062832660) ,                                          \n",
    "                'L'  : ZZ(2^446 - 13818066809895115352007386748515426880336692474882178609894547503885) ,\n",
    "                'n'  : 447,     ## tamanho dos segredos: os dois primeiros bits são 0 e o último é 1.\n",
    "                'h'  : 4        ## cofactor\n",
    "            }\n",
    "            \n",
    "        assert self.a != self.d and is_prime(self.p) and self.p > 3\n",
    "        K        = GF(self.p) \n",
    "  \n",
    "        A =  2*(self.a + self.d)/(self.a - self.d)\n",
    "        B =  4/(self.a - self.d)\n",
    "    \n",
    "        alfa = A/(3*B) ; s = B\n",
    "\n",
    "        a4 =  s^(-2) - 3*alfa^2\n",
    "        a6 =  -alfa^3 - a4*alfa\n",
    "        \n",
    "        self.K = K\n",
    "        self.constants = {'a': self.a , 'd': self.d , 'A':A , 'B':B , 'alfa':alfa , 's':s , 'a4':a4 , 'a6':a6 }\n",
    "        self.EC = EllipticCurve(K,[a4,a6]) \n",
    "        \n",
    "        if ed == 'ed25519':\n",
    "            self.L = self.ed25519['L']\n",
    "            self.P = self.ed2ec(self.ed25519['Px'],self.ed25519['Py'])  # gerador do gru\n",
    "        else:\n",
    "            self.gen()\n",
    "    \n",
    "    def order(self):\n",
    "        # A ordem prima \"n\" do maior subgrupo da curva, e o respetivo cofator \"h\" \n",
    "        oo = self.EC.order()\n",
    "        n,_ = list(factor(oo))[-1]\n",
    "        return (n,oo//n)\n",
    "    \n",
    "    def gen(self):\n",
    "        L, h = self.order()       \n",
    "        P = O = self.EC(0)\n",
    "        while L*P == O:\n",
    "            P = self.EC.random_element()\n",
    "        self.P = h*P ; self.L = L\n",
    "\n",
    "  \n",
    "    \n",
    "    def is_edwards(self, x, y):\n",
    "        a = self.constants['a'] ; d = self.constants['d']\n",
    "        x2 = x^2 ; y2 = y^2\n",
    "        return a*x2 + y2 == 1 + d*x2*y2\n",
    "\n",
    "    def ed2ec(self,x,y):      ## mapeia Ed --> EC\n",
    "        if (x,y) == (0,1):\n",
    "            return self.EC(0)\n",
    "        z = (1+y)/(1-y) ; w = z/x\n",
    "        alfa = self.constants['alfa']; s = self.constants['s']\n",
    "        return self.EC(z/s + alfa , w/s)\n",
    "    \n",
    "    def ec2ed(self,P):        ## mapeia EC --> Ed\n",
    "        if P == self.EC(0):\n",
    "            return (0,1)\n",
    "        x,y = P.xy()\n",
    "        alfa = self.constants['alfa']; s = self.constants['s']\n",
    "        u = s*(x - alfa) ; v = s*y\n",
    "        return (u/v , (u-1)/(u+1))"
   ]
  },
  {
   "cell_type": "code",
   "execution_count": 57,
   "id": "eaad544f-ac5d-42f7-980d-7545407a3d06",
   "metadata": {
    "tags": []
   },
   "outputs": [],
   "source": [
    "class EdCDSA:\n",
    "    def __init__(self, curve, private_key):\n",
    "        self.curve = curve\n",
    "        self.private_key = private_key\n",
    "        self.public_key = self.private_key * self.curve.P\n",
    "\n",
    "    def sign(self, message):\n",
    "        # Gera um número aleatório k\n",
    "        k = secrets.randbelow(self.curve.L)\n",
    "\n",
    "        # Calcula o ponto R = k * P\n",
    "        R = k * self.curve.P\n",
    "\n",
    "        # Calcula o valor h da hash da mensagem\n",
    "        h = int(hashlib.sha512(message).hexdigest(), 16)\n",
    "\n",
    "        # Calcula o valor s = (h + x(R) * d) * k^(-1) mod L\n",
    "        x_R = R.xy()[0]\n",
    "        s = (h + x_R * self.private_key) * inverse_mod(k, self.curve.L) % self.curve.L\n",
    "\n",
    "        # Retorna a assinatura (R, s)\n",
    "        return (R, s)\n",
    "\n",
    "    def verify(self, message, signature):\n",
    "        R, s = signature\n",
    "\n",
    "        # Verifica se o ponto R está na curva torcida de Edwards\n",
    "        if not self.curve.EC(R):\n",
    "            return False\n",
    "\n",
    "        # Calcula o valor v = H(m) * B / s - r * B / s\n",
    "        hash_message = int.from_bytes(hashlib.sha256(message.encode()).digest(), \"big\")\n",
    "        r = R.xy()[0]\n",
    "        v = (hash_message * self.curve.P + (-r) * self.public_key) * pow(s, -1, self.curve.L)\n",
    "\n",
    "        # Verifica se v * P = R - H(m) * A / s\n",
    "        if v * self.curve.P == R - hash_message * self.public_key * pow(s, -1, self.curve.L):\n",
    "            return True\n",
    "        else:\n",
    "            return False\n",
    "\n",
    "    @staticmethod\n",
    "    def fiat_shamir(challenge, secret):\n",
    "        # Transformação de Fiat-Shamir\n",
    "        hash_challenge = int.from_bytes(hashlib.sha256(challenge).digest(), \"big\")\n",
    "        return EdCDSA(TwistedEdwardsCurve('ed25519'), secret).sign(hash_challenge.to_bytes((hash_challenge.bit_length() + 7) // 8, \"big\"))"
   ]
  },
  {
   "cell_type": "code",
   "execution_count": 58,
   "id": "4d1f371f-2278-42f6-8b28-0ab0cb447c1e",
   "metadata": {},
   "outputs": [
    {
     "name": "stdout",
     "output_type": "stream",
     "text": [
      "(7237005577332262213973186563042994240857116359379907606001950938285454250989, 8)\n"
     ]
    }
   ],
   "source": [
    "# Exemplo de uso\n",
    "curve = TwistedEdwardsCurve('ed25519')\n",
    "print(curve.order())"
   ]
  },
  {
   "cell_type": "code",
   "execution_count": 59,
   "id": "e6c3a72a-94b6-405e-bac2-7cf03a8e449d",
   "metadata": {},
   "outputs": [
    {
     "ename": "ArithmeticError",
     "evalue": "reduction modulo 7237005577332262213973186563042994240857116359379907606001950938285454250989 not defined",
     "output_type": "error",
     "traceback": [
      "\u001b[0;31m---------------------------------------------------------------------------\u001b[0m",
      "\u001b[0;31mArithmeticError\u001b[0m                           Traceback (most recent call last)",
      "Cell \u001b[0;32mIn[59], line 12\u001b[0m\n\u001b[1;32m      9\u001b[0m challenge \u001b[38;5;241m=\u001b[39m secrets\u001b[38;5;241m.\u001b[39mtoken_bytes(Integer(\u001b[38;5;241m32\u001b[39m))\n\u001b[1;32m     11\u001b[0m \u001b[38;5;66;03m# Signatário calcula a resposta assinando o desafio usando o EdCDSA e envia a resposta para o verificador\u001b[39;00m\n\u001b[0;32m---> 12\u001b[0m response \u001b[38;5;241m=\u001b[39m \u001b[43mEdCDSA\u001b[49m\u001b[38;5;241;43m.\u001b[39;49m\u001b[43mfiat_shamir\u001b[49m\u001b[43m(\u001b[49m\u001b[43mchallenge\u001b[49m\u001b[43m,\u001b[49m\u001b[43m \u001b[49m\u001b[43mprivate_key\u001b[49m\u001b[43m)\u001b[49m\n\u001b[1;32m     14\u001b[0m \u001b[38;5;66;03m# Verificador verifica a resposta usando a chave pública do signatário e o protocolo de verificação de assinatura do EdCDSA\u001b[39;00m\n\u001b[1;32m     15\u001b[0m \u001b[38;5;28;01mif\u001b[39;00m edcdsa\u001b[38;5;241m.\u001b[39mverify(challenge, response):\n",
      "Cell \u001b[0;32mIn[57], line 46\u001b[0m, in \u001b[0;36mEdCDSA.fiat_shamir\u001b[0;34m(challenge, secret)\u001b[0m\n\u001b[1;32m     42\u001b[0m \u001b[38;5;129m@staticmethod\u001b[39m\n\u001b[1;32m     43\u001b[0m \u001b[38;5;28;01mdef\u001b[39;00m \u001b[38;5;21mfiat_shamir\u001b[39m(challenge, secret):\n\u001b[1;32m     44\u001b[0m     \u001b[38;5;66;03m# Transformação de Fiat-Shamir\u001b[39;00m\n\u001b[1;32m     45\u001b[0m     hash_challenge \u001b[38;5;241m=\u001b[39m \u001b[38;5;28mint\u001b[39m\u001b[38;5;241m.\u001b[39mfrom_bytes(hashlib\u001b[38;5;241m.\u001b[39msha256(challenge)\u001b[38;5;241m.\u001b[39mdigest(), \u001b[38;5;124m\"\u001b[39m\u001b[38;5;124mbig\u001b[39m\u001b[38;5;124m\"\u001b[39m)\n\u001b[0;32m---> 46\u001b[0m     \u001b[38;5;28;01mreturn\u001b[39;00m \u001b[43mEdCDSA\u001b[49m\u001b[43m(\u001b[49m\u001b[43mTwistedEdwardsCurve\u001b[49m\u001b[43m(\u001b[49m\u001b[38;5;124;43m'\u001b[39;49m\u001b[38;5;124;43med25519\u001b[39;49m\u001b[38;5;124;43m'\u001b[39;49m\u001b[43m)\u001b[49m\u001b[43m,\u001b[49m\u001b[43m \u001b[49m\u001b[43msecret\u001b[49m\u001b[43m)\u001b[49m\u001b[38;5;241;43m.\u001b[39;49m\u001b[43msign\u001b[49m\u001b[43m(\u001b[49m\u001b[43mhash_challenge\u001b[49m\u001b[38;5;241;43m.\u001b[39;49m\u001b[43mto_bytes\u001b[49m\u001b[43m(\u001b[49m\u001b[43m(\u001b[49m\u001b[43mhash_challenge\u001b[49m\u001b[38;5;241;43m.\u001b[39;49m\u001b[43mbit_length\u001b[49m\u001b[43m(\u001b[49m\u001b[43m)\u001b[49m\u001b[43m \u001b[49m\u001b[38;5;241;43m+\u001b[39;49m\u001b[43m \u001b[49m\u001b[43mInteger\u001b[49m\u001b[43m(\u001b[49m\u001b[38;5;241;43m7\u001b[39;49m\u001b[43m)\u001b[49m\u001b[43m)\u001b[49m\u001b[43m \u001b[49m\u001b[38;5;241;43m/\u001b[39;49m\u001b[38;5;241;43m/\u001b[39;49m\u001b[43m \u001b[49m\u001b[43mInteger\u001b[49m\u001b[43m(\u001b[49m\u001b[38;5;241;43m8\u001b[39;49m\u001b[43m)\u001b[49m\u001b[43m,\u001b[49m\u001b[43m \u001b[49m\u001b[38;5;124;43m\"\u001b[39;49m\u001b[38;5;124;43mbig\u001b[39;49m\u001b[38;5;124;43m\"\u001b[39;49m\u001b[43m)\u001b[49m\u001b[43m)\u001b[49m\n",
      "Cell \u001b[0;32mIn[57], line 19\u001b[0m, in \u001b[0;36mEdCDSA.sign\u001b[0;34m(self, message)\u001b[0m\n\u001b[1;32m     17\u001b[0m \u001b[38;5;66;03m# Calcula o valor s = (h + x(R) * d) * k^(-1) mod L\u001b[39;00m\n\u001b[1;32m     18\u001b[0m x_R \u001b[38;5;241m=\u001b[39m R\u001b[38;5;241m.\u001b[39mxy()[Integer(\u001b[38;5;241m0\u001b[39m)]\n\u001b[0;32m---> 19\u001b[0m s \u001b[38;5;241m=\u001b[39m \u001b[43m(\u001b[49m\u001b[43mh\u001b[49m\u001b[43m \u001b[49m\u001b[38;5;241;43m+\u001b[39;49m\u001b[43m \u001b[49m\u001b[43mx_R\u001b[49m\u001b[43m \u001b[49m\u001b[38;5;241;43m*\u001b[39;49m\u001b[43m \u001b[49m\u001b[38;5;28;43mself\u001b[39;49m\u001b[38;5;241;43m.\u001b[39;49m\u001b[43mprivate_key\u001b[49m\u001b[43m)\u001b[49m\u001b[43m \u001b[49m\u001b[38;5;241;43m*\u001b[39;49m\u001b[43m \u001b[49m\u001b[43minverse_mod\u001b[49m\u001b[43m(\u001b[49m\u001b[43mk\u001b[49m\u001b[43m,\u001b[49m\u001b[43m \u001b[49m\u001b[38;5;28;43mself\u001b[39;49m\u001b[38;5;241;43m.\u001b[39;49m\u001b[43mcurve\u001b[49m\u001b[38;5;241;43m.\u001b[39;49m\u001b[43mL\u001b[49m\u001b[43m)\u001b[49m\u001b[43m \u001b[49m\u001b[38;5;241;43m%\u001b[39;49m\u001b[43m \u001b[49m\u001b[38;5;28;43mself\u001b[39;49m\u001b[38;5;241;43m.\u001b[39;49m\u001b[43mcurve\u001b[49m\u001b[38;5;241;43m.\u001b[39;49m\u001b[43mL\u001b[49m\n\u001b[1;32m     21\u001b[0m \u001b[38;5;66;03m# Retorna a assinatura (R, s)\u001b[39;00m\n\u001b[1;32m     22\u001b[0m \u001b[38;5;28;01mreturn\u001b[39;00m (R, s)\n",
      "File \u001b[0;32m~/mambaforge/envs/sage/lib/python3.9/site-packages/sage/rings/finite_rings/integer_mod.pyx:496\u001b[0m, in \u001b[0;36msage.rings.finite_rings.integer_mod.IntegerMod_abstract.__mod__ (build/cythonized/sage/rings/finite_rings/integer_mod.c:7712)\u001b[0;34m()\u001b[0m\n\u001b[1;32m    494\u001b[0m R = IntegerModRing(modulus)\n\u001b[1;32m    495\u001b[0m if (<Element>self)._parent._IntegerModRing_generic__order % R.order():\n\u001b[0;32m--> 496\u001b[0m     raise ArithmeticError(f\"reduction modulo {modulus!r} not defined\")\n\u001b[1;32m    497\u001b[0m return R(self)\n\u001b[1;32m    498\u001b[0m \n",
      "\u001b[0;31mArithmeticError\u001b[0m: reduction modulo 7237005577332262213973186563042994240857116359379907606001950938285454250989 not defined"
     ]
    }
   ],
   "source": [
    "private_key = secrets.randbelow(curve.order()[0])\n",
    "edcdsa = EdCDSA(curve, private_key)\n",
    "\n",
    "# Protocolo de autenticação de desafio-resposta usando a transformação de Fiat-Shamir\n",
    "# Signatário envia sua chave pública\n",
    "public_key = edcdsa.public_key\n",
    "\n",
    "# Verificador envia um desafio aleatório\n",
    "challenge = secrets.token_bytes(32)\n",
    "\n",
    "# Signatário calcula a resposta assinando o desafio usando o EdCDSA e envia a resposta para o verificador\n",
    "response = EdCDSA.fiat_shamir(challenge, private_key)\n",
    "\n",
    "# Verificador verifica a resposta usando a chave pública do signatário e o protocolo de verificação de assinatura do EdCDSA\n",
    "if edcdsa.verify(challenge, response):\n",
    "    print(\"Autenticado com sucesso!\")\n",
    "else:\n",
    "    print(\"Falha na autenticação.\")"
   ]
  },
  {
   "cell_type": "code",
   "execution_count": null,
   "id": "4388c49a-a257-4c76-9599-2c5f90d56336",
   "metadata": {},
   "outputs": [],
   "source": []
  }
 ],
 "metadata": {
  "kernelspec": {
   "display_name": "SageMath 9.8",
   "language": "sage",
   "name": "sagemath"
  },
  "language_info": {
   "codemirror_mode": {
    "name": "ipython",
    "version": 3
   },
   "file_extension": ".py",
   "mimetype": "text/x-python",
   "name": "python",
   "nbconvert_exporter": "python",
   "pygments_lexer": "ipython3",
   "version": "3.9.16"
  }
 },
 "nbformat": 4,
 "nbformat_minor": 5
}
