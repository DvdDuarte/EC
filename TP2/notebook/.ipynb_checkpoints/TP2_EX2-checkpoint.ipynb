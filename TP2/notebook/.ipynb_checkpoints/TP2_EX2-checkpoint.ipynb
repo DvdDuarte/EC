{
 "cells": [
  {
   "cell_type": "markdown",
   "id": "e0b49ac6-146a-4f3c-baa6-a80ca596bf24",
   "metadata": {},
   "source": [
    "# TP2\n",
    "## Grupo 17:\n",
    "**PG50315 - David Alexandre Ferreira Duarte**\n",
    "\n",
    "**PG51247 - João Rafael Cerqueira Monteiro**"
   ]
  },
  {
   "cell_type": "markdown",
   "id": "554fdce2-34f4-4569-9c74-6d6476a25e7c",
   "metadata": {},
   "source": [
    "## Exercício 2.\n",
    "    \n",
    "Construir uma classe Python que implemente o  EdCDSA a partir do “standard” FIPS186-5\n",
    "\n",
    "    A. A implementação deve conter funções para assinar digitalmente e verificar a assinatura.\n",
    "    B. A implementação da classe deve usar  uma das “Twisted Edwards Curves” definidas no standard e escolhida  na iniciação da classe: a curva  “edwards25519” ou “edwards448”.\n",
    "    C. Por aplicação da transformação de Fiat-Shamir construa um protocolo de autenticação de desafio-resposta."
   ]
  },
  {
   "cell_type": "code",
   "execution_count": 74,
   "id": "3bebb69d-6543-4776-ab99-bae31801eebf",
   "metadata": {},
   "outputs": [],
   "source": [
    "import hashlib\n",
    "import secrets"
   ]
  },
  {
   "cell_type": "markdown",
   "id": "80e96f94-06e3-4d33-be99-deefaa7bc3d4",
   "metadata": {},
   "source": [
    "classe TwistedEdwardsCurve, que define uma curva elíptica torcida de Edwards. O construtor da classe aceita um argumento ed que, se definido como 'ed25519', inicializa a curva com parâmetros correspondentes à curva ed25519 (uma curva elíptica torcida de Edwards sobre o corpo Fp, onde p é um número primo de 255 bits), caso contrário, inicializa a curva com parâmetros correspondentes à curva ed448 (uma curva elíptica torcida de Edwards sobre o corpo Fp, onde p é um número primo de 448 bits).\n",
    "\n",
    "Os métodos da classe incluem a determinação da ordem do maior subgrupo da curva (método order), a geração de um gerador aleatório para a curva (método gen), a verificação se um ponto está na curva (método is_edwards), a transformação de um ponto da curva edwards para a curva elíptica (método ed2ec) e a transformação de um ponto da curva elíptica para a curva edwards (método ec2ed). A classe também armazena os parâmetros da curva em um dicionário de constantes.\n",
    "\n",
    "    1. order(): retorna a ordem do maior subgrupo da curva e seu cofator.\n",
    "    2. gen(): gera um ponto gerador aleatório na curva (usando o algoritmo de Hasse-Weil) e calcula sua ordem e cofator.\n",
    "    3. is_edwards(x, y): verifica se um ponto (x, y) está na forma de Edwards da curva.\n",
    "    4. ed2ec(x, y): mapeia um ponto (x, y) na curva Edwards para um ponto correspondente na curva de Weierstrass.\n",
    "    5. ec2ed(P): mapeia um ponto P na curva de Weierstrass para um ponto correspondente na curva Edwards.\n"
   ]
  },
  {
   "cell_type": "code",
   "execution_count": 75,
   "id": "da280eb2-4547-4469-b228-e411b1e9aaee",
   "metadata": {
    "tags": []
   },
   "outputs": [],
   "source": [
    "class TwistedEdwardsCurve(object):\n",
    "    def __init__(self, ed = None):\n",
    "        if ed == 'ed25519':\n",
    "            self.p = 2^255-19\n",
    "            self.K = GF(self.p)\n",
    "            self.a = self.K(-1)\n",
    "            self.d = -self.K(121665)/self.K(121666)\n",
    "            self.ed25519 = {\n",
    "                'b'  : 256,\n",
    "                'Px' : self.K(15112221349535400772501151409588531511454012693041857206046113283949847762202),\n",
    "                'Py' : self.K(46316835694926478169428394003475163141307993866256225615783033603165251855960),\n",
    "                'L'  : ZZ(2^252 + 27742317777372353535851937790883648493 - 1), ## ordem do subgrupo primo\n",
    "                'n'  : 254,\n",
    "                'h'  : 8\n",
    "            }\n",
    "        else:\n",
    "            # Edwards 448\n",
    "            self.p = 2^448 - 2^224 - 1\n",
    "            self.K = GF(self.p)\n",
    "            self.a = self.K(1)\n",
    "            self.d = self.K(-39081)\n",
    "            self.ed448= {\n",
    "                'b'  : 456,     ## tamanho das assinaturas e das chaves públicas\n",
    "                'Px' : self.K(224580040295924300187604334099896036246789641632564134246125461686950415467406032909029192869357953282578032075146446173674602635247710) ,\n",
    "                'Py' : self.K(298819210078481492676017930443930673437544040154080242095928241372331506189835876003536878655418784733982303233503462500531545062832660) ,                                          \n",
    "                'L'  : ZZ(2^446 - 13818066809895115352007386748515426880336692474882178609894547503885) ,\n",
    "                'n'  : 447,     ## tamanho dos segredos: os dois primeiros bits são 0 e o último é 1.\n",
    "                'h'  : 4        ## cofactor\n",
    "            }\n",
    "            \n",
    "        assert self.a != self.d and is_prime(self.p) and self.p > 3\n",
    "        K        = GF(self.p) \n",
    "  \n",
    "        A =  2*(self.a + self.d)/(self.a - self.d)\n",
    "        B =  4/(self.a - self.d)\n",
    "    \n",
    "        alfa = A/(3*B) ; s = B\n",
    "\n",
    "        a4 =  s^(-2) - 3*alfa^2\n",
    "        a6 =  -alfa^3 - a4*alfa\n",
    "        \n",
    "        self.K = K\n",
    "        self.constants = {'a': self.a , 'd': self.d , 'A':A , 'B':B , 'alfa':alfa , 's':s , 'a4':a4 , 'a6':a6 }\n",
    "        self.EC = EllipticCurve(K,[a4,a6]) \n",
    "        \n",
    "        if ed == 'ed25519':\n",
    "            self.L = self.ed25519['L']\n",
    "            self.P = self.ed2ec(self.ed25519['Px'],self.ed25519['Py'])  # gerador do gru\n",
    "        else:\n",
    "            self.gen()\n",
    "    \n",
    "    def order(self):\n",
    "        # A ordem prima \"n\" do maior subgrupo da curva, e o respetivo cofator \"h\" \n",
    "        oo = self.EC.order()\n",
    "        n,_ = list(factor(oo))[-1]\n",
    "        return (n,oo//n)\n",
    "    \n",
    "    def gen(self):\n",
    "        L, h = self.order()       \n",
    "        P = O = self.EC(0)\n",
    "        while L*P == O:\n",
    "            P = self.EC.random_element()\n",
    "        self.P = h*P ; self.L = L\n",
    "\n",
    "  \n",
    "    def is_edwards(self, x, y):\n",
    "        a = self.constants['a'] ; d = self.constants['d']\n",
    "        x2 = x^2 ; y2 = y^2\n",
    "        return a*x2 + y2 == 1 + d*x2*y2\n",
    "\n",
    "    def ed2ec(self,x,y):      ## mapeia Ed --> EC\n",
    "        if (x,y) == (0,1):\n",
    "            return self.EC(0)\n",
    "        z = (1+y)/(1-y) ; w = z/x\n",
    "        alfa = self.constants['alfa']; s = self.constants['s']\n",
    "        return self.EC(z/s + alfa , w/s)\n",
    "    \n",
    "    def ec2ed(self,P):        ## mapeia EC --> Ed\n",
    "        if P == self.EC(0):\n",
    "            return (0,1)\n",
    "        x,y = P.xy()\n",
    "        alfa = self.constants['alfa']; s = self.constants['s']\n",
    "        u = s*(x - alfa) ; v = s*y\n",
    "        return (u/v , (u-1)/(u+1))"
   ]
  },
  {
   "cell_type": "markdown",
   "id": "e303200e-4ac8-4fcc-92d6-58f789fb37fb",
   "metadata": {},
   "source": [
    "Essa é uma classe que implementa a assinatura digital CDSA baseada em curvas elípticas. A classe tem um construtor que recebe a curva e a chave privada como parâmetros, e usa a chave privada para calcular a chave pública.\n",
    "\n",
    "O método ``sign`` é usado para gerar a assinatura digital de uma mensagem. Ele gera um número aleatório k e calcula o ponto R = k * P na curva, onde P é um ponto fixo na curva (chamado de ponto base). Em seguida, ele calcula o valor r como o resto da divisão da coordenada x do ponto R pelo número primo n. Se r for zero, o processo é repetido com um novo valor de k. Em seguida, o método calcula o valor s como ((r * private_key) % n + hash(message)) * inverse_mod(k, n) % n, onde hash(message) é o hash da mensagem. O método retorna uma tupla (r, s) como a assinatura.\n",
    "\n",
    "O método ``verify`` é usado para verificar a assinatura de uma mensagem. Ele recebe a mensagem e a assinatura (uma tupla (r, s)) como parâmetros. O método primeiro verifica se r e s estão no intervalo (0, n) e, em seguida, calcula o valor de w como o inverso multiplicativo de s em módulo n. Em seguida, o método calcula os valores u1 = (hash(message) * w) % n e u2 = (r * w) % n. Usando esses valores, ele calcula o ponto V = u1 * P + u2 * public_key na curva e verifica se a coordenada x de V é igual a r mod n. Se for o caso, a assinatura é considerada válida."
   ]
  },
  {
   "cell_type": "code",
   "execution_count": 81,
   "id": "eaad544f-ac5d-42f7-980d-7545407a3d06",
   "metadata": {
    "tags": []
   },
   "outputs": [],
   "source": [
    "class EdCDSA:\n",
    "    def __init__(self, curve, private_key):\n",
    "        self.curve = curve\n",
    "        self.private_key = private_key\n",
    "        self.public_key = self.private_key * self.curve.P\n",
    "\n",
    "    def sign(self, message):\n",
    "        K = self.curve.K\n",
    "        n = self.curve.L\n",
    "        h = self.curve.ed25519['h']\n",
    "        a = self.curve.constants['a']\n",
    "        d = self.curve.constants['d']\n",
    "        P = self.curve.P\n",
    "        r = 0\n",
    "        while r == 0:\n",
    "            k = randint(1, n-1)\n",
    "            R = k * P\n",
    "            x = int(R[0])\n",
    "            r = x % n\n",
    "        s = ((r * self.private_key) % n + hash(message)) * inverse_mod(k, n) % n\n",
    "        return (r, s)\n",
    "\n",
    "    def verify(self, message, signature):\n",
    "        K = self.curve.K\n",
    "        n = self.curve.L\n",
    "        h = self.curve.ed25519['h']\n",
    "        a = self.curve.constants['a']\n",
    "        d = self.curve.constants['d']\n",
    "        P = self.curve.P\n",
    "        r, s = signature\n",
    "        if not (0 < r < n) or not (0 < s < n):\n",
    "            return False\n",
    "        w = inverse_mod(s, n)\n",
    "        u1 = (hash(message) * w) % n\n",
    "        u2 = (r * w) % n\n",
    "        V = u1 * P + u2 * self.public_key\n",
    "        x = int(V[0])\n",
    "        return r == x % n\n",
    "\n",
    "    def fiat_shamir(self, challenge, secret):\n",
    "        return 0"
   ]
  },
  {
   "cell_type": "code",
   "execution_count": 77,
   "id": "4d1f371f-2278-42f6-8b28-0ab0cb447c1e",
   "metadata": {},
   "outputs": [
    {
     "name": "stdout",
     "output_type": "stream",
     "text": [
      "(7237005577332262213973186563042994240857116359379907606001950938285454250989, 8)\n"
     ]
    }
   ],
   "source": [
    "# Exemplo de uso\n"
   ]
  },
  {
   "cell_type": "code",
   "execution_count": 79,
   "id": "e6c3a72a-94b6-405e-bac2-7cf03a8e449d",
   "metadata": {},
   "outputs": [
    {
     "ename": "ZeroDivisionError",
     "evalue": "inverse of Mod(4288929353546667438562427604540732559223197526601359191838030664959414319603, 7237005577332262213973186563042994240857116359379907606001950938285454250988) does not exist",
     "output_type": "error",
     "traceback": [
      "\u001b[0;31m---------------------------------------------------------------------------\u001b[0m",
      "\u001b[0;31mAttributeError\u001b[0m                            Traceback (most recent call last)",
      "File \u001b[0;32m~/mambaforge/envs/sage/lib/python3.9/site-packages/sage/arith/misc.py:2149\u001b[0m, in \u001b[0;36minverse_mod\u001b[0;34m(a, m)\u001b[0m\n\u001b[1;32m   2148\u001b[0m \u001b[38;5;28;01mtry\u001b[39;00m:\n\u001b[0;32m-> 2149\u001b[0m     \u001b[38;5;28;01mreturn\u001b[39;00m \u001b[43ma\u001b[49m\u001b[38;5;241;43m.\u001b[39;49m\u001b[43minverse_mod\u001b[49m(m)\n\u001b[1;32m   2150\u001b[0m \u001b[38;5;28;01mexcept\u001b[39;00m \u001b[38;5;167;01mAttributeError\u001b[39;00m:\n",
      "\u001b[0;31mAttributeError\u001b[0m: 'int' object has no attribute 'inverse_mod'",
      "\nDuring handling of the above exception, another exception occurred:\n",
      "\u001b[0;31mZeroDivisionError\u001b[0m                         Traceback (most recent call last)",
      "Cell \u001b[0;32mIn[79], line 11\u001b[0m\n\u001b[1;32m      9\u001b[0m \u001b[38;5;66;03m# Sign a message\u001b[39;00m\n\u001b[1;32m     10\u001b[0m message \u001b[38;5;241m=\u001b[39m \u001b[38;5;124mb\u001b[39m\u001b[38;5;124m\"\u001b[39m\u001b[38;5;124mHello, world!\u001b[39m\u001b[38;5;124m\"\u001b[39m\n\u001b[0;32m---> 11\u001b[0m signature \u001b[38;5;241m=\u001b[39m \u001b[43meddsa\u001b[49m\u001b[38;5;241;43m.\u001b[39;49m\u001b[43msign\u001b[49m\u001b[43m(\u001b[49m\u001b[43mmessage\u001b[49m\u001b[43m)\u001b[49m\n\u001b[1;32m     13\u001b[0m \u001b[38;5;66;03m# Verify the signature\u001b[39;00m\n\u001b[1;32m     14\u001b[0m \u001b[38;5;28;01massert\u001b[39;00m eddsa\u001b[38;5;241m.\u001b[39mverify(message, signature, public_key)\n",
      "Cell \u001b[0;32mIn[76], line 20\u001b[0m, in \u001b[0;36mEdCDSA.sign\u001b[0;34m(self, message)\u001b[0m\n\u001b[1;32m     18\u001b[0m     x \u001b[38;5;241m=\u001b[39m \u001b[38;5;28mint\u001b[39m(R[Integer(\u001b[38;5;241m0\u001b[39m)])\n\u001b[1;32m     19\u001b[0m     r \u001b[38;5;241m=\u001b[39m x \u001b[38;5;241m%\u001b[39m n\n\u001b[0;32m---> 20\u001b[0m s \u001b[38;5;241m=\u001b[39m ((r \u001b[38;5;241m*\u001b[39m \u001b[38;5;28mself\u001b[39m\u001b[38;5;241m.\u001b[39mprivate_key) \u001b[38;5;241m%\u001b[39m n \u001b[38;5;241m+\u001b[39m \u001b[38;5;28mhash\u001b[39m(message)) \u001b[38;5;241m*\u001b[39m \u001b[43minverse_mod\u001b[49m\u001b[43m(\u001b[49m\u001b[43mk\u001b[49m\u001b[43m,\u001b[49m\u001b[43m \u001b[49m\u001b[43mn\u001b[49m\u001b[43m)\u001b[49m \u001b[38;5;241m%\u001b[39m n\n\u001b[1;32m     21\u001b[0m \u001b[38;5;28;01mreturn\u001b[39;00m (r, s)\n",
      "File \u001b[0;32m~/mambaforge/envs/sage/lib/python3.9/site-packages/sage/arith/misc.py:2151\u001b[0m, in \u001b[0;36minverse_mod\u001b[0;34m(a, m)\u001b[0m\n\u001b[1;32m   2149\u001b[0m     \u001b[38;5;28;01mreturn\u001b[39;00m a\u001b[38;5;241m.\u001b[39minverse_mod(m)\n\u001b[1;32m   2150\u001b[0m \u001b[38;5;28;01mexcept\u001b[39;00m \u001b[38;5;167;01mAttributeError\u001b[39;00m:\n\u001b[0;32m-> 2151\u001b[0m     \u001b[38;5;28;01mreturn\u001b[39;00m \u001b[43mInteger\u001b[49m\u001b[43m(\u001b[49m\u001b[43ma\u001b[49m\u001b[43m)\u001b[49m\u001b[38;5;241;43m.\u001b[39;49m\u001b[43minverse_mod\u001b[49m\u001b[43m(\u001b[49m\u001b[43mm\u001b[49m\u001b[43m)\u001b[49m\n",
      "File \u001b[0;32m~/mambaforge/envs/sage/lib/python3.9/site-packages/sage/rings/integer.pyx:6772\u001b[0m, in \u001b[0;36msage.rings.integer.Integer.inverse_mod (build/cythonized/sage/rings/integer.c:42055)\u001b[0;34m()\u001b[0m\n\u001b[1;32m   6770\u001b[0m sig_off()\n\u001b[1;32m   6771\u001b[0m if r == 0:\n\u001b[0;32m-> 6772\u001b[0m     raise ZeroDivisionError(f\"inverse of Mod({self}, {m}) does not exist\")\n\u001b[1;32m   6773\u001b[0m return ans\n\u001b[1;32m   6774\u001b[0m \n",
      "\u001b[0;31mZeroDivisionError\u001b[0m: inverse of Mod(4288929353546667438562427604540732559223197526601359191838030664959414319603, 7237005577332262213973186563042994240857116359379907606001950938285454250988) does not exist"
     ]
    }
   ],
   "source": [
    "# Create the curve and the private key\n",
    "curve = TwistedEdwardsCurve(ed='ed25519')\n",
    "print(curve.order())\n",
    "private_key = randint(1, curve.L-1)\n",
    "\n",
    "# Criar chave privada e um EdCDSA object\n",
    "public_key = private_key * curve.P\n",
    "eddsa = EdCDSA(curve, private_key)\n",
    "\n",
    "# Assinar\n",
    "message = b\"Grupo 07\"\n",
    "signature = eddsa.sign(message)\n",
    "\n",
    "# Verificar \n",
    "assert eddsa.verify(message, signature, public_key)"
   ]
  }
 ],
 "metadata": {
  "kernelspec": {
   "display_name": "SageMath 9.8",
   "language": "sage",
   "name": "sagemath"
  },
  "language_info": {
   "codemirror_mode": {
    "name": "ipython",
    "version": 3
   },
   "file_extension": ".py",
   "mimetype": "text/x-python",
   "name": "python",
   "nbconvert_exporter": "python",
   "pygments_lexer": "ipython3",
   "version": "3.10.9"
  }
 },
 "nbformat": 4,
 "nbformat_minor": 5
}
