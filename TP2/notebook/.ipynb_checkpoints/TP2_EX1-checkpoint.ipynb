{
 "cells": [
  {
   "cell_type": "markdown",
   "id": "faae72d7-5155-4abb-8428-eb42d22b7b8f",
   "metadata": {},
   "source": [
    "# TP2\n",
    "## Grupo 17:\n",
    "**PG50315 - David Alexandre Ferreira Duarte**\n",
    "\n",
    "**PG51247 - João Rafael Cerqueira Monteiro**"
   ]
  },
  {
   "cell_type": "markdown",
   "id": "7b7754aa-6ef5-44fa-af77-7589bcceb4f8",
   "metadata": {},
   "source": [
    "## Exercício 2.\n",
    "\n",
    "\n",
    "1. Construir uma classe Python que implemente um KEM - ElGamal. A classe deve\n",
    "    1. Inicializar cada instância recebendo  o parâmetro de segurança (tamanho em bits da ordem do grupo cíclico) e gere as chaves pública e privada.\n",
    "    2. Conter funções para encapsulamento e revelação da chave gerada.\n",
    "    3. Construir,  a partir deste KEM e usando a transformação de Fujisaki-Okamoto, um PKE que seja IND-CCA seguro."
   ]
  },
  {
   "cell_type": "code",
   "execution_count": null,
   "id": "3f38df5c-8b2e-4aec-aa9c-86796a705537",
   "metadata": {},
   "outputs": [],
   "source": []
  }
 ],
 "metadata": {
  "kernelspec": {
   "display_name": "SageMath 9.8",
   "language": "sage",
   "name": "sagemath"
  },
  "language_info": {
   "codemirror_mode": {
    "name": "ipython",
    "version": 3
   },
   "file_extension": ".py",
   "mimetype": "text/x-python",
   "name": "python",
   "nbconvert_exporter": "python",
   "pygments_lexer": "ipython3",
   "version": "3.9.16"
  }
 },
 "nbformat": 4,
 "nbformat_minor": 5
}
