{
 "cells": [
  {
   "cell_type": "markdown",
   "id": "fa7eb1c0-d5cc-4bbd-8e7d-a72548b74718",
   "metadata": {},
   "source": [
    "# TP2\n",
    "## Grupo 17:\n",
    "**PG50315 - David Alexandre Ferreira Duarte**\n",
    "\n",
    "**PG51247 - João Rafael Cerqueira Monteiro**"
   ]
  },
  {
   "cell_type": "markdown",
   "id": "cd3dd67a-750b-477a-a892-dd29441af9fb",
   "metadata": {},
   "source": [
    "## Exercício 1.\n",
    "\n",
    "\n",
    "1. Construir uma classe Python que implemente um KEM - ElGamal. A classe deve\n",
    "    1. Inicializar cada instância recebendo  o parâmetro de segurança (tamanho em bits da ordem do grupo cíclico) e gere as chaves pública e privada.\n",
    "    2. Conter funções para encapsulamento e revelação da chave gerada.\n",
    "    3. Construir,  a partir deste KEM e usando a transformação de Fujisaki-Okamoto, um PKE que seja IND-CCA seguro."
   ]
  },
  {
   "cell_type": "code",
   "execution_count": 1,
   "id": "3901b728-5925-4311-b93c-e2fa173a7685",
   "metadata": {
    "tags": []
   },
   "outputs": [],
   "source": [
    "# Imports\n",
    "\n",
    "from sage.all import *\n",
    "from hashlib import sha256\n",
    "import random\n",
    "import math\n",
    "import secrets\n",
    "\n",
    "from cryptography.hazmat.primitives.ciphers import Cipher, algorithms, modes\n",
    "from cryptography.hazmat.primitives import padding"
   ]
  },
  {
   "cell_type": "markdown",
   "id": "c1b08944-4552-40b6-8126-62bb2ff17fa5",
   "metadata": {},
   "source": [
    "A classe **KEMElGamal** foi implementada para gerar chaves pública e privada. A classe recebe o parâmetro de segurança que é o tamanho em *bits* da ordem do grupo cíclico. A chave privada é gerada como um número aleatório entre $1$ e $p-2$, onde *p* é um número primo gerado aleatoriamente. A chave pública é gerada como o par *(p, g, h)*, onde *g* é um elemento primitivo do grupo cíclico e $h = g^x mod p$, onde *x* é a chave privada. A classe também possui funções para encapsulamento e revelação da chave gerada."
   ]
  },
  {
   "cell_type": "markdown",
   "id": "2619d5f9-02e5-4d62-a1f2-dd0a4fa199ae",
   "metadata": {},
   "source": [
    "A função `init`: é uma função de inicialização recebe como entrada o parâmetro de segurança *sec_param* e inicializa as variáveis necessárias para o esquema **ElGamal**, incluindo a escolha de um primo aleatório *p*, a escolha de um gerador primitivo *g* e um valor *x* aleatório, que representa a chave privada. Ela também calcula a chave pública *h*, que é $g^x mod p$"
   ]
  },
  {
   "cell_type": "markdown",
   "id": "c87d8e6c-a320-4ad0-854e-f044d487d736",
   "metadata": {},
   "source": [
    "A função `encapsulate` recebe como entrada a chave pública *pub_key* e gera uma chave de sessão aleatória *k* e um valor *s*, que é a potência de *g* elevada a um valor *y* aleatório, que é a chave de sessão criptografada. A função retorna *k* e *s*."
   ]
  },
  {
   "cell_type": "markdown",
   "id": "17434cd7-abe5-41ee-91dc-aa9dcc52e9ff",
   "metadata": {},
   "source": [
    "A função `decapsulate` recebe como entrada a chave privada *priv_key* e o texto cifrado *ciphertext*. Ela usa a chave privada para calcular a chave de sessão *k*, que é $s^x mod p$. A função retorna *k*."
   ]
  },
  {
   "cell_type": "code",
   "execution_count": 2,
   "id": "cb871d39-5e97-4921-90be-988f1c2b65b0",
   "metadata": {
    "tags": []
   },
   "outputs": [],
   "source": [
    "class KEMElGamal:\n",
    "    \n",
    "    def __init__(self, sec_param):\n",
    "        \"\"\"\n",
    "        Inicializa as chaves pública e privada para o algoritmo de troca de chaves de ElGamal\n",
    "\n",
    "        :param sec_param: Tamanho da chave\n",
    "        \"\"\"\n",
    "        \n",
    "        # Gerar um número primo aleatório de tamanho 2^sec_param\n",
    "        self.p = random_prime(2 ** sec_param)\n",
    "        # Criar um campo finito sobre p\n",
    "        self.F = GF(self.p)\n",
    "        # Encontrar um elemento primitivo do campo finito\n",
    "        self.g = self.F.primitive_element()\n",
    "        \n",
    "        # Gerar uma chave privada aleatória x\n",
    "        self.x = randint(1, self.p-2)\n",
    "        # Calcular a chave pública h = g^x mod p\n",
    "        self.h = pow(self.g, self.x, self.p)\n",
    "        \n",
    "        # Definir as chaves pública e privada\n",
    "        self.priv_key = self.x\n",
    "        self.pub_key = (self.p, self.g, self.h)\n",
    "        \n",
    "    def encapsulate(self, pub_key):\n",
    "        \"\"\"\n",
    "        Encapsula a chave de sessão usando a chave pública do algoritmo de troca de chaves de ElGamal\n",
    "\n",
    "        :param pub_key: Chave pública\n",
    "        :return: k - Chave de sessão encapsulada\n",
    "                 s - Valor intermediário usado na decapsulação da chave de sessão\n",
    "        \"\"\"\n",
    "        \n",
    "        p, g, h = pub_key\n",
    "        \n",
    "        # Gerar um valor aleatório y\n",
    "        y = random.randint(1, p-1)\n",
    "        # Calcular k = h^y mod p\n",
    "        k = pow(h,y,p)\n",
    "        # Calcular s = g^y mod p\n",
    "        s = pow(g,y,p)\n",
    "        \n",
    "        return k, s\n",
    "        \n",
    "    def decapsulate(self, priv_key, ciphertext):\n",
    "        \"\"\"\n",
    "        Decapsula a chave de sessão usando a chave privada do algoritmo de troca de chaves de ElGamal\n",
    "\n",
    "        :param priv_key: Chave privada\n",
    "        :param ciphertext: Texto cifrado contendo s e iv\n",
    "        :return: k - Chave de sessão decapsulada\n",
    "        \"\"\"\n",
    "        \n",
    "        s, iv = ciphertext\n",
    "        \n",
    "        # Calcular k = s^x mod p\n",
    "        k = pow(s, priv_key, self.p)\n",
    "        \n",
    "        return k"
   ]
  },
  {
   "cell_type": "markdown",
   "id": "c0466dfc-9e80-45fd-b946-2590d453ec58",
   "metadata": {},
   "source": [
    "A classe **PKE_FujisakiOkamoto** foi implementada para usar a transformação de **Fujisaki-Okamoto** para construir um **PKE IND-CCA** seguro. A classe recebe o parâmetro de segurança e a instância **KEMElGamal**. A função de criptografia usa a função de encapsulamento da instância **KEMElGamal** para gerar uma chave de criptografia e, em seguida, usa essa chave para cifrar a mensagem usando **AES** em modo **CBC**. A função de decodificação usa a função de decapsulamento da instância **KEMElGamal** para recuperar a chave de criptografia e, em seguida, usa essa chave para decifrar a mensagem usando **AES** em modo **CBC**."
   ]
  },
  {
   "cell_type": "markdown",
   "id": "718c27cf-91e3-4cf5-8945-a8efcd812316",
   "metadata": {},
   "source": [
    "A função `init`: é uma função de inicialização recebe como entrada o parâmetro de segurança *sec_param* e uma instância da classe **KEMElGamal** *kem*. Ela inicializa as variáveis necessárias para o esquema *FO*, incluindo a instância da classe **KEMElGamal** *kem* e o tamanho da chave usada pelo algoritmo **AES**."
   ]
  },
  {
   "cell_type": "markdown",
   "id": "080660bc-d64a-4656-8a1e-8552df513dc9",
   "metadata": {},
   "source": [
    "A função `encrypt` recebe como entrada a chave pública *pub_key* e a mensagem *msg*. Ela gera uma chave de sessão aleatória utilizando o esquema **KEM** de **ElGamal** e usa a chave de sessão para criptografar a mensagem usando o algoritmo **AES** no modo **CBC** com preenchimento `PKCS#7`. A função retorna o texto cifrado, que é um tuplo *(s, ct, iv)*, onde *s* é o valor criptografado da chave de sessão, *ct* é o texto cifrado e *iv* é o vetor de inicialização usado pelo algoritmo **AES**."
   ]
  },
  {
   "cell_type": "markdown",
   "id": "0370f3ff-dc87-4810-abc9-eb4815a97728",
   "metadata": {},
   "source": [
    "A função `decrypt` recebe como entrada a chave privada *priv_key* e o texto cifrado *ct*. Ela utiliza a chave privada para decifrar a chave de sessão *s* utilizando o esquema **KEM** de **ElGamal** e usa a chave de sessão para decifrar o texto cifrado utilizando o algoritmo **AES** no modo **CBC** com preenchimento `PKCS#7`. A função retorna a mensagem decifrada."
   ]
  },
  {
   "cell_type": "code",
   "execution_count": 3,
   "id": "43ce0ae3-67a9-4cf7-b284-0981dffd018a",
   "metadata": {
    "tags": []
   },
   "outputs": [],
   "source": [
    "class PKE_FujisakiOkamoto:\n",
    "\n",
    "    def __init__(self, sec_param, kem):\n",
    "        \"\"\"\n",
    "        Inicializa o esquema de criptografia Fujisaki-Okamoto\n",
    "\n",
    "        :param sec_param: Tamanho da chave\n",
    "        :param kem: Objeto da classe KEMElGamal contendo as chaves públicas e privadas\n",
    "        \"\"\"\n",
    "        \n",
    "        self.kem = kem\n",
    "        self.key_size = sec_param\n",
    "\n",
    "    def encrypt(self, pub_key, msg):\n",
    "        \"\"\"\n",
    "        Criptografa a mensagem usando a chave pública\n",
    "\n",
    "        :param pub_key: Chave pública\n",
    "        :param msg: Mensagem a ser criptografada\n",
    "        :return: c - Texto cifrado contendo s, ct e iv\n",
    "        \"\"\"\n",
    "        \n",
    "        # Encapsular a chave de sessão\n",
    "        k, s = self.kem.encapsulate(pub_key)\n",
    "        # converte a chave de sessão encapsulada em uma chave AES de tamanho key_size\n",
    "        aes_key = int(k).to_bytes(self.key_size, byteorder='big')\n",
    "        # gera um vetor de inicialização aleatório de tamanho key_size\n",
    "        iv = secrets.token_bytes(self.key_size)\n",
    "        # cria um objeto de cifração AES com modo CBC\n",
    "        cipher = Cipher(algorithms.AES(aes_key), modes.CBC(iv))\n",
    "        \n",
    "        # adiciona padding à mensagem original\n",
    "        padder = padding.PKCS7(self.key_size * 8).padder()\n",
    "        padded_msg = padder.update(msg) + padder.finalize()\n",
    "        \n",
    "        # criptografa a mensagem com a chave AES\n",
    "        encryptor = cipher.encryptor()\n",
    "        ct = encryptor.update(padded_msg) + encryptor.finalize()\n",
    "        \n",
    "        # retorna o texto cifrado junto com a chave de sessão encapsulada e o vetor de inicialização\n",
    "        c = (s, ct, iv)\n",
    "        \n",
    "        return c\n",
    "\n",
    "    def decrypt(self, priv_key, ct):\n",
    "        \"\"\"\n",
    "        Descriptografa o texto cifrado usando a chave privada\n",
    "\n",
    "        :param priv_key: Chave privada\n",
    "        :param ct: Texto cifrado contendo s, ct e iv\n",
    "        :return: msg - Mensagem descriptografada\n",
    "        \"\"\"\n",
    "       \n",
    "        # Extrai os valores s, ct e iv do texto cifrado\n",
    "        s, ct, iv = ct\n",
    "        # Decapsula a chave de sessão usando a chave privada\n",
    "        k = self.kem.decapsulate(priv_key, (s, iv))\n",
    "         # converte a chave de sessão encapsulada em uma chave AES de tamanho key_size\n",
    "        aes_key = int(k).to_bytes(self.key_size, byteorder='big')\n",
    "        # cria um objeto de decifração AES com modo CBC\n",
    "        cipher = Cipher(algorithms.AES(aes_key), modes.CBC(iv))\n",
    "        \n",
    "        # decifra o texto cifrado com a chave AES\n",
    "        decryptor = cipher.decryptor()\n",
    "        unpadded_msg = decryptor.update(ct) + decryptor.finalize()\n",
    "        \n",
    "        # remove o padding da mensagem descriptografada\n",
    "        unpadder = padding.PKCS7(self.key_size * 8).unpadder()\n",
    "        msg = unpadder.update(unpadded_msg) + unpadder.finalize()\n",
    "        \n",
    "        return msg"
   ]
  },
  {
   "cell_type": "code",
   "execution_count": 4,
   "id": "b1aed9bc-0d9b-4a7d-bf47-b53e93148ea0",
   "metadata": {
    "tags": []
   },
   "outputs": [
    {
     "name": "stdout",
     "output_type": "stream",
     "text": [
      "Mensagem Original:  Estruturas Criptograficas - Grupo 17!\n",
      "Mensagem Decifrada:  Estruturas Criptograficas - Grupo 17!\n",
      "A mensagem original e a mensagem decifrada são iguais (True), diferentes (False)\n",
      "True\n"
     ]
    }
   ],
   "source": [
    "# Cria um objeto KEMElGamal com um tamanho de chave de 128 bits\n",
    "kem = KEMElGamal(128)\n",
    "\n",
    "# Cria um objeto PKE_FujisakiOkamoto com um tamanho de chave de 16 bytes e o objeto KEM criado anteriormente\n",
    "pke = PKE_FujisakiOkamoto(16, kem)\n",
    "\n",
    "# Obtém a chave pública e privada do objeto KEM\n",
    "pub_key = pke.kem.pub_key\n",
    "priv_key = pke.kem.priv_key\n",
    "\n",
    "# Define uma mensagem de exemplo e a codifica em bytes\n",
    "msg = \"Estruturas Criptograficas - Grupo 17!\"\n",
    "msg_encoded = msg.encode()\n",
    "\n",
    "# Criptografa a mensagem usando a chave pública do objeto KEM e retorna o texto cifrado\n",
    "ciphertext = pke.encrypt(pub_key, msg_encoded)\n",
    "\n",
    "# Descriptografa o texto cifrado usando a chave privada do objeto KEM e retorna a mensagem original\n",
    "decrypted_msg = pke.decrypt(priv_key, ciphertext)\n",
    "\n",
    "# Decodifica a mensagem original de volta para texto\n",
    "msg_decoded = decrypted_msg.decode()\n",
    "\n",
    "\n",
    "# Imprime a mensagem original, a mensagem decifrada e se são iguais ou não\n",
    "print(\"Mensagem Original: \", msg)\n",
    "# print(\"Ciphertext: \", ciphertext)\n",
    "print(\"Mensagem Decifrada: \", msg_decoded)\n",
    "print(\"A mensagem original e a mensagem decifrada são iguais (True), diferentes (False)\")\n",
    "print(msg == msg_decoded)"
   ]
  }
 ],
 "metadata": {
  "kernelspec": {
   "display_name": "SageMath 9.8",
   "language": "sage",
   "name": "sagemath"
  },
  "language_info": {
   "codemirror_mode": {
    "name": "ipython",
    "version": 3
   },
   "file_extension": ".py",
   "mimetype": "text/x-python",
   "name": "python",
   "nbconvert_exporter": "python",
   "pygments_lexer": "ipython3",
   "version": "3.10.9"
  }
 },
 "nbformat": 4,
 "nbformat_minor": 5
}
