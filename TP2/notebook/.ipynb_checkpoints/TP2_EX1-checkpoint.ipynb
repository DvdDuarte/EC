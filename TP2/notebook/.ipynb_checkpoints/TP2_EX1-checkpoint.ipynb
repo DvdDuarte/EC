{
 "cells": [
  {
   "cell_type": "markdown",
   "id": "faae72d7-5155-4abb-8428-eb42d22b7b8f",
   "metadata": {},
   "source": [
    "# TP2\n",
    "## Grupo 17:\n",
    "**PG50315 - David Alexandre Ferreira Duarte**\n",
    "\n",
    "**PG51247 - João Rafael Cerqueira Monteiro**"
   ]
  },
  {
   "cell_type": "markdown",
   "id": "7b7754aa-6ef5-44fa-af77-7589bcceb4f8",
   "metadata": {
    "tags": []
   },
   "source": [
    "## Exercício 1.\n",
    "\n",
    "\n",
    "1. Construir uma classe Python que implemente um KEM - ElGamal. A classe deve\n",
    "    1. Inicializar cada instância recebendo  o parâmetro de segurança (tamanho em bits da ordem do grupo cíclico) e gere as chaves pública e privada.\n",
    "    2. Conter funções para encapsulamento e revelação da chave gerada.\n",
    "    3. Construir,  a partir deste KEM e usando a transformação de Fujisaki-Okamoto, um PKE que seja IND-CCA seguro."
   ]
  },
  {
   "cell_type": "code",
   "execution_count": 1,
   "id": "e32178ee-c426-41b3-b095-a6802668f794",
   "metadata": {
    "tags": []
   },
   "outputs": [],
   "source": [
    "#!pip install sagemath\n",
    "#!pip install pycryptodome"
   ]
  },
  {
   "cell_type": "code",
   "execution_count": 2,
   "id": "0855d210-9f78-47f1-adbe-ee32d718d1ec",
   "metadata": {
    "tags": []
   },
   "outputs": [],
   "source": [
    "import random\n",
    "import math\n",
    "import secrets\n",
    "\n",
    "from cryptography.hazmat.primitives import *\n",
    "from Crypto.Util.number import getPrime\n",
    "from Crypto.Cipher import AES\n",
    "from Crypto.Util.Padding import pad, unpad\n",
    "\n",
    "from cryptography.hazmat.primitives.ciphers import Cipher, algorithms, modes\n",
    "from cryptography.hazmat.primitives import padding\n",
    "from cryptography.hazmat.backends import default_backend\n",
    "from cryptography.hazmat.primitives import hashes\n",
    "from cryptography.hazmat.primitives.asymmetric import ec"
   ]
  },
  {
   "cell_type": "markdown",
   "id": "f8575e9d-320f-4e11-8073-494f42d43298",
   "metadata": {
    "tags": []
   },
   "source": [
    "### KEM - ElGamal\n",
    "O KEM - ElGamal é um sistema de criptografia de chave pública que utiliza a criptografia de ElGamal como base para gerar uma chave de sessão. A chave pública consiste num par de elementos (g, h), onde g é um gerador de um grupo cíclico de ordem p e h é a imagem de g elevado a uma chave privada x."
   ]
  },
  {
   "cell_type": "markdown",
   "id": "36ba6aae-d381-42e1-b5de-e1a22fa8f3e6",
   "metadata": {
    "tags": []
   },
   "source": [
    "#### 1. Inicialização\n",
    "A primeira etapa é a inicialização da classe KEM_ElGamal, que receberá como entrada o parâmetro de segurança n (tamanho em bits da ordem do grupo cíclico) e gerará as chaves pública e privada."
   ]
  },
  {
   "cell_type": "markdown",
   "id": "a3a5ad60-7bab-4fdb-b300-9ef0cf919100",
   "metadata": {},
   "source": [
    "Na inicialização da classe, o método init recebe o parâmetro de segurança n e gera os valores de p, g, x e h. O valor de p é gerado utilizando a função ``getPrime``, que retorna um número primo com n bits de tamanho. O valor de g é gerado aleatoriamente utilizando a função ``randint``, que retorna um número aleatório dentro do intervalo $[2, p-1]$. O valor de x também é gerado aleatoriamente dentro do intervalo $[2, p-2]$. Finalmente, o valor de h é calculado como a imagem de g elevado à chave privada x módulo p."
   ]
  },
  {
   "cell_type": "markdown",
   "id": "3e25d421-8ea8-41f2-8f39-7660cd8d343b",
   "metadata": {
    "tags": []
   },
   "source": [
    "#### 2. Encapsulamento\n",
    "A segunda etapa é a função de encapsulamento, que recebe a chave pública pub_key do destinatário e retorna a chave de sessão e o ciphertext."
   ]
  },
  {
   "cell_type": "markdown",
   "id": "8c8e8acc-357a-4e54-bb65-e39c81f2ebf5",
   "metadata": {},
   "source": [
    "A função ``encapsulate`` recebe a chave pública pk do destinatário, que consiste em um par de elementos (p, g, h). Em seguida, um número aleatório y é gerado dentro do intervalo $[1, p-1]$. O valor de k é calculado como a imagem de h elevado a y módulo p e o valor de s é calculado como a imagem de g elevado a y módulo p. A chave de sessão é o valor de k e o ciphertext é o par de elementos $(s, h^y)$."
   ]
  },
  {
   "cell_type": "markdown",
   "id": "b84c4e30-3421-4bfa-b64d-ef8a8b095233",
   "metadata": {},
   "source": [
    "#### 3. Revelação\n",
    "A terceira etapa é a função `reveal`, que recebe a chave privada priv_key do destinatário e o ciphertext (s, t) e retorna a chave de sessão."
   ]
  },
  {
   "cell_type": "markdown",
   "id": "e214f44f-03ec-406b-8e3d-d7c461b21dc0",
   "metadata": {},
   "source": [
    "A função reveal recebe a chave privada priv_key do destinatário e o ciphertext ct (s, t), que consiste em um par de elementos $(s, h^y)$. O valor de k é calculado como a imagem de s elevado a chave privada priv_key módulo p."
   ]
  },
  {
   "cell_type": "code",
   "execution_count": 3,
   "id": "f2a0c4ec-d5af-4fa7-a4e1-b49dc3489c72",
   "metadata": {
    "tags": []
   },
   "outputs": [],
   "source": [
    "class KEM_ElGamal:\n",
    "    def __init__(self, sec_param):\n",
    "        self.p = getPrime(sec_param)\n",
    "        self.g = random.randint(2,self.p-1)\n",
    "        self.x = random.randint(2,self.p-2)\n",
    "        self.h = pow(self.g, self.x, self.p)\n",
    "        self.priv_key = self.x\n",
    "        self.pub_key = (self.p, self.g, self.h)\n",
    "        \n",
    "        \"\"\"\n",
    "        self.priv_key = ec.generate_private_key(ec.SECP384R1()) #self.x\n",
    "        self.pub_key = self.priv_key.public_key() #(self.p, self.g, self.h)\n",
    "        \n",
    "        self.p = self.pub_key.public_numbers().x\n",
    "        self.g = random.randint(2,self.p-1)\n",
    "        self.x = random.randint(2,self.p-2)\n",
    "        self.h = pow(self.g, self.x, self.p)\n",
    "        \"\"\"\n",
    "        print(self.pub_key)\n",
    "\n",
    "    def encapsulate(self, pub_key):\n",
    "        p, g, h = pub_key\n",
    "        y = random.randint(1, p-1)\n",
    "        k = pow(h,y,p)\n",
    "        s = pow(g,y,p)\n",
    "        return k, s\n",
    "\n",
    "    def reveal(self, priv_key, ciphertext):\n",
    "        s, t = ciphertext\n",
    "        k = pow(s, priv_key, self.p)\n",
    "        return k\n"
   ]
  },
  {
   "cell_type": "markdown",
   "id": "1dfdbc67-c359-490a-b922-aade25749f5a",
   "metadata": {},
   "source": [
    "### Transformação de Fujisaki-Okamoto\n",
    "A transformação de Fujisaki-Okamoto é utilizada para transformar um KEM em um PKE IND-CCA seguro. A ideia é que a chave de sessão gerada pelo KEM seja utilizada como chave para criptografar a mensagem utilizando uma cifra simétrica."
   ]
  },
  {
   "cell_type": "markdown",
   "id": "cf189de8-1954-4604-86a3-08263da72082",
   "metadata": {},
   "source": [
    "#### 1. Inicialização\n",
    "A primeira etapa é a inicialização da classe `PKE_F`, que recebe como entrada o parâmetro de segurança n (tamanho em bits da ordem do grupo cíclico) e um objeto da classe`KEM_ElGamal`."
   ]
  },
  {
   "cell_type": "markdown",
   "id": "e0fad642-a280-4521-add0-e66870fd79ef",
   "metadata": {},
   "source": [
    "Na inicialização da classe, o método `ini` recebe o parâmetro de segurança n e um objeto da classe KEM_ElGamal. O atributo kem armazena o objeto da classe KEM e o atributo key_size armazena o tamanho da chave da cifra simétrica em bytes."
   ]
  },
  {
   "cell_type": "markdown",
   "id": "7d1840cf-ea75-4cc5-936f-f2acf19e2d4c",
   "metadata": {},
   "source": [
    "#### 2. Cifragem\n",
    "A segunda etapa é a função de cifrar, que recebe a chave pública pub_key do destinatário e a mensagem msg e retorna o ciphertext."
   ]
  },
  {
   "cell_type": "markdown",
   "id": "cd052e22-9bfd-466c-8bc1-f5c7c904b6a9",
   "metadata": {},
   "source": [
    "A função encrypt recebe a chave pública pub_key do destinatário e a mensagem msg. Em seguida, a chave de sessão k e o valor s são gerados utilizando a função `encapsulat` do objeto kem da classe`KEM_ElGamal`. A chave de sessão k é convertida para um objeto bytes utilizando o método `to_byte` e o tamanho da chave da cifra simétrica em bytes. A cifra simétrica **AES** é utilizada para criptografar a mensagem msg utilizando a chave de sessão k. O método `pad` é utilizado para adicionar *padding* à mensagem para que ela tenha um tamanho múltiplo do tamanho da chave da cifra simétrica. O ciphertext é o par de elementos $(s, ct, iv)$, onde ct é a mensagem cifrada, s é um valor utilizado na decifragem e iv é o vetor de inicialização utilizado na cifra simétrica."
   ]
  },
  {
   "cell_type": "markdown",
   "id": "bd6191a4-aea6-49c6-ad71-96fd522f65e1",
   "metadata": {},
   "source": [
    "#### 3. Decifragem\n",
    "A terceira etapa é a função de decifrar, que recebe a chave privada priv_key do destinatário e o ciphertext c e retorna a mensagem original."
   ]
  },
  {
   "cell_type": "markdown",
   "id": "c36a7cb3-3b9e-4c11-be85-76cd338d3d39",
   "metadata": {},
   "source": [
    "Na função decrypt, a chave privada priv_key do destinatário e o ciphertext c são recebidos como entrada. O valor s, a mensagem cifrada ct e o vetor de inicialização iv são extraídos do ciphertext c. A chave de sessão k é recuperada utilizando a função `reveal` do objeto kem da classe `KEM_ElGamal`. O valor s e o vetor de inicialização iv são utilizados como entrada para a função `reveal`, pois são usados para calcular a chave de sessão k durante o encapsulamento. A chave de sessão k é convertida para um objeto bytes utilizando o método `to_bytes` e o tamanho da chave da cifra simétrica em bytes. A cifra simétrica AES é utilizada para decifrar a mensagem cifrada ct usando a chave de sessão k e o vetor de inicialização iv. O método `unpad` é utilizado para remover o padding da mensagem decifrada e retornar a mensagem original."
   ]
  },
  {
   "cell_type": "code",
   "execution_count": 4,
   "id": "9e2eecd2-0b8b-4c69-bea9-83dbfc17d7a5",
   "metadata": {},
   "outputs": [],
   "source": [
    "\"\"\"\n",
    "class PKE_FujisakiOkamoto:\n",
    "    def __init__(self, sec_param, kem):\n",
    "        self.sec_param = sec_param\n",
    "        self.kem = kem\n",
    "        self.key_size = 16\n",
    "\n",
    "    def encrypt(self, pub_key, msg):\n",
    "        \n",
    "        k, s = self.kem.encapsulate(pub_key)\n",
    "        \n",
    "        aes_key = k.to_bytes(self.key_size, byteorder='big')\n",
    "        cipher = AES.new(aes_key, AES.MODE_CBC)\n",
    "        padded_msg = pad(msg, self.key_size)\n",
    "        ciphertext = cipher.encrypt(padded_msg)\n",
    "        c = (s, ciphertext, cipher.iv)\n",
    "                    \n",
    "        return c\n",
    "\n",
    "    def decrypt(self, priv_key, ciphertext):\n",
    "        s, ct, iv = ciphertext\n",
    "        k = self.kem.reveal(priv_key, (s,iv))\n",
    "        aes_key = k.to_bytes(self.key_size, byteorder='big')\n",
    "        cipher = AES.new(aes_key, AES.MODE_CBC, iv)\n",
    "        msg = cipher.decrypt(ct)\n",
    "        unpadded_msg = unpad(msg, self.key_size)\n",
    "        \n",
    "        return unpadded_msg\n",
    "    \"\"\"\n",
    "\n",
    "class PKE_FujisakiOkamoto:\n",
    "    def __init__(self, n, kem):\n",
    "        self.n = n\n",
    "        self.kem = kem\n",
    "        self.key_size = 16\n",
    "\n",
    "    def encrypt(self, pk, msg):\n",
    "        k, s = self.kem.encapsulate(pk)\n",
    "        aes_key = k.to_bytes(self.key_size, byteorder='big')\n",
    "        iv = secrets.token_bytes(self.key_size)  # gera vetor de inicialização aleatório\n",
    "        cipher = Cipher(algorithms.AES(aes_key), modes.CBC(iv), backend=default_backend())\n",
    "        padder = padding.PKCS7(self.key_size * 8).padder()\n",
    "        padded_msg = padder.update(msg) + padder.finalize()\n",
    "        encryptor = cipher.encryptor()\n",
    "        ct = encryptor.update(padded_msg) + encryptor.finalize()\n",
    "        c = (s, ct, iv)\n",
    "        return c\n",
    "\n",
    "    def decrypt(self, priv_key, ct):\n",
    "        s, ct, iv = ct\n",
    "        k = self.kem.reveal(priv_key, (s, iv))\n",
    "        aes_key = k.to_bytes(self.key_size, byteorder='big')\n",
    "        cipher = Cipher(algorithms.AES(aes_key), modes.CBC(iv), backend=default_backend())\n",
    "        decryptor = cipher.decryptor()\n",
    "        unpadded_msg = decryptor.update(ct) + decryptor.finalize()\n",
    "        unpadder = padding.PKCS7(self.key_size * 8).unpadder()\n",
    "        msg = unpadder.update(unpadded_msg) + unpadder.finalize()\n",
    "        return msg\n"
   ]
  },
  {
   "cell_type": "code",
   "execution_count": 5,
   "id": "b4aca17c-109a-4237-a240-fd9e02b6690e",
   "metadata": {
    "tags": []
   },
   "outputs": [
    {
     "name": "stdout",
     "output_type": "stream",
     "text": [
      "(117973, 21184, 18224)\n",
      "Mensagem Original:  b'Estruturas Criptograficas - Grupo 17!'\n",
      "Mensagem Decifrada:  b'Estruturas Criptograficas - Grupo 17!'\n"
     ]
    }
   ],
   "source": [
    "\"\"\"\n",
    "msg = b\"estruturas criptograficas\"\n",
    "\n",
    "sec_param = 128\n",
    "\n",
    "kem = KEM_ElGamal(sec_param)\n",
    "pke = PKE_FujisakiOkamoto(128, kem)\n",
    "\n",
    "ciphertext = pke.encrypt(kem.pub_key, msg)\n",
    "plaintext = pke.decrypt(kem.priv_key, ciphertext)\n",
    "\n",
    "\n",
    "print(\"Plaintext: \" + plaintext.decode())\n",
    "\"\"\"\n",
    "\n",
    "# instantiate a KEM object with a security parameter of 2048 bits\n",
    "kem = KEM_ElGamal(random.randint(0, 128))\n",
    "\n",
    "# instantiate a PKE object using the KEM object\n",
    "pke = PKE_FujisakiOkamoto(16, kem)\n",
    "\n",
    "# generate a public key and a private key\n",
    "pub_key = kem.pub_key\n",
    "priv_key = kem.priv_key\n",
    "\n",
    "# message to be encrypted\n",
    "msg = b\"Estruturas Criptograficas - Grupo 17!\"\n",
    "\n",
    "# encrypt the message using the public key\n",
    "ciphertext = pke.encrypt(pub_key, msg)\n",
    "\n",
    "# decrypt the ciphertext using the private key\n",
    "decrypted_msg = pke.decrypt(priv_key, ciphertext)\n",
    "\n",
    "# print the original message and the decrypted message to verify that they match\n",
    "print(\"Mensagem Original: \", msg)\n",
    "# print(\"Mensagem Cifrada: \", ciphertext)\n",
    "print(\"Mensagem Decifrada: \", decrypted_msg)"
   ]
  }
 ],
 "metadata": {
  "kernelspec": {
   "display_name": "SageMath 9.8",
   "language": "sage",
   "name": "sagemath"
  },
  "language_info": {
   "codemirror_mode": {
    "name": "ipython",
    "version": 3
   },
   "file_extension": ".py",
   "mimetype": "text/x-python",
   "name": "python",
   "nbconvert_exporter": "python",
   "pygments_lexer": "ipython3",
   "version": "3.10.9"
  }
 },
 "nbformat": 4,
 "nbformat_minor": 5
}
