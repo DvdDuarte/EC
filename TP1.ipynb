{
 "cells": [
  {
   "cell_type": "markdown",
   "id": "477f0d9a-89cc-44dc-8639-e0494384fb08",
   "metadata": {
    "tags": []
   },
   "source": [
    "# TP1\n",
    "## Grupo 17:\n",
    "**PG50315 - David Alexandre Ferreira Duarte**\n",
    "\n",
    "**PG51247 - João Rafael Cerqueira Monteiro**"
   ]
  },
  {
   "cell_type": "markdown",
   "id": "143c4bd8-ce2a-4743-a0c9-854e54d62636",
   "metadata": {},
   "source": [
    "Use a package Criptography  para \n",
    "\n",
    "## 1. Criar um comunicação privada assíncrona entre um agente Emitter e um agente Receiver que cubra os seguintes aspectos:\n",
    "    1. Autenticação do criptograma e dos metadados (associated data). Usar uma cifra simétrica  num modo **HMAC**  que seja seguro contra ataques aos “nounces” .\n",
    "    2. Os “nounces” são gerados por um gerador pseudo aleatório (PRG) construído por um função de hash em modo XOF.\n",
    "    3. O par de chaves $$cipher\\_key$$, $$mac\\_key$$ , para cifra e autenticação, é acordado entre agentes usando o protocolo ECDH com autenticação dos agentes usando assinaturas ECDSA."
   ]
  },
  {
   "cell_type": "code",
   "execution_count": 1,
   "id": "d5413432-b26d-4c2d-b51d-6c149c3a8080",
   "metadata": {},
   "outputs": [
    {
     "name": "stdout",
     "output_type": "stream",
     "text": [
      "Requirement already satisfied: cryptography in /home/sleiman/mambaforge/envs/sage/lib/python3.9/site-packages (39.0.2)\n",
      "Requirement already satisfied: cffi>=1.12 in /home/sleiman/mambaforge/envs/sage/lib/python3.9/site-packages (from cryptography) (1.15.1)\n",
      "Requirement already satisfied: pycparser in /home/sleiman/mambaforge/envs/sage/lib/python3.9/site-packages (from cffi>=1.12->cryptography) (2.21)\n"
     ]
    }
   ],
   "source": [
    "!pip install cryptography"
   ]
  },
  {
   "cell_type": "code",
   "execution_count": 5,
   "id": "784b50c7-082d-43c4-8d81-9b0bc9267a1f",
   "metadata": {},
   "outputs": [],
   "source": [
    "# Import\n",
    "import nest_asyncio\n",
    "import asyncio\n",
    "from cryptography.hazmat.primitives import hashes, hmac\n",
    "import os"
   ]
  },
  {
   "cell_type": "markdown",
   "id": "5501e1cc-138c-4a46-b9ce-14f6b3203b5b",
   "metadata": {},
   "source": [
    "### Gerar Chaves Privada e Publica"
   ]
  },
  {
   "cell_type": "code",
   "execution_count": 11,
   "id": "3a7deb95-6e3e-41a9-b4bd-9fb626278b32",
   "metadata": {},
   "outputs": [],
   "source": []
  },
  {
   "cell_type": "code",
   "execution_count": null,
   "id": "48dde536-823c-458b-841b-ff8cac27b8d3",
   "metadata": {},
   "outputs": [],
   "source": []
  }
 ],
 "metadata": {
  "kernelspec": {
   "display_name": "Python 3 (ipykernel)",
   "language": "python",
   "name": "python3"
  },
  "language_info": {
   "codemirror_mode": {
    "name": "ipython",
    "version": 3
   },
   "file_extension": ".py",
   "mimetype": "text/x-python",
   "name": "python",
   "nbconvert_exporter": "python",
   "pygments_lexer": "ipython3",
   "version": "3.9.16"
  }
 },
 "nbformat": 4,
 "nbformat_minor": 5
}
