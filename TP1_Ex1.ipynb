{
 "cells": [
  {
   "cell_type": "markdown",
   "id": "477f0d9a-89cc-44dc-8639-e0494384fb08",
   "metadata": {
    "tags": []
   },
   "source": [
    "# TP1\n",
    "## Grupo 17:\n",
    "**PG50315 - David Alexandre Ferreira Duarte**\n",
    "\n",
    "**PG51247 - João Rafael Cerqueira Monteiro**"
   ]
  },
  {
   "cell_type": "markdown",
   "id": "143c4bd8-ce2a-4743-a0c9-854e54d62636",
   "metadata": {
    "tags": []
   },
   "source": [
    "## Exercício 1. \n",
    "Use a package Criptography  para \n",
    "Criar um comunicação privada assíncrona entre um agente Emitter e um agente Receiver que cubra os seguintes aspectos:\n",
    "    1. Autenticação do criptograma e dos metadados (associated data). Usar uma cifra simétrica  num modo **HMAC**  que seja seguro contra ataques aos “nounces” .\n",
    "    2. Os “nounces” são gerados por um gerador pseudo aleatório (PRG) construído por um função de hash em modo XOF.\n",
    "    3. O par de chaves $$cipher\\_key$$, $$mac\\_key$$ , para cifra e autenticação, é acordado entre agentes usando o protocolo ECDH com autenticação dos agentes usando assinaturas ECDSA."
   ]
  },
  {
   "cell_type": "code",
   "execution_count": 1,
   "id": "d5413432-b26d-4c2d-b51d-6c149c3a8080",
   "metadata": {},
   "outputs": [
    {
     "name": "stdout",
     "output_type": "stream",
     "text": [
      "Requirement already satisfied: cryptography in /home/sleiman/mambaforge/envs/sage/lib/python3.9/site-packages (39.0.2)\n",
      "Requirement already satisfied: cffi>=1.12 in /home/sleiman/mambaforge/envs/sage/lib/python3.9/site-packages (from cryptography) (1.15.1)\n",
      "Requirement already satisfied: pycparser in /home/sleiman/mambaforge/envs/sage/lib/python3.9/site-packages (from cffi>=1.12->cryptography) (2.21)\n",
      "Requirement already satisfied: nest_asyncio in /home/sleiman/mambaforge/envs/sage/lib/python3.9/site-packages (1.5.6)\n"
     ]
    }
   ],
   "source": [
    "!pip install cryptography\n",
    "!pip install nest_asyncio"
   ]
  },
  {
   "cell_type": "code",
   "execution_count": 2,
   "id": "f3fd3266-3660-4a51-9cf8-a830c766da36",
   "metadata": {},
   "outputs": [],
   "source": [
    "# Imports\n",
    "import os\n",
    "import random\n",
    "import asyncio\n",
    "import nest_asyncio\n",
    "from pickle import dumps, loads\n",
    "from cryptography.hazmat.primitives import hashes, hmac, serialization\n",
    "from cryptography.hazmat.primitives.asymmetric import ec\n",
    "from cryptography.hazmat.primitives.ciphers.aead import AESCCM\n",
    "from cryptography.hazmat.primitives.serialization import load_pem_public_key\n",
    "from cryptography.hazmat.primitives.ciphers import Cipher, algorithms, modes\n",
    "from cryptography.exceptions import InvalidSignature\n"
   ]
  },
  {
   "cell_type": "code",
   "execution_count": 3,
   "id": "05560a12-d537-49d3-a4f5-651decafdeb0",
   "metadata": {},
   "outputs": [],
   "source": [
    "nest_asyncio.apply()"
   ]
  },
  {
   "cell_type": "code",
   "execution_count": 4,
   "id": "88912014-34f9-44ba-9f6a-a4e149feda72",
   "metadata": {},
   "outputs": [],
   "source": [
    "def gerarChaves():\n",
    "    cifraChavePrivada = ec.generate_private_key(ec.SECP384R1())\n",
    "    cifraChavePublica = cifraChavePrivada.public_key()\n",
    "    \n",
    "    macChavePrivada = ec.generate_private_key(ec.SECP384R1())\n",
    "    macChavePublica = macChavePrivada.public_key()\n",
    "\n",
    "    mensagem = {'sms_cipher': cifraChavePublica.public_bytes(encoding=serialization.Encoding.PEM, format=serialization.PublicFormat.SubjectPublicKeyInfo), \n",
    "                'sms_mac': macChavePublica.public_bytes(encoding=serialization.Encoding.PEM, format= serialization.PublicFormat.SubjectPublicKeyInfo)}\n",
    "    \n",
    "    return dumps(mensagem), cifraChavePrivada, macChavePrivada\n"
   ]
  },
  {
   "cell_type": "code",
   "execution_count": 5,
   "id": "d04e12b9-ffdd-495c-8fc6-e94f100fc323",
   "metadata": {},
   "outputs": [],
   "source": [
    "def gerarAssinatura(sms, chavePrivada):\n",
    "    \n",
    "    assinatura = chavePrivada.sign(sms, ec.ECDSA(hashes.SHA3_256()))\n",
    "    \n",
    "    smsFinal = {'message': sms, \n",
    "                'signature': assinatura, \n",
    "                'pub_key': chavePrivada.public_key().public_bytes(encoding=serialization.Encoding.PEM, format=serialization.PublicFormat.SubjectPublicKeyInfo)}\n",
    "\n",
    "    return smsFinal"
   ]
  },
  {
   "cell_type": "code",
   "execution_count": 6,
   "id": "4b662017-4c4b-46cc-8363-8039ce8294dc",
   "metadata": {},
   "outputs": [],
   "source": [
    "def gerarChavePartilhada(sms, cifraChavePrivada, macChavePrivada):\n",
    "    cifraChavePublica = load_pem_public_key(sms['sms_cipher'])\n",
    "    macChavePublica = load_pem_public_key(sms['sms_mac'])\n",
    "\n",
    "    cifraChavePartilhada = cifraChavePrivada.exchange(ec.ECDH(), cifraChavePublica)\n",
    "    macChavePartilhada = macChavePrivada.exchange(ec.ECDH(), macChavePublica)\n",
    "\n",
    "    return cifraChavePartilhada, macChavePartilhada\n"
   ]
  },
  {
   "cell_type": "code",
   "execution_count": 7,
   "id": "cdca72e6-e0a8-483d-82f7-336838d7535c",
   "metadata": {},
   "outputs": [],
   "source": [
    "def gerarChaveDerivada(cifraChavePartilhada, macChavePartilhada):\n",
    "    cifraDerivada = HKDF(algorithm=hashes.SHA3_256(), length=32, salt=None, info=b'handshake data',).derive(cifraChavePartilhada)\n",
    "    macDerivada = HKDF(algorithm=hashes.SHA3_256(), length=32, salt=None, info=b'handshake data',).derive(macChavePartilhada)    \n",
    "    \n",
    "    return cifraDerivada, macDerivada"
   ]
  },
  {
   "cell_type": "code",
   "execution_count": 8,
   "id": "6723c9fe-b143-45a0-b1f3-3d238f8b7deb",
   "metadata": {},
   "outputs": [],
   "source": [
    "def gerarMac(chave, crypto):\n",
    "    h = hmac.HMAC(chave, hashes.SHA3_256())\n",
    "    h.update(crypto)\n",
    "    return h.finalize()"
   ]
  },
  {
   "cell_type": "code",
   "execution_count": 9,
   "id": "898f4d39-6fd8-4453-b5a8-083ef0af8e08",
   "metadata": {},
   "outputs": [],
   "source": [
    "def cifrar(plaintext, cifraChave, macChave):\n",
    "    \n",
    "    xof = hashes.Hash(hashes.SHA3_256())\n",
    "    nonce = xof.finalize()\n",
    "    additionalData = os.urandom(16)\n",
    "\n",
    "    cipher = AESCCM.generate_key(bit_length=128)\n",
    "    \n",
    "    cifra = AESGCM(cipher) \n",
    "\n",
    "    ciphertext = cifra.encrypt(nonce, bytes(plaintext, \"utf-8\"), additionalData)\n",
    "    print(\"Cifrado\")\n",
    "\n",
    "    sms = {'nounce': nounce,\n",
    "           'cipher_text': ciphertext}\n",
    "    \n",
    "    chaveMac = gerarMac(macChave, dumps(sms))\n",
    "    \n",
    "    print(gerarMac)\n",
    "    \n",
    "    return {'message': sms, 'mac_key': chaveMac, 'associated_data': additionalData}\n"
   ]
  },
  {
   "cell_type": "code",
   "execution_count": 10,
   "id": "1370dfa6-2977-461d-a171-2fec78eb3e60",
   "metadata": {},
   "outputs": [],
   "source": [
    "async def decifrar(ciphertext, cifraChave, macChave):\n",
    "    texto = ciphertext['message']\n",
    "\n",
    "    #xof = hashes.Hash(hashes.SHA3_256())\n",
    "    #nonce = xof.finalize()\n",
    "    nonce = texto['nounce']\n",
    "    \n",
    "    cifra = AESGCM(cifraChave)\n",
    "    plaintext = cifra.decrypt(nonce, dumps(texto['cipher_text']), additionalData)\n",
    "\n",
    "    return plaintext\n"
   ]
  },
  {
   "cell_type": "code",
   "execution_count": 11,
   "id": "ac3ecf93-590e-48e4-a7aa-f906742b492a",
   "metadata": {},
   "outputs": [],
   "source": [
    "async def emitter(queue, plaintext):\n",
    "    sms, cifraChavePrivada, macChavePrivada = gerarChaves()\n",
    "    assinatura = gerarAssinatura(sms, cifraChavePrivada)\n",
    "    \n",
    "    print(\"E: Enviar Assinatura...\") \n",
    "    await asyncio.sleep(random.random())\n",
    "    await queue.put(assinatura)\n",
    "    print(\"E: Assinatura Enviada\")\n",
    "    await asyncio.sleep(random.random())\n",
    "    \n",
    "    print(\"E: A Receber Assinatura...\") \n",
    "    chavesRecetor = await queue.get()\n",
    "    print(\"E: Assinatura Recebida\")\n",
    "    \n",
    "    if chavesRecetor is None:\n",
    "        print(\"ERRO - MENSAGEM VAZIA\")\n",
    "    \n",
    "    ecdsaPublico = load_pem_public_key(chavesRecetor['pub_key'])\n",
    "    \n",
    "    ecdsaPublico.verify(chavesRecetor['signature'], chavesRecetor['message'], ec.ECDSA(hashes.SHA3_256()))\n",
    "    pacoteSMS = loads(chavesRecetor['message'])\n",
    "    cifraChavePartilhada, macChavePartilhada = gerarChavePartilhada(pacoteSMS, cifraChavePrivada, macChavePrivada) \n",
    "    \n",
    "    hmacChave = gerarMac(macChavePartilhada, macChavePartilhada)\n",
    "\n",
    "    mensagem = cifrar(plaintext, cifraChavePartilhada, macChavePartilhada)\n",
    "    print(\"E: Mensagem cifrada\")\n",
    "        \n",
    "    mensagem['hmac_key'] = hmacChave\n",
    "    mensagem['associated_data'] = dadosAssociados\n",
    "        \n",
    "    # enviar mensagem\n",
    "    print(\"E: Enviar Mensagem...\")\n",
    "    await asyncio.sleep(random.random())\n",
    "    await queue.put(mensagem)\n",
    "    print(\"E: Mensagem Enviada\")\n",
    "    await asyncio.sleep(random.random())"
   ]
  },
  {
   "cell_type": "code",
   "execution_count": 12,
   "id": "1e4f80f2-2fc6-4649-b9d4-33882523d551",
   "metadata": {},
   "outputs": [],
   "source": [
    "async def receiver(queue):\n",
    "    \n",
    "    pkg, cifraChavePrivada, macChavePrivada = gerarChaves()    \n",
    "    assinatura = gerarAssinatura(pkg, cifraChavePrivada)\n",
    "    \n",
    "    print(\"R: Receber Assinatura\")\n",
    "    assinaturaEmissor = await queue.get()\n",
    "    print(\"R: Assinatura Recebida\")\n",
    "    \n",
    "    ecdsaPublico = load_pem_public_key(assinaturaEmissor['pub_key'])\n",
    "    \n",
    "    try:\n",
    "        ecdsaPublico.verify(assinaturaEmissor['signature'],assinaturaEmissor['message'], ec.ECDSA(hashes.SHA3_256()))\n",
    "        #geração das chaves partilhadas\n",
    "        pkg_msg = loads(assinaturaEmissor['message'])\n",
    "        cifraChavePartilhada, macChavePartilhada = gerarChavePartilhada(pkg_msg,cifraChavePrivada,macChavePrivada)\n",
    "        \n",
    "        # enviar finalPkg \n",
    "        print(\"R: Enviar Assinatura...\")\n",
    "        await asyncio.sleep(random.random())\n",
    "        await queue.put(assinatura)\n",
    "        print(\"R: Assinatura Enviada\")\n",
    "        await asyncio.sleep(random.random())\n",
    "        \n",
    "        print(\"R: Receber Mensagem...\")\n",
    "        message = await queue.get()\n",
    "        print(\"R: Mensagem Recebida\")\n",
    "        \n",
    "        print(message)\n",
    "        \n",
    "        hmac_key = message['hmac_key']\n",
    "        associatedData = message['associated_data']\n",
    "        \n",
    "        #verificar o código de autenticação\n",
    "        if hmac_key == gerarMac(sharedKey_mac,sharedKey_mac):\n",
    "        #decifrar a mensagem\n",
    "            final_message = decifrar(message, sharedKey_cipher, sharedKey_mac,associatedData)\n",
    "        else:\n",
    "            print('ERRO - Chaves diferentes em uso.')\n",
    "    except InvalidSignature:\n",
    "        print(\"ERRO: A mensagem não é autenticada.\")\n"
   ]
  },
  {
   "cell_type": "code",
   "execution_count": 13,
   "id": "05255605-f973-488d-a981-e48f581e6ca0",
   "metadata": {},
   "outputs": [],
   "source": [
    "def main():\n",
    "    \n",
    "    plaintext = 'Emissor -> Recetor: Estruturas Criptograficas'\n",
    "    \n",
    "    print(\"Plaintext: \" + plaintext)\n",
    "    \n",
    "    loop = asyncio.get_event_loop()\n",
    "    queue = asyncio.Queue(10)\n",
    "    asyncio.ensure_future(emitter(queue, plaintext), loop=loop)\n",
    "    loop.run_until_complete(receiver(queue))"
   ]
  },
  {
   "cell_type": "code",
   "execution_count": null,
   "id": "0efdd5b3-2680-4f80-879a-f0163d2b0c27",
   "metadata": {},
   "outputs": [
    {
     "name": "stdout",
     "output_type": "stream",
     "text": [
      "Plaintext: Emissor -> Recetor: Estruturas Criptograficas\n",
      "E: Enviar Assinatura...\n",
      "R: Receber Assinatura\n",
      "E: Assinatura Enviada\n",
      "R: Assinatura Recebida\n",
      "R: Enviar Assinatura...\n",
      "E: A Receber Assinatura...\n",
      "R: Assinatura Enviada\n",
      "E: Assinatura Recebida\n",
      "Pre\n",
      "R: Receber Mensagem...\n"
     ]
    }
   ],
   "source": [
    "main()"
   ]
  }
 ],
 "metadata": {
  "kernelspec": {
   "display_name": "Python 3 (ipykernel)",
   "language": "python",
   "name": "python3"
  },
  "language_info": {
   "codemirror_mode": {
    "name": "ipython",
    "version": 3
   },
   "file_extension": ".py",
   "mimetype": "text/x-python",
   "name": "python",
   "nbconvert_exporter": "python",
   "pygments_lexer": "ipython3",
   "version": "3.9.16"
  }
 },
 "nbformat": 4,
 "nbformat_minor": 5
}
