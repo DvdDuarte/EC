{
 "cells": [
  {
   "cell_type": "markdown",
   "id": "477f0d9a-89cc-44dc-8639-e0494384fb08",
   "metadata": {
    "tags": []
   },
   "source": [
    "# TP1\n",
    "## Grupo 17:\n",
    "**PG50315 - David Alexandre Ferreira Duarte**\n",
    "\n",
    "**PG51247 - João Rafael Cerqueira Monteiro**"
   ]
  },
  {
   "cell_type": "markdown",
   "id": "143c4bd8-ce2a-4743-a0c9-854e54d62636",
   "metadata": {
    "tags": []
   },
   "source": [
    "## Exercício 1. \n",
    "Use a package Criptography  para \n",
    "Criar um comunicação privada assíncrona entre um agente Emitter e um agente Receiver que cubra os seguintes aspectos:\n",
    "    1. Autenticação do criptograma e dos metadados (associated data). Usar uma cifra simétrica  num modo **HMAC**  que seja seguro contra ataques aos “nounces” .\n",
    "    2. Os “nounces” são gerados por um gerador pseudo aleatório (PRG) construído por um função de hash em modo XOF.\n",
    "    3. O par de chaves $$cipher\\_key$$, $$mac\\_key$$ , para cifra e autenticação, é acordado entre agentes usando o protocolo ECDH com autenticação dos agentes usando assinaturas ECDSA."
   ]
  },
  {
   "cell_type": "code",
   "execution_count": 1,
   "id": "d5413432-b26d-4c2d-b51d-6c149c3a8080",
   "metadata": {},
   "outputs": [
    {
     "name": "stdout",
     "output_type": "stream",
     "text": [
      "Requirement already satisfied: cryptography in /home/sleiman/mambaforge/envs/sage/lib/python3.9/site-packages (39.0.2)\n",
      "Requirement already satisfied: cffi>=1.12 in /home/sleiman/mambaforge/envs/sage/lib/python3.9/site-packages (from cryptography) (1.15.1)\n",
      "Requirement already satisfied: pycparser in /home/sleiman/mambaforge/envs/sage/lib/python3.9/site-packages (from cffi>=1.12->cryptography) (2.21)\n",
      "Requirement already satisfied: nest_asyncio in /home/sleiman/mambaforge/envs/sage/lib/python3.9/site-packages (1.5.6)\n"
     ]
    }
   ],
   "source": [
    "!pip install cryptography\n",
    "!pip install nest_asyncio"
   ]
  },
  {
   "cell_type": "code",
   "execution_count": 6,
   "id": "f3fd3266-3660-4a51-9cf8-a830c766da36",
   "metadata": {},
   "outputs": [],
   "source": [
    "# Imports\n",
    "import os\n",
    "import asyncio\n",
    "from pickle import dumps, loads\n",
    "from cryptography.hazmat.primitives import hashes, hmac, serialization\n",
    "from cryptography.hazmat.primitives.asymmetric import ec\n",
    "from cryptography.hazmat.primitives.kdf.hkdf import HKDF\n",
    "from cryptography.hazmat.primitives.serialization import load_pem_public_key\n",
    "from cryptography.hazmat.primitives.ciphers import Cipher, algorithms, modes\n",
    "from cryptography.hazmat.backends import default_backend\n",
    "from cryptography.exceptions import InvalidSignature\n"
   ]
  },
  {
   "cell_type": "code",
   "execution_count": 9,
   "id": "88912014-34f9-44ba-9f6a-a4e149feda72",
   "metadata": {},
   "outputs": [],
   "source": [
    "def gerarChaves():\n",
    "    cifraChavePrivada = ec.generate_private_key()\n",
    "    cifraChavePublica = cifraChavePrivada.public_key()\n",
    "    \n",
    "    macChavePrivada = ec.generate_private_key()\n",
    "    macChavePublica = macChavePrivada.public_key()\n",
    "    \n",
    "    mensagem = {'sms_cipher': cifraChavePublica.public_bytes(encoding=serialization.Encoding.PEM, format=serialization.PublicFormat.SubjectPublicKeyInfo), \n",
    "                'sms_mac': macChavePublica.public_bytes(encoding=serialization.Encoding.PEM, format= serialization.PublicFormat.SubjectPublicKeyInfo)}\n",
    "    \n",
    "    return dumps(mensagem), cifraChavePrivada, macChavePrivada"
   ]
  },
  {
   "cell_type": "code",
   "execution_count": 10,
   "id": "d04e12b9-ffdd-495c-8fc6-e94f100fc323",
   "metadata": {},
   "outputs": [],
   "source": [
    "def gerarAssinatura(sms, chavePrivada):\n",
    "    \n",
    "    assinatura = chavePrivada.sign(sms, hashes.SHA256())\n",
    "    \n",
    "    smsFinal = {'message': sms, \n",
    "                'signature': assinatura, \n",
    "                'publicKey': chavePrivada.public_key().public_bytes(encoding=serialization.Encoding.PEM, format=serialization.PublicFormat.SubjectPublicKeyInfo)}\n",
    "    \n",
    "    return smsFinal"
   ]
  },
  {
   "cell_type": "code",
   "execution_count": 12,
   "id": "4b662017-4c4b-46cc-8363-8039ce8294dc",
   "metadata": {},
   "outputs": [],
   "source": [
    "def gerarChavePartilhada(sms, cifraChavePrivada, macChavePrivada):\n",
    "    \n",
    "    cifraChavePublica = load_pem_public_key(sms['sms_cipher'])\n",
    "    macChavePublica = load_pem_public_key(sms['sms_mac'])\n",
    "    \n",
    "    cifraChave = cifraChavePrivada.exchange(cifraChavePublica)\n",
    "    macChave = macChavePrivada.exchange(macChavePublica)\n",
    "    \n",
    "    cifraChavePartlhada = HDKF(algorithm=hashes.SHA256(), length=32, salt=None, info=b'handshake data',).derive(cifraChave)\n",
    "    macChavePartlhada = HDKF(algorithm=hashes.SHA256(), length=32, salt=None, info=b'handshake data',).derive(macChave)\n",
    "\n",
    "    return cifraChavePartilhada, macChavePartlhada"
   ]
  },
  {
   "cell_type": "code",
   "execution_count": 13,
   "id": "898f4d39-6fd8-4453-b5a8-083ef0af8e08",
   "metadata": {},
   "outputs": [],
   "source": [
    "def gerarMac(chave, crypto):\n",
    "    h = hmac.HMAC(chave, hashes.SHA256(), backend=default_backend())\n",
    "    h.update(crypto)\n",
    "    return h.finalize()\n",
    "\n",
    "def cifrar(plaintext, cifraChave, macChave, additionalData):\n",
    "    \n",
    "    digest = hashes.Hash(hashes.SHA256())\n",
    "    nounce = digest.finalize()\n",
    "    \n",
    "    encryptor = Cipher(algorithms.AES(cifraChave), modes.GCM(nounce), backend=default_backend()).encryptor()\n",
    "    \n",
    "    encryptor.authenticate_additional_data(additionalData)\n",
    "    \n",
    "    ciphertext = encryptor.update(plaintext.encode()) + encryptor.finalize()\n",
    "    \n",
    "    sms = {'nounce': nounce,\n",
    "           'tag': encryptor.tag,\n",
    "           'cipher': ciphertext}\n",
    "    \n",
    "    hmac = gerarMac(macChave, dumps(sms))\n",
    "    \n",
    "    return {'message': sms, 'tag': hmac}"
   ]
  },
  {
   "cell_type": "code",
   "execution_count": 14,
   "id": "1370dfa6-2977-461d-a171-2fec78eb3e60",
   "metadata": {},
   "outputs": [],
   "source": [
    "def decifrar(ciphertext, cifraChave, macChave, additionalData):\n",
    "    \n",
    "    texto = ciphertext['message']\n",
    "    hmac = ciphertext['tag']\n",
    "    \n",
    "    macDestino = gerarMac(macChave, dumps(texto))\n",
    "    \n",
    "    if(hmac != macDestino):\n",
    "        return 'ERRO - MAC não é igual'\n",
    "    \n",
    "    nounce = texto['nounce']\n",
    "    tag = texto['tag']\n",
    "    mensagem = texto['cipher']\n",
    "    \n",
    "    decryptor = Cipher(algorithms.AES(cifraChave), modes.GCM(nounce, tag), backend=default_backend()).decryptor()\n",
    "    \n",
    "    decryptor.authenticate_additional_data(additionalData)\n",
    "    \n",
    "    plaintext = decryptor.update(mensagem) + decryptor.finalize()\n",
    "    \n",
    "    return plaintext.decode()"
   ]
  },
  {
   "cell_type": "code",
   "execution_count": 16,
   "id": "ac3ecf93-590e-48e4-a7aa-f906742b492a",
   "metadata": {},
   "outputs": [],
   "source": [
    "def Emitter(conn):\n",
    "    sms, cifraChavePrivada, macChavePrivada = gerarChaves()\n",
    "    smsFinal = gerarAssinatura(sms)\n",
    "    \n",
    "    conn.send(smsFinal)\n",
    "    \n",
    "    sms = conn.recv()\n",
    "    \n",
    "    ecdsaPublico = load_pem_public_key(sms['publicKey'])\n",
    "    \n",
    "    try:\n",
    "        ecdsaPublico.verify(sms['signature'], sms['message'], hashes.SHA256())\n",
    "        \n",
    "        pacoteSMS = loads(sms['message'])\n",
    "        cifraChavePartilhada, macChavePartilhada = gerarChavePartilhada(pacoteSMS, cifraChavePrivada, macChavePrivada)\n",
    "        \n",
    "        texto = \"Mensagem do emitter para o receiver\"\n",
    "        \n",
    "        dadosAssociados = os.urandom(16)\n",
    "        \n",
    "        hmacChave = gerarMac(macChavePartilhada, macChavePartilhada)\n",
    "        \n",
    "        mensagem = cifrar(texto, cifraChavePartilhada, macChavePartilhada, dadosAssociados)\n",
    "        \n",
    "        mensagem['hmac_key'] = hmacChave\n",
    "        mensagem['associated_data'] = dadosAssociados\n",
    "        \n",
    "        conn.send(mensagem)\n",
    "        \n",
    "    except InvalidSignature:\n",
    "        print(\"ERRO: Mensagem não autenticada\")\n",
    "    \n",
    "    conn.close()"
   ]
  },
  {
   "cell_type": "code",
   "execution_count": 18,
   "id": "1e4f80f2-2fc6-4649-b9d4-33882523d551",
   "metadata": {},
   "outputs": [],
   "source": [
    "def Receiver(conn):\n",
    "    pkg, privateKey_cipher, privateKey_mac = generateKeys()\n",
    "    finalPkg = generateSignature(pkg)\n",
    "    #recebe a mensagem do seu lado do Pipe\n",
    "    msg = conn.recv()\n",
    "    print(\"R: Receiving public keys from emitter...\")\n",
    "    public_DSA = load_pem_public_key(msg['pub_key'])\n",
    "    try:\n",
    "    #verificar assinatura da mensagem recebida\n",
    "        public_DSA.verify(msg['signature'],msg['message'],hashes.SHA256())\n",
    "        print(\"R: The message is authentic.\")\n",
    "        #geração das chaves partilhadas\n",
    "        pkg_msg = loads(msg['message'])\n",
    "        sharedKey_cipher, sharedKey_mac =generateSharedKey(pkg_msg,privateKey_cipher,privateKey_mac)\n",
    "        print(\"R: Sending public keys to emitter...\")\n",
    "        conn.send(finalPkg)\n",
    "        #recebe a mensagem do seu lado do Pipe\n",
    "        message = conn.recv()\n",
    "        print('R: Cipher message received ')\n",
    "        print(message)\n",
    "        hmac_key = message['hmac_key']\n",
    "        associatedData = message['associated_data']\n",
    "        #verificar o código de autenticação\n",
    "        if hmac_key == generateMac(sharedKey_mac,sharedKey_mac):\n",
    "        #decifrar a mensagem\n",
    "            print(\"R: Decrypting message...\")\n",
    "            final_message = decrypt(message, sharedKey_cipher, sharedKey_mac,associatedData)\n",
    "            print(\"Final Message: \" + final_message)\n",
    "        else:\n",
    "            print('ERROR - Different keys used.')\n",
    "    except InvalidSignature:\n",
    "        print(\"R: The message is not authentic.\")\n",
    "    conn.close()\n"
   ]
  },
  {
   "cell_type": "code",
   "execution_count": null,
   "id": "6aa13096-dc8d-4f9b-8e93-054a75230765",
   "metadata": {},
   "outputs": [],
   "source": []
  }
 ],
 "metadata": {
  "kernelspec": {
   "display_name": "Python 3 (ipykernel)",
   "language": "python",
   "name": "python3"
  },
  "language_info": {
   "codemirror_mode": {
    "name": "ipython",
    "version": 3
   },
   "file_extension": ".py",
   "mimetype": "text/x-python",
   "name": "python",
   "nbconvert_exporter": "python",
   "pygments_lexer": "ipython3",
   "version": "3.9.16"
  }
 },
 "nbformat": 4,
 "nbformat_minor": 5
}
