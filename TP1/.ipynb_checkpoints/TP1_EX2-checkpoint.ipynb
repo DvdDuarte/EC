{
 "cells": [
  {
   "cell_type": "markdown",
   "id": "72824224-0160-466f-b5f0-3bcb08851898",
   "metadata": {
    "tags": []
   },
   "source": [
    "# TP1\n",
    "## Grupo 17:\n",
    "**PG50315 - David Alexandre Ferreira Duarte**\n",
    "\n",
    "**PG51247 - João Rafael Cerqueira Monteiro**"
   ]
  },
  {
   "cell_type": "markdown",
   "id": "ff404ae6-759a-4bd1-bd4d-140854f5b6f8",
   "metadata": {
    "tags": []
   },
   "source": [
    "## Exercício 2.\n",
    "Use o package Cryptography para criar uma cifra com autenticação de meta-dados a partir de um PRG\n",
    "    1. Criar um gerador pseudo-aleatório do tipo XOF (“extened output function”) usando o SHAKE256, para gerar uma sequência de palavras de 64 bits. \n",
    "        1. O gerador deve poder gerar até um limite de $$\\,2^n\\,$$ palavras ($$n$$ é  um parâmetro) armazenados em long integers do Python.\n",
    "        2. A “seed” do gerador funciona como $$\\mathtt{cipher\\_key}$$ e é gerado por um KDF a partir de uma “password” .\n",
    "        3. A autenticação do criptograma e dos dados associados é feita usando o próprio SHAKE256.\n",
    "    b. Defina os algoritmos de cifrar e decifrar : para cifrar/decifrar uma mensagem com blocos de 64 bits, os “outputs” do gerador são usados como máscaras XOR dos blocos da mensagem. \n",
    "    Essencialmente a cifra básica é uma implementação do  “One Time Pad”."
   ]
  },
  {
   "cell_type": "code",
   "execution_count": 8,
   "id": "ee412430-6a38-4a1f-865d-9eaefa46b2b6",
   "metadata": {},
   "outputs": [],
   "source": [
    "# Imports\n",
    "import os\n",
    "import time\n",
    "\n",
    "from cryptography.hazmat.primitives.kdf.pbkdf2 import PBKDF2HMAC\n",
    "from cryptography.hazmat.primitives import hashes, padding\n",
    "\n",
    "# n -> parametro necessário para gerar as palavaras\n",
    "N = 17\n",
    "BLOCKSIZE = 8 # 64 bits = 8 bytes"
   ]
  },
  {
   "cell_type": "markdown",
   "id": "473ecd76-d57b-4737-aa0a-d8eb6fb62292",
   "metadata": {},
   "source": [
    "Utilizamos a função KDF com o objetivo de gerar uma chave para uma password, sendo usado um algoritmo pseudo aleatério"
   ]
  },
  {
   "cell_type": "code",
   "execution_count": 9,
   "id": "35162f9a-9f68-493e-bd33-dcdf0318550a",
   "metadata": {},
   "outputs": [],
   "source": [
    "def derivarChave(password, salt):\n",
    "    kdf = PBKDF2HMAC(\n",
    "        algorithm=hashes.SHA256(),\n",
    "        length=32,\n",
    "        salt=salt,\n",
    "        iterations=10000\n",
    "    )\n",
    "    chave = kdf.derive(password)\n",
    "    return chave"
   ]
  },
  {
   "cell_type": "markdown",
   "id": "8e528ac0-401b-4277-92c1-13e63d817971",
   "metadata": {},
   "source": [
    "De seguida, através do PRG do tipo XOF utilizando o SHAKE256 geramos palavras de 64 bits  "
   ]
  },
  {
   "cell_type": "code",
   "execution_count": 10,
   "id": "65bef471-03e3-41c5-94ce-848e5d808a5a",
   "metadata": {},
   "outputs": [],
   "source": [
    "def prg(seed):\n",
    "    digest = hashes.Hash(hashes.SHAKE256(BLOCKSIZE * pow(2,N)))\n",
    "    digest.update(seed)\n",
    "    palavras = digest.finalize()\n",
    "    return palavras"
   ]
  },
  {
   "cell_type": "markdown",
   "id": "7b4fbb45-d5ef-4376-969a-6f7acec21c23",
   "metadata": {},
   "source": [
    "Para a alínea b) começamos por criar a função para cifrar, nesta função é necessário controlar se o padding é ou não preciso ser aplicado"
   ]
  },
  {
   "cell_type": "code",
   "execution_count": 11,
   "id": "f879a8e8-ac4f-493c-af7b-bacc94812f61",
   "metadata": {},
   "outputs": [],
   "source": [
    "def cifrar(chave, mensagem):\n",
    "    textoCifrado = b''\n",
    "    padder = padding.PKCS7(64).padder()\n",
    "    \n",
    "    # adição de padding ao bloco final da mensagem de forma que o tamanho seja multiplo\n",
    "    # dele mesmo\n",
    "    padded = padder.update(mensagem) + padder.finalize()\n",
    "    \n",
    "    # Divisão da mensagem em blocos de 8 bytes\n",
    "    mensagemBlocos = [padded[i:i + BLOCKSIZE] for i in range(0, len(padded), BLOCKSIZE)]\n",
    "    \n",
    "    # Dijunção dos bytes do bloco da mensagem com os bytes do bloco de palavras chave\n",
    "    for x in range(len(mensagemBlocos)): # loop para percorrer os blocos\n",
    "        for indice, byte in enumerate(mensagemBlocos[x]): # loop para percorrer os bytes do bloco\n",
    "            textoCifrado += bytes([byte ^ chave[x:(x+1) * BLOCKSIZE][indice]])\n",
    "    \n",
    "    return textoCifrado"
   ]
  },
  {
   "cell_type": "markdown",
   "id": "4fd720be-e389-4e98-92b1-907331009d3f",
   "metadata": {},
   "source": [
    "De seguida no caso de decifrar, tivemos que dividir os respetivos blocos de 64 bits e remover o padding caso fosse implementado na cifra\n"
   ]
  },
  {
   "cell_type": "code",
   "execution_count": 12,
   "id": "5f5bc1ac-10cf-419d-919a-83162a3d437c",
   "metadata": {},
   "outputs": [],
   "source": [
    "def decifrar(chave, textoCifrado):\n",
    "    plainText = b''\n",
    "    # Divisão do texto cifrado em blocos de 8 bytes\n",
    "    mensagemBlocos = [textoCifrado[i:i + BLOCKSIZE] for i in range(0, len(textoCifrado), BLOCKSIZE)]\n",
    "    \n",
    "    # Dijunção dos bytes do bloco do texto cifrado com os bytes do bloco de palavras chave\n",
    "    for x in range(len(mensagemBlocos)): #loop para percorrer os blocos do texto cifrado\n",
    "        for indice, byte in enumerate(mensagemBlocos[x]): #loop para percorrer os bytes do bloco do texto cifrado\n",
    "            plainText += bytes([byte ^ chave[x:(x+1) * BLOCKSIZE][indice]])\n",
    "    \n",
    "    # Algoritmo para retirar o padding\n",
    "    unpadder = padding.PKCS7(64).unpadder()\n",
    "    # Retirar os bytes adicionados\n",
    "    unpadded = unpadder.update(plainText) + unpadder.finalize()\n",
    "    \n",
    "    return unpadded.decode(\"utf-8\")"
   ]
  },
  {
   "cell_type": "markdown",
   "id": "157b5e06-2ec6-4a26-9933-44dd594139e9",
   "metadata": {},
   "source": [
    "Por final, idealizamos este main para testar todas as funções implementadas acima"
   ]
  },
  {
   "cell_type": "code",
   "execution_count": 13,
   "id": "8948170e-1e89-491c-b2cf-bc22bacf763e",
   "metadata": {},
   "outputs": [],
   "source": [
    "def main(): \n",
    "    # password a ser utilizada na partilha\n",
    "    password = \"grupo17\"\n",
    "    \n",
    "    # salt variavel necessária para derivar a chave\n",
    "    salt = os.urandom(17)\n",
    "    \n",
    "    # gerador do seed aleatério\n",
    "    seed = derivarChave(password.encode(\"utf-8\"), salt)\n",
    "    \n",
    "    # gerador da chave utilizado o seed gerado\n",
    "    chave = prg(seed)\n",
    "    \n",
    "    # Texto cifrado pela cifra\n",
    "    textoCifrado = cifrar(chave, \"Estruturas Criptograficas\".encode(\"utf-8\"))\n",
    "    \n",
    "    # Print do texto cifrado\n",
    "    print(textoCifrado)\n",
    "    print(\"\")\n",
    "    # Print do Plain text\n",
    "    print(decifrar(chave, textoCifrado))"
   ]
  },
  {
   "cell_type": "code",
   "execution_count": 14,
   "id": "07ad4003-6b49-44cb-ae44-593638590e16",
   "metadata": {},
   "outputs": [
    {
     "name": "stdout",
     "output_type": "stream",
     "text": [
      "b'bKj\\x88-\\x8ay\\x89Ym\\xda\\x1b\\x8ce\\x8b\\x02q\\x9d*\\x9fj\\x92\\x15\\x7f\\x89_\\xf9\\x0b\\xfcq\\x19\\xec'\n",
      "\n",
      "Plain Text: Estruturas Criptograficas\n"
     ]
    }
   ],
   "source": [
    "if __name__ == \"__main__\":\n",
    "    main()"
   ]
  }
 ],
 "metadata": {
  "kernelspec": {
   "display_name": "Python 3 (ipykernel)",
   "language": "python",
   "name": "python3"
  },
  "language_info": {
   "codemirror_mode": {
    "name": "ipython",
    "version": 3
   },
   "file_extension": ".py",
   "mimetype": "text/x-python",
   "name": "python",
   "nbconvert_exporter": "python",
   "pygments_lexer": "ipython3",
   "version": "3.9.16"
  }
 },
 "nbformat": 4,
 "nbformat_minor": 5
}
