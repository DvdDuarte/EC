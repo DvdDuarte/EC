{
 "cells": [
  {
   "cell_type": "markdown",
   "id": "477f0d9a-89cc-44dc-8639-e0494384fb08",
   "metadata": {
    "tags": []
   },
   "source": [
    "# TP1\n",
    "## Grupo 17:\n",
    "**PG50315 - David Alexandre Ferreira Duarte**\n",
    "\n",
    "**PG51247 - João Rafael Cerqueira Monteiro**"
   ]
  },
  {
   "cell_type": "markdown",
   "id": "143c4bd8-ce2a-4743-a0c9-854e54d62636",
   "metadata": {
    "tags": []
   },
   "source": [
    "## Exercício 1. \n",
    "Use a package Criptography  para \n",
    "Criar um comunicação privada assíncrona entre um agente Emitter e um agente Receiver que cubra os seguintes aspectos:\n",
    "\n",
    "- Autenticação do criptograma e dos metadados (associated data). Usar uma cifra simétrica  num modo **HMAC**  que seja seguro contra ataques aos “nounces” .\n",
    "    \n",
    "- Os “nounces” são gerados por um gerador pseudo aleatório (PRG) construído por um função de hash em modo XOF.\n",
    "    \n",
    "- O par de chaves $$cipher\\_key$$, $$mac\\_key$$ , para cifra e autenticação, é acordado entre agentes usando o protocolo ECDH com autenticação dos agentes usando assinaturas ECDSA."
   ]
  },
  {
   "cell_type": "code",
   "execution_count": 1,
   "id": "d5413432-b26d-4c2d-b51d-6c149c3a8080",
   "metadata": {},
   "outputs": [
    {
     "name": "stdout",
     "output_type": "stream",
     "text": [
      "Requirement already satisfied: cryptography in /home/sleiman/mambaforge/envs/sage/lib/python3.10/site-packages (39.0.2)\n",
      "Requirement already satisfied: cffi>=1.12 in /home/sleiman/mambaforge/envs/sage/lib/python3.10/site-packages (from cryptography) (1.15.1)\n",
      "Requirement already satisfied: pycparser in /home/sleiman/mambaforge/envs/sage/lib/python3.10/site-packages (from cffi>=1.12->cryptography) (2.21)\n",
      "Requirement already satisfied: nest_asyncio in /home/sleiman/mambaforge/envs/sage/lib/python3.10/site-packages (1.5.6)\n"
     ]
    }
   ],
   "source": [
    "!pip install cryptography\n",
    "!pip install nest_asyncio"
   ]
  },
  {
   "cell_type": "code",
   "execution_count": 2,
   "id": "f3fd3266-3660-4a51-9cf8-a830c766da36",
   "metadata": {},
   "outputs": [],
   "source": [
    "# Imports\n",
    "import os, sys\n",
    "import random\n",
    "import asyncio\n",
    "import nest_asyncio\n",
    "from pickle import dumps, loads\n",
    "from cryptography.hazmat.primitives import hashes, hmac, serialization\n",
    "from cryptography.hazmat.primitives.asymmetric import ec\n",
    "from cryptography.hazmat.primitives.kdf.hkdf import HKDF\n",
    "from cryptography.hazmat.primitives.ciphers.aead import AESGCM\n",
    "from cryptography.hazmat.primitives.serialization import load_pem_public_key\n",
    "from cryptography.hazmat.primitives.ciphers import Cipher, algorithms, modes\n",
    "from cryptography.exceptions import InvalidSignature\n"
   ]
  },
  {
   "cell_type": "code",
   "execution_count": 3,
   "id": "05560a12-d537-49d3-a4f5-651decafdeb0",
   "metadata": {},
   "outputs": [],
   "source": [
    "nest_asyncio.apply()"
   ]
  },
  {
   "cell_type": "markdown",
   "id": "6cb91114-96b2-4081-a7d2-266edc927ca2",
   "metadata": {
    "tags": []
   },
   "source": [
    "### Geração de Chaves\n",
    "A resuloção deste problema começou por criar funções que gerassem chaves asimétricas, gerassem uma assinatura de acordo com a *cipher_key* privada e com um pacote que contém a *cipher_key* e *mac_key* públicas. Após isso foram feitas funções que gerassem uma chave partilhada de acordo com as chaves privadas do *emmiter* e/ou *receiver*, que de acordo com as chaves partilhadas geradas gerassem as chaves derivadas, estas ao ser utilizadas trazem uma maior segurança à cifragem das mensagens. Por fim foi feita uma função que gerava o mac de acordo com a *mac_key* partilhada e com um criptograma."
   ]
  },
  {
   "cell_type": "code",
   "execution_count": 4,
   "id": "88912014-34f9-44ba-9f6a-a4e149feda72",
   "metadata": {},
   "outputs": [],
   "source": [
    "def gerarChaves():\n",
    "    cifraChavePrivada = ec.generate_private_key(ec.SECP384R1())\n",
    "    cifraChavePublica = cifraChavePrivada.public_key()\n",
    "    \n",
    "    macChavePrivada = ec.generate_private_key(ec.SECP384R1())\n",
    "    macChavePublica = macChavePrivada.public_key()\n",
    "\n",
    "    mensagem = {'sms_cipher': cifraChavePublica.public_bytes(encoding=serialization.Encoding.PEM, format=serialization.PublicFormat.SubjectPublicKeyInfo), \n",
    "                'sms_mac': macChavePublica.public_bytes(encoding=serialization.Encoding.PEM, format= serialization.PublicFormat.SubjectPublicKeyInfo)}\n",
    "    \n",
    "    return dumps(mensagem), cifraChavePrivada, macChavePrivada\n"
   ]
  },
  {
   "cell_type": "code",
   "execution_count": 5,
   "id": "d04e12b9-ffdd-495c-8fc6-e94f100fc323",
   "metadata": {},
   "outputs": [],
   "source": [
    "def gerarAssinatura(sms, chavePrivada):\n",
    "    \n",
    "    assinatura = chavePrivada.sign(sms, ec.ECDSA(hashes.SHA3_256()))\n",
    "    \n",
    "    smsFinal = {'message': sms, \n",
    "                'signature': assinatura, \n",
    "                'pub_key': chavePrivada.public_key().public_bytes(encoding=serialization.Encoding.PEM, format=serialization.PublicFormat.SubjectPublicKeyInfo)}\n",
    "\n",
    "    return smsFinal"
   ]
  },
  {
   "cell_type": "code",
   "execution_count": 6,
   "id": "4b662017-4c4b-46cc-8363-8039ce8294dc",
   "metadata": {},
   "outputs": [],
   "source": [
    "def gerarChavePartilhada(sms, cifraChavePrivada, macChavePrivada):\n",
    "    cifraChavePublica = load_pem_public_key(sms['sms_cipher'])\n",
    "    macChavePublica = load_pem_public_key(sms['sms_mac'])\n",
    "\n",
    "    cifraChavePartilhada = cifraChavePrivada.exchange(ec.ECDH(), cifraChavePublica)\n",
    "    macChavePartilhada = macChavePrivada.exchange(ec.ECDH(), macChavePublica)\n",
    "\n",
    "    return cifraChavePartilhada, macChavePartilhada\n"
   ]
  },
  {
   "cell_type": "code",
   "execution_count": 7,
   "id": "cdca72e6-e0a8-483d-82f7-336838d7535c",
   "metadata": {},
   "outputs": [],
   "source": [
    "def gerarChaveDerivada(cifraChavePartilhada, macChavePartilhada):\n",
    "    cifraDerivada = HKDF(algorithm=hashes.SHA3_256(), length=32, salt=None, info=b'handshake data',).derive(cifraChavePartilhada)\n",
    "    macDerivada = HKDF(algorithm=hashes.SHA3_256(), length=32, salt=None, info=b'handshake data',).derive(macChavePartilhada)    \n",
    "    \n",
    "    return cifraDerivada, macDerivada"
   ]
  },
  {
   "cell_type": "code",
   "execution_count": 8,
   "id": "6723c9fe-b143-45a0-b1f3-3d238f8b7deb",
   "metadata": {},
   "outputs": [],
   "source": [
    "def gerarMac(chave, crypto):\n",
    "    h = hmac.HMAC(chave, hashes.SHA3_256())\n",
    "    h.update(crypto)\n",
    "    return h.finalize()"
   ]
  },
  {
   "cell_type": "markdown",
   "id": "3306fe3e-0f9e-41d7-b05f-664f5108287c",
   "metadata": {
    "tags": []
   },
   "source": [
    "### Cifragem e Decifragem\n",
    "Nesta fase do trabalho, decidimos fazer duas funções separadas para cifrar uma mensagem de acordo com as chaves *cipher_key* e *mac_key*. Tanto para a cifragem como para a decifragem utilizou-se o algoritmo **SHA3_256**"
   ]
  },
  {
   "cell_type": "markdown",
   "id": "93252017-c381-4350-8535-69dd5fcfb0d5",
   "metadata": {
    "tags": []
   },
   "source": [
    "Para a função de cifrar a mensagem, começamos por gerar um *nonce* em modo *XOF*. De seguida, criou-se uma variável `cifra` que vai permitir cifrar o texto através do `AESGCM` com a *cipher_key*, com o *nonce* e com dados adicionais gerados na altura da cifragem. \n",
    "\n",
    "Após a cifragem do texto, é necessário gerar um *mac* com o pacote que contém o *nonce* e a mensagem cifrada. \n",
    "\n",
    "Por fim, esta função retorna um dicionário com o pacote mencionado anteriormente, a *mac_key* que foi gerada e com os dados adicionais."
   ]
  },
  {
   "cell_type": "code",
   "execution_count": 9,
   "id": "898f4d39-6fd8-4453-b5a8-083ef0af8e08",
   "metadata": {},
   "outputs": [],
   "source": [
    " def cifrar(plaintext, cifraChave, macChave):\n",
    "    \n",
    "    xof = hashes.Hash(hashes.SHA3_256())\n",
    "    nonce = xof.finalize()\n",
    "    additionalData = os.urandom(16)\n",
    "    \n",
    "    try:\n",
    "        cifra = AESGCM(cifraChave) \n",
    "    except ValueError as e:\n",
    "        print(f\"Erro ao gerar chave: {e}\")\n",
    "    except Exception as e:\n",
    "        print(f\"Erro inesperado: {e}\")\n",
    "\n",
    "              \n",
    "    ciphertext = cifra.encrypt(nonce, bytes(plaintext, \"utf-8\"), additionalData)\n",
    "    sms = {'nounce': nonce,\n",
    "           'cipher_text': ciphertext}\n",
    "    chaveMac = gerarMac(macChave, dumps(sms))\n",
    "    \n",
    "    return {'message': sms, 'mac_key': chaveMac, 'associated_data': additionalData}\n"
   ]
  },
  {
   "cell_type": "markdown",
   "id": "596a9f4d-2c06-4bf7-bfef-f6f9bf7a4ed1",
   "metadata": {},
   "source": [
    "Por sua vez, a função de decifrar o texto cifrado funciona como a função de cifrar, onde este obtém o *nonce* através do pacote que se passa como argumento, a criação da variável *cifra* que permite decifrar o texto utilizando o `AESGCM.decrypt()`"
   ]
  },
  {
   "cell_type": "code",
   "execution_count": 10,
   "id": "1370dfa6-2977-461d-a171-2fec78eb3e60",
   "metadata": {},
   "outputs": [],
   "source": [
    "def decifrar(ciphertext, cifraChave, macChave):\n",
    "    texto = ciphertext['message']\n",
    "\n",
    "    #xof = hashes.Hash(hashes.SHA3_256())\n",
    "    #nonce = xof.finalize()\n",
    "    nonce = texto['nounce']\n",
    "    additionalData = ciphertext['associated_data']\n",
    "    \n",
    "    cifra = AESGCM(cifraChave)\n",
    "    plaintext = cifra.decrypt(nonce, texto['cipher_text'], additionalData)\n",
    "\n",
    "    return plaintext.decode()\n"
   ]
  },
  {
   "cell_type": "markdown",
   "id": "3b206bfb-9542-46c5-a852-f4f7cfac8de8",
   "metadata": {
    "tags": []
   },
   "source": [
    "### Emitter\n",
    "A função *emitter* é uma função `async` que recebe uma `queue` que vai servir como meio de comunicação com a função *receiver*.\n",
    "\n",
    "Esta função começa por gerar e armazenar as suas chaves privadas, e a sua assinatura que por sua vez será colocada na `queue` para o outro lado da comunicação a receber e poder validar as chaves enviadas.\n",
    "\n",
    "Após isso, a função entra num estado de espera enquanto aguarda que seja colocado algo na`queue` para poder validar a assinatura e chaves do *receiver*.\n",
    "\n",
    "Um vez feita a validação, inicia-se a geração das chaves partilhadas e por sua vez as chaves derivadas, para poder cifrar a mensagem. Quando terminada a geração destas chaves, é feita então a cifragem da mensagem pretendida e a geração do *mac* que será colocado no dicionário devolvido pela função de cifragem.\n",
    "\n",
    "De seguida, envia-se este dicionário com o texto cifrado e outra informação necessária pela `queue` para o *receiver*"
   ]
  },
  {
   "cell_type": "code",
   "execution_count": 11,
   "id": "ac3ecf93-590e-48e4-a7aa-f906742b492a",
   "metadata": {},
   "outputs": [],
   "source": [
    "async def emitter(queue, plaintext):\n",
    "    \n",
    "    print(\"E: \" + plaintext)\n",
    "    \n",
    "    sms, cifraChavePrivada, macChavePrivada = gerarChaves()\n",
    "    assinatura = gerarAssinatura(sms, cifraChavePrivada)\n",
    "    \n",
    "    print(\"E: Enviar Assinatura...\") \n",
    "    await asyncio.sleep(random.random())\n",
    "    await queue.put(assinatura)\n",
    "    print(\"E: Assinatura Enviada\")\n",
    "    await asyncio.sleep(random.random())\n",
    "    \n",
    "    print(\"E: A Receber Assinatura...\") \n",
    "    chavesRecetor = await queue.get()\n",
    "    print(\"E: Assinatura Recebida\")\n",
    "    \n",
    "    if chavesRecetor is None:\n",
    "        print(\"ERRO - MENSAGEM VAZIA\")\n",
    "    \n",
    "    ecdsaPublico = load_pem_public_key(chavesRecetor['pub_key'])\n",
    "    \n",
    "    ecdsaPublico.verify(chavesRecetor['signature'], chavesRecetor['message'], ec.ECDSA(hashes.SHA3_256()))\n",
    "    pacoteSMS = loads(chavesRecetor['message'])\n",
    "    cifraChavePartilhada, macChavePartilhada = gerarChavePartilhada(pacoteSMS, cifraChavePrivada, macChavePrivada) \n",
    "    cifraChaveDerivada, macChaveDerivada = gerarChaveDerivada(cifraChavePartilhada, macChavePartilhada)\n",
    "    \n",
    "    mensagem = cifrar(plaintext, cifraChaveDerivada, macChaveDerivada)\n",
    "    hmacChave = gerarMac(macChaveDerivada, macChaveDerivada)\n",
    "    print(\"E: Mensagem cifrada\")\n",
    "        \n",
    "    mensagem['hmac_key'] = hmacChave\n",
    "        \n",
    "    print(\"E: Enviar Mensagem...\")\n",
    "    await asyncio.sleep(random.random())\n",
    "    await queue.put(mensagem)\n",
    "    print(\"E: Mensagem Enviada\")\n",
    "    await asyncio.sleep(random.random())"
   ]
  },
  {
   "cell_type": "markdown",
   "id": "fc9e3d1f-c885-4071-a3c6-2141be212099",
   "metadata": {
    "tags": []
   },
   "source": [
    "### Receiver\n",
    "\n",
    "A função *receiver* é uma função `async` que funciona como a função *receiver*.\n",
    "\n",
    "Esta função começa por gerar e armazenar as suas chaves privadas, e a sua assinatura.\n",
    "\n",
    "Após isso, a função entra num estado de espera enquanto aguarda que seja colocado algo na`queue` para poder validar a assinatura e chaves do *emitter*.\n",
    "\n",
    "Um vez feita a validação, inicia-se a geração das chaves partilhadas e por sua vez as chaves derivadas, para poder cifrar a mensagem. Quando terminada a geração destas chaves, é feita então a cifragem da mensagem pretendida e a geração do *mac* que será colocado no dicionário devolvido pela função de cifragem. E  coloca-e na `queue` a assinatura, para o outro lado da comunicação a receber e poder validar as chaves enviadas.\n",
    "\n",
    "Após isso, esta função entra no modo espera enquanto aguarda pelo dicionário com o texto cifrado e outra informação relevante seja colocado na `queue`. Quando recebido essa mensagem, começa-se por verificar a chave *mac* que está no dicionário, e caso esta seja válida inicia-se a decifragem do texto com a função *decifrar*."
   ]
  },
  {
   "cell_type": "code",
   "execution_count": 12,
   "id": "1e4f80f2-2fc6-4649-b9d4-33882523d551",
   "metadata": {},
   "outputs": [],
   "source": [
    "async def receiver(queue):\n",
    "    \n",
    "    pkg, cifraChavePrivada, macChavePrivada = gerarChaves()    \n",
    "    assinatura = gerarAssinatura(pkg, cifraChavePrivada)\n",
    "    \n",
    "    print(\"R: Receber Assinatura\")\n",
    "    assinaturaEmissor = await queue.get()\n",
    "    print(\"R: Assinatura Recebida\")\n",
    "    \n",
    "    ecdsaPublico = load_pem_public_key(assinaturaEmissor['pub_key'])\n",
    "    \n",
    "    try:\n",
    "        ecdsaPublico.verify(assinaturaEmissor['signature'],assinaturaEmissor['message'], ec.ECDSA(hashes.SHA3_256()))\n",
    "        \n",
    "        pkg_msg = loads(assinaturaEmissor['message'])\n",
    "        cifraChavePartilhada, macChavePartilhada = gerarChavePartilhada(pkg_msg,cifraChavePrivada,macChavePrivada)\n",
    "        cifraChaveDerivada, macChaveDerivada = gerarChaveDerivada(cifraChavePartilhada, macChavePartilhada)\n",
    "        \n",
    "        print(\"R: Enviar Assinatura...\")\n",
    "        await asyncio.sleep(random.random())\n",
    "        await queue.put(assinatura)\n",
    "        print(\"R: Assinatura Enviada\")\n",
    "        await asyncio.sleep(random.random())\n",
    "        \n",
    "        print(\"R: Receber Mensagem...\")\n",
    "        message = await queue.get()\n",
    "        print(\"R: Mensagem Recebida\")\n",
    "        \n",
    "        hmac_key = message['hmac_key']\n",
    "        associatedData = message['associated_data']\n",
    "        \n",
    "        if hmac_key == gerarMac(macChaveDerivada, macChaveDerivada):\n",
    "            final_message = decifrar(message, cifraChaveDerivada, macChaveDerivada)\n",
    "            print(\"R: \" + final_message)\n",
    "        else:\n",
    "            print('ERRO - Chaves diferentes em uso.')\n",
    "    except InvalidSignature:\n",
    "        print(\"ERRO: A mensagem não é autenticada.\")\n"
   ]
  },
  {
   "cell_type": "markdown",
   "id": "b55e5deb-214e-477b-8923-a47583ce7c90",
   "metadata": {
    "tags": []
   },
   "source": [
    "### Main\n",
    "A função *main* é a função encarregue de iniciar a `queue` e o `loop` necessário para que exista uma comunicação entre o *emitter* e o *receiver*"
   ]
  },
  {
   "cell_type": "code",
   "execution_count": 13,
   "id": "05255605-f973-488d-a981-e48f581e6ca0",
   "metadata": {},
   "outputs": [],
   "source": [
    "def main():\n",
    "    \n",
    "    plaintext = 'Estruturas Criptograficas: Grupo 17'\n",
    "    \n",
    "    loop = asyncio.get_event_loop()\n",
    "    queue = asyncio.Queue(10)\n",
    "    asyncio.ensure_future(emitter(queue, plaintext), loop=loop)\n",
    "    loop.run_until_complete(receiver(queue))"
   ]
  },
  {
   "cell_type": "code",
   "execution_count": 14,
   "id": "0efdd5b3-2680-4f80-879a-f0163d2b0c27",
   "metadata": {},
   "outputs": [
    {
     "name": "stdout",
     "output_type": "stream",
     "text": [
      "E: Estruturas Criptograficas: Grupo 17\n",
      "E: Enviar Assinatura...\n",
      "R: Receber Assinatura\n",
      "E: Assinatura Enviada\n",
      "R: Assinatura Recebida\n",
      "R: Enviar Assinatura...\n",
      "E: A Receber Assinatura...\n",
      "R: Assinatura Enviada\n",
      "E: Assinatura Recebida\n",
      "E: Mensagem cifrada\n",
      "E: Enviar Mensagem...\n",
      "R: Receber Mensagem...\n",
      "E: Mensagem Enviada\n",
      "R: Mensagem Recebida\n",
      "R: Estruturas Criptograficas: Grupo 17\n"
     ]
    }
   ],
   "source": [
    "main()"
   ]
  }
 ],
 "metadata": {
  "kernelspec": {
   "display_name": "Python 3 (ipykernel)",
   "language": "python",
   "name": "python3"
  },
  "language_info": {
   "codemirror_mode": {
    "name": "ipython",
    "version": 3
   },
   "file_extension": ".py",
   "mimetype": "text/x-python",
   "name": "python",
   "nbconvert_exporter": "python",
   "pygments_lexer": "ipython3",
   "version": "3.9.16"
  }
 },
 "nbformat": 4,
 "nbformat_minor": 5
}
