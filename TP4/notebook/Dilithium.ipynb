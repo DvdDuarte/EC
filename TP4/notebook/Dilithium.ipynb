{
 "cells": [
  {
   "cell_type": "markdown",
   "id": "cc804344-9ee6-4fcc-9fda-8d704371098a",
   "metadata": {},
   "source": [
    "# TP1\n",
    "## Grupo 17:\n",
    "**PG50315 - David Alexandre Ferreira Duarte**\n",
    "\n",
    "**PG51247 - João Rafael Cerqueira Monteiro**"
   ]
  },
  {
   "cell_type": "markdown",
   "id": "b227dabd-a6c7-4e40-accb-a011ebdd9952",
   "metadata": {},
   "source": [
    "## Exercício 1. \n",
    "\n",
    "Neste trabalho pretende-se implementar em Sagemath de algumas dos candidatos a “standartização” ao concurso NIST Post-Quantum Cryptography na categoria de esquemas de assinatura digital. Ver também a directoria com a documentação. Construa\n",
    "\n",
    "1. Um protótipo Sagemath do algoritmo   Dilithium ,"
   ]
  },
  {
   "cell_type": "markdown",
   "id": "f02a1706-4744-4f98-bfd3-c80779abce9f",
   "metadata": {
    "tags": []
   },
   "source": [
    "# Dilithium"
   ]
  },
  {
   "cell_type": "code",
   "execution_count": 1,
   "id": "be0f1bb4-7d1d-4982-a2e9-4e5b0f541321",
   "metadata": {
    "tags": []
   },
   "outputs": [],
   "source": [
    "# imports\n",
    "from sage.all import *\n",
    "from cryptography.hazmat.primitives import hashes"
   ]
  },
  {
   "cell_type": "markdown",
   "id": "b9a5f45c-c466-4b8d-95c6-9e29b7994866",
   "metadata": {},
   "source": [
    "### INFO"
   ]
  },
  {
   "cell_type": "code",
   "execution_count": 2,
   "id": "ce3fb8fa-73eb-48f5-ae27-3aabb942b3be",
   "metadata": {
    "tags": []
   },
   "outputs": [],
   "source": [
    "class Weak:\n",
    "    k = 3\n",
    "    l = 2\n",
    "    eta = 7\n",
    "    beta = 375\n",
    "    omega = 64\n",
    "\n",
    "class Medium:\n",
    "    k = 4\n",
    "    l = 3\n",
    "    eta = 6\n",
    "    beta = 325\n",
    "    omega = 80\n",
    "\n",
    "class Recommended:\n",
    "    k = 5\n",
    "    l = 4\n",
    "    eta = 5\n",
    "    beta = 275\n",
    "    omega = 96\n",
    "\n",
    "class VeryHigh:\n",
    "    k = 6\n",
    "    l = 5\n",
    "    eta = 3\n",
    "    beta = 175\n",
    "    omega = 120\n"
   ]
  },
  {
   "cell_type": "markdown",
   "id": "bb8c8dfd-16fc-44d2-b333-152faf8e37ed",
   "metadata": {},
   "source": [
    "### CÓDIGO"
   ]
  },
  {
   "cell_type": "code",
   "execution_count": null,
   "id": "20516bf7-afd2-4e17-8910-4f6134cd35c9",
   "metadata": {},
   "outputs": [],
   "source": []
  }
 ],
 "metadata": {
  "kernelspec": {
   "display_name": "SageMath 9.8",
   "language": "sage",
   "name": "sagemath"
  },
  "language_info": {
   "codemirror_mode": {
    "name": "ipython",
    "version": 3
   },
   "file_extension": ".py",
   "mimetype": "text/x-python",
   "name": "python",
   "nbconvert_exporter": "python",
   "pygments_lexer": "ipython3",
   "version": "3.10.9"
  }
 },
 "nbformat": 4,
 "nbformat_minor": 5
}
