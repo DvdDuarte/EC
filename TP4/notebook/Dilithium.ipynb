{
 "cells": [
  {
   "cell_type": "markdown",
   "id": "cc804344-9ee6-4fcc-9fda-8d704371098a",
   "metadata": {},
   "source": [
    "# TP1\n",
    "## Grupo 17:\n",
    "**PG50315 - David Alexandre Ferreira Duarte**\n",
    "\n",
    "**PG51247 - João Rafael Cerqueira Monteiro**"
   ]
  },
  {
   "cell_type": "markdown",
   "id": "b227dabd-a6c7-4e40-accb-a011ebdd9952",
   "metadata": {},
   "source": [
    "## Exercício 1. \n",
    "\n",
    "Neste trabalho pretende-se implementar em Sagemath de algumas dos candidatos a “standartização” ao concurso NIST Post-Quantum Cryptography na categoria de esquemas de assinatura digital. Ver também a directoria com a documentação. Construa\n",
    "\n",
    "1. Um protótipo Sagemath do algoritmo   Dilithium ,"
   ]
  },
  {
   "cell_type": "markdown",
   "id": "f02a1706-4744-4f98-bfd3-c80779abce9f",
   "metadata": {
    "tags": []
   },
   "source": [
    "# Dilithium"
   ]
  },
  {
   "cell_type": "code",
   "execution_count": 1,
   "id": "be0f1bb4-7d1d-4982-a2e9-4e5b0f541321",
   "metadata": {
    "tags": []
   },
   "outputs": [],
   "source": [
    "# imports\n",
    "from sage.all import *\n",
    "from cryptography.hazmat.primitives import hashes"
   ]
  },
  {
   "cell_type": "markdown",
   "id": "b9a5f45c-c466-4b8d-95c6-9e29b7994866",
   "metadata": {},
   "source": [
    "### INFO\n",
    "Este algoritmo assenta em três passos principais:\n",
    "- Geração das chaves (pública e privada) na instanciação do algoritmo\n",
    "- Função **assinar()**: Tratamento para efetuar uma assinatura\n",
    "- Função **verificar()**: Tratamento para verificar efetivamente uma assinatura"
   ]
  },
  {
   "cell_type": "markdown",
   "id": "4ff5e0f3-7716-4ca8-8415-03927d9dc7cc",
   "metadata": {},
   "source": [
    "As seguintes classes são passadas como argumento ao construtor da classe *Dilithium*"
   ]
  },
  {
   "cell_type": "code",
   "execution_count": 2,
   "id": "ce3fb8fa-73eb-48f5-ae27-3aabb942b3be",
   "metadata": {
    "tags": []
   },
   "outputs": [],
   "source": [
    "class Weak:\n",
    "    k = 3\n",
    "    l = 2\n",
    "    eta = 7\n",
    "    beta = 375\n",
    "    omega = 64\n",
    "\n",
    "class Medium:\n",
    "    k = 4\n",
    "    l = 3\n",
    "    eta = 6\n",
    "    beta = 325\n",
    "    omega = 80\n",
    "\n",
    "class Recommended:\n",
    "    k = 5\n",
    "    l = 4\n",
    "    eta = 5\n",
    "    beta = 275\n",
    "    omega = 96\n",
    "\n",
    "class VeryHigh:\n",
    "    k = 6\n",
    "    l = 5\n",
    "    eta = 3\n",
    "    beta = 175\n",
    "    omega = 120\n"
   ]
  },
  {
   "cell_type": "markdown",
   "id": "bb8c8dfd-16fc-44d2-b333-152faf8e37ed",
   "metadata": {},
   "source": [
    "### CÓDIGO"
   ]
  },
  {
   "cell_type": "code",
   "execution_count": 3,
   "id": "20516bf7-afd2-4e17-8910-4f6134cd35c9",
   "metadata": {},
   "outputs": [],
   "source": [
    "class Dilithium:\n",
    "    def __init__ (self, params=Recommended):\n",
    "        # Definição de parametros\n",
    "        self.n = 256\n",
    "        self.q = 8380417\n",
    "        self.d = 14\n",
    "        self.weight = 60\n",
    "        self.gamma1 = 523776 # (q-1) / 16\n",
    "        self.gamma2 = 261888 # gamma1 / 2\n",
    "        self.k = params.k\n",
    "        self.l = params.l\n",
    "        self.eta = params.eta\n",
    "        self.beta = params.beta\n",
    "        self.omega = params.omega\n",
    "        \n",
    "        # Definir os campos\n",
    "        Zq.<x> = GF(self.q)[]\n",
    "        self.Rq = Zq.quotient(x^self.n + 1)\n",
    "        \n",
    "        # Geração de chaves\n",
    "        self.A = self.expandirA()\n",
    "        self.s1 = self.sample(self.eta, self.l)\n",
    "        self.s2 = self.sample(self.eta, self.k)\n",
    "        self.t = self.A * self.s1 + self.s2\n",
    "        \n",
    "        # chave publica : A, t\n",
    "        # chave privada : s1, s2\n",
    "        \n",
    "    def assinar(self, m):\n",
    "        # Inicialização da Variável\n",
    "        z = None\n",
    "        # caso nenhum 'z' tenha sido gerado\n",
    "        while z == None:\n",
    "            # Inicio de geração de 'z'\n",
    "            y = self.sample(self.gamma1 - 1, self.l)\n",
    "            #Ay é reutilizado por isso pode-se precalcular\n",
    "            Ay = self.A * y\n",
    "            # High bits\n",
    "            w1 = self.high_bits(Ay, 2 * self.gamma2)\n",
    "            # Calculo do Hash\n",
    "            hsh = self.H(b\"\".join([bytes([ int(i) for i in e]) for e in w1]) + m)\n",
    "            # Calculo do polinómio\n",
    "            hash_poly = self.Rq(hsh)\n",
    "            \n",
    "            # Calculo do 'z'\n",
    "            z = y + hash_poly * self.s1\n",
    "            \n",
    "            # Verificar as condições\n",
    "            if(self.sup_normal(z) >= self.gamma1 - self.beta) and (self.sup_normal([self.low_bits(Ay - hash_poly * self.s2, 2 * self.gamma2)]) >= self.gamma2 - self.beta):\n",
    "                # Necessário calcular um novo 'z'\n",
    "                z = None\n",
    "            \n",
    "            return (z,hsh)\n",
    "        \n",
    "        \n",
    "    def verificar(self, m, ass):\n",
    "        # Assinatura\n",
    "        (z,hsh) = ass\n",
    "        \n",
    "        # Calcular os High Bits\n",
    "        w1_ = self.high_bits(self.A * z - self.Rq(hsh) * self.t, 2 * self.gamma2)\n",
    "        \n",
    "        # Calcular as condições de verificação\n",
    "        torf1 = (self.sup_normal(z) < self.gamma1 - self.beta)\n",
    "        torf2 = (hsh == self.H(b\"\".join([bytes([ int(i) for i in e]) for e in w1_]) + m))\n",
    "        \n",
    "        # torf1 && torf2\n",
    "        return torf1 and torf2\n",
    "    \n",
    "    def expandirA(self):\n",
    "        mat = [ self.Rq.random_element() for _ in range(self.k * self.l)]\n",
    "        return matrix(self.Rq, self.k, self.l, mat)\n",
    "    \n",
    "    def sample(self, coef_max, size):\n",
    "        def rand_poly():\n",
    "            return self.Rq( [randint(0,coef_max) for _ in range(self.n)])\n",
    "        \n",
    "        vector = [rand_poly() for _ in range(size)]\n",
    "        \n",
    "        return matrix(self.Rq, size, 1, vector)\n",
    "    \n",
    "    def high_bits(self, r, alfa):\n",
    "        r1, _ = self.decompose(r, alfa)\n",
    "        return r1\n",
    "    \n",
    "    def low_bits(self, r, alfa):\n",
    "        _, r0 = self.decompose(r, alfa)\n",
    "        return r0\n",
    "    \n",
    "    def decompose(self, r, alfa):\n",
    "        \n",
    "        r0_vector = []\n",
    "        r1_vector = []\n",
    "        torf = True\n",
    "        \n",
    "        for p in r:\n",
    "            r0_poly = []\n",
    "            r1_poly = []\n",
    "            \n",
    "            for c in p[0]:\n",
    "                c = int(mod(c, int(self.q)))\n",
    "                r0 = int(mod(c, int(alfa)))\n",
    "                \n",
    "                if c - r0 == int(self.q) - int(1):\n",
    "                    r1 = 0\n",
    "                    r0 = r0 - 1\n",
    "                else:\n",
    "                    r1 = (c - r0) / int(alfa)\n",
    "                \n",
    "                r0_poly.append(r0)\n",
    "                r1_poly.append(r1)        \n",
    "            \n",
    "            if torf:\n",
    "                torf = False\n",
    "            \n",
    "            r0_vector.append(self.Rq(r0_poly))\n",
    "            r1_vector.append(self.Rq(r1_poly))\n",
    "            \n",
    "        return (r1_vector, r0_vector)\n",
    "    \n",
    "    def H(self, obj):\n",
    "        sha3 = hashes.Hash(hashes.SHAKE256(int(60)))\n",
    "        sha3.update(obj)\n",
    "        res = [ (-1) ** (b % 2) for b in sha3.finalize()]\n",
    "        return res + [0] * 196\n",
    "    \n",
    "    def sup_normal(self, v):\n",
    "        return max([max(p[0]) for p in v])"
   ]
  },
  {
   "cell_type": "markdown",
   "id": "f0d158b9-400a-4dd7-81ef-6c3cb712fc40",
   "metadata": {},
   "source": [
    "### Testes"
   ]
  },
  {
   "cell_type": "code",
   "execution_count": 4,
   "id": "73a60bba-59a1-4c81-aed9-8a46f7a760dc",
   "metadata": {
    "tags": []
   },
   "outputs": [],
   "source": [
    "dilithium1 = Dilithium(params = Recommended)\n",
    "dilithium2 = Dilithium(params = Recommended)\n",
    "mensagem = b\"Grupo 17, EC 2022/2023\""
   ]
  },
  {
   "cell_type": "markdown",
   "id": "fd8aecd8-9174-451c-b290-8aef75859b69",
   "metadata": {},
   "source": [
    "#### Teste 1: Verificar se o esquema valida corretamente uma assinatura"
   ]
  },
  {
   "cell_type": "code",
   "execution_count": 5,
   "id": "1d5ad37b-2966-4a60-971a-e8c37705303f",
   "metadata": {
    "tags": []
   },
   "outputs": [
    {
     "name": "stdout",
     "output_type": "stream",
     "text": [
      "Teste 1 (True): True\n"
     ]
    }
   ],
   "source": [
    "# Assinar uma mensagem\n",
    "ass = dilithium1.assinar(mensagem)\n",
    "# Verificar a assinatura\n",
    "print(\"Teste 1 (True):\", dilithium1.verificar(mensagem, ass))"
   ]
  },
  {
   "cell_type": "markdown",
   "id": "ce139b36-c85f-47f2-b613-78c5744cd747",
   "metadata": {},
   "source": [
    "#### Teste 2: Verificar se o esquema reconhece quando os dados assinados são diferentes"
   ]
  },
  {
   "cell_type": "code",
   "execution_count": 7,
   "id": "8634836d-db36-4dfc-b8fe-0d90ca3fef97",
   "metadata": {
    "tags": []
   },
   "outputs": [
    {
     "name": "stdout",
     "output_type": "stream",
     "text": [
      "Teste 2 (False): False\n"
     ]
    }
   ],
   "source": [
    "# Assinar uma mensagem\n",
    "ass = dilithium1.assinar(mensagem)\n",
    "# Verificar a assinatura\n",
    "print(\"Teste 2 (False):\", dilithium1.verificar(b\"Estruturas Criptograficas\", ass))"
   ]
  },
  {
   "cell_type": "markdown",
   "id": "e07b62bd-413f-4b83-877e-080348d65ce8",
   "metadata": {},
   "source": [
    "#### Teste 3: Verificar se existe relação entre instâncias diferentes"
   ]
  },
  {
   "cell_type": "code",
   "execution_count": 8,
   "id": "7f64b391-3405-481e-a5f9-8c5ff9aba180",
   "metadata": {
    "tags": []
   },
   "outputs": [
    {
     "name": "stdout",
     "output_type": "stream",
     "text": [
      "Teste 3 (False): False\n"
     ]
    }
   ],
   "source": [
    "# Assinar uma mensagem\n",
    "ass = dilithium1.assinar(mensagem)\n",
    "# Verificar a assinatura\n",
    "print(\"Teste 3 (False):\", dilithium2.verificar(mensagem, ass))"
   ]
  }
 ],
 "metadata": {
  "kernelspec": {
   "display_name": "SageMath 9.8",
   "language": "sage",
   "name": "sagemath"
  },
  "language_info": {
   "codemirror_mode": {
    "name": "ipython",
    "version": 3
   },
   "file_extension": ".py",
   "mimetype": "text/x-python",
   "name": "python",
   "nbconvert_exporter": "python",
   "pygments_lexer": "ipython3",
   "version": "3.10.9"
  }
 },
 "nbformat": 4,
 "nbformat_minor": 5
}
